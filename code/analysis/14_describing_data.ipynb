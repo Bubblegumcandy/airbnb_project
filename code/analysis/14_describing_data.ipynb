{
 "cells": [
  {
   "cell_type": "markdown",
   "metadata": {},
   "source": [
    "# 14. Describing Data"
   ]
  },
  {
   "cell_type": "markdown",
   "metadata": {},
   "source": [
    "> \"Facts are stubborn things, but statistics are pliable.” ~ Mark Twain\n",
    "\n",
    "> “Most people use statistics like a drunk man uses a lamppost; more for support than illumination” ~ Andrew Lang\n",
    "\n",
    "> “Statistics don't determine whether you find love or get married. You do!” ~ Suzette Vearnon "
   ]
  },
  {
   "cell_type": "markdown",
   "metadata": {},
   "source": [
    "![inequality](https://i1.wp.com/flowingdata.com/wp-content/uploads/2020/12/Tudor-Networks.png?resize=1536%2C1439&ssl=1)\n",
    "**Source:** [Tudor Networks by Kim Albrecht, Ruth Ahnert, and Sebastian Ahnert](http://tudornetworks.net/)\n",
    "\n",
    "**What are descriptive statistics?**\n",
    "\n",
    "Descriptive Statistics is the process of describing and presenting your data. This is usually done through tables, visualisations and written descriptions of data. For example, if you conduct a survey to find out how much people like a particular brand, you will want to report the number of people that took the survey (the count), the average, minimum, and maximum age or even the median income of every respondant. With these data alone, we could move onto to making more informed and important decisions.\n",
    "\n",
    "In the previous survey example, every survey taker would be a row, and every question in that survey would form the columns (see the table below). Income, age, and favourite brand, would all represent different arrays or vectors of information in a two-dimensional matrix or dataset.\n",
    "\n",
    "|    Name   |   Income  |  Age  | Favourite Brand |\n",
    "|-----------|-----------|-------|-----------------|\n",
    "|  Abraham  |   70,000  |   25  |   Nike          |\n",
    "|  Lisa     |  110,000  |   31  |   Apple         |\n",
    "|  Mark     |   80,000  |   24  |   Garmin        |\n",
    "|  Penelope |   55,000  |   49  |   Microsoft     |\n",
    "|  Michaela |   74,000  |   51  |   ZARA          |\n",
    "|  Nicholas |   61,000  |   36  |   Adiddas       |\n",
    "\n",
    "Every one of these arrays can represent a categrorical or quantitative variable. Since data are often messy and even unstructured, we might also find other data structures, or free text (long strings) as the elements of a table like the one above. For the most part though, we will focus on the two types of variables we will often see, quantitative and categorical variables to describe our dataset.\n",
    "\n",
    "Descriptive statistics are often shown through tables and visualisations. For example, imagine you'd like to know how the average life expectancy of people at age 60 in different countries has changed over time. That visualisation would look like the one below.\n",
    "\n",
    "![life_exp](pictures/live_exp.png)\n",
    "\n",
    "__So what should we look for when we want to describe data?__ We want to look for information that gives us facts about the data, such as the most common value of a set of characteristics, how far is a given value in a variable from the average value of that same variable (e.g. how far is the age of a teacher selected at random in all the schools in Sydney from the average age of all teachers in New South Wales). These two kinds of values, the average of a set and the variability of each value in a set, are part of what is known as measures of central tendency and measures of variability, respectively.\n",
    "\n",
    "__Measures of Central tendency__, also classified as summary statistics, are calculations that help us describe any data point in our dataset in relation to the most common values. The most common determinants of central tendency are the mean, median, and mode.\n",
    "\n",
    "__Measures of Variability__ tell us how spread-out our data is. Think about this as how much variation there is, whether up or down, in the income of your closest friends to that of the income of the average Australian. That distance from the income of your friends to the most common income (the average of all) gives us insights as to how much income variability there is in the entire population of Australia. In this instance, your friends would be consider a sample of the population. The most common measures of variability are the range, variance and standard deviation.\n",
    "\n",
    "**How do we describe categories and quantities?**\n",
    "\n",
    "Categorical variables can be shown using frequency tables and visualisations where each category of the variable is given a number representing the amount of times that category was found in the dataset. For example, a question in a survey containing answer choices ranging from Strongly Agree to Strongly Disagree will have 5 categories.\n",
    "\n",
    "Quantitative variables, on the other hand, can be summarised with averages, percentiles, scatterplots, etc., and tend to provide different perspectives and insights than qualitative variables.\n",
    "\n",
    "The most useful set of facts we will need will often come from a combination of both, qualitative and quantitative variables. Nontheless, Descriptive Statistics are not only an essential step in the data analytics cycle but are also specially useful when we have a lot of data and want to convey relevant a message with relevant information fast.\n",
    "\n",
    "Let's go over each one of the most important descriptive statistics."
   ]
  },
  {
   "cell_type": "code",
   "execution_count": 1,
   "metadata": {},
   "outputs": [],
   "source": [
    "import pandas as pd\n",
    "import numpy as np\n",
    "import matplotlib.pyplot as plt\n",
    "import seaborn as sns\n",
    "from utilities import check_or_add\n",
    "import os\n",
    "\n",
    "plt.style.use('fivethirtyeight')\n",
    "pd.set_option('display.max_columns', None)\n",
    "pd.set_option('display.max_rows', None)\n",
    "\n",
    "# Setting pandas fload option to 5 decimal places helps us get rid of scientific notation\n",
    "pd.options.display.float_format = '{:.3f}'.format\n",
    "\n",
    "%matplotlib inline\n",
    "%load_ext autoreload"
   ]
  },
  {
   "cell_type": "code",
   "execution_count": 2,
   "metadata": {},
   "outputs": [],
   "source": [
    "#path = '../data'\n",
    "\n",
    "# for windows users\n",
    "path = '..\\data'"
   ]
  },
  {
   "cell_type": "code",
   "execution_count": 3,
   "metadata": {},
   "outputs": [
    {
     "data": {
      "text/plain": [
       "'..\\\\data\\\\clean_parquet\\\\clean_airbnb.parquet'"
      ]
     },
     "execution_count": 3,
     "metadata": {},
     "output_type": "execute_result"
    }
   ],
   "source": [
    "# os.path.join allows joining of paths or files regardless of Operating System\n",
    "\n",
    "parquet_file = os.path.join(check_or_add(path, 'clean_parquet'), 'clean_airbnb.parquet')\n",
    "\n",
    "csv_file = os.path.join(check_or_add(path, 'clean_csv'), 'clean_airbnb.csv')\n",
    "\n",
    "parquet_file"
   ]
  },
  {
   "cell_type": "code",
   "execution_count": 4,
   "metadata": {},
   "outputs": [],
   "source": [
    "df = pd.read_parquet(parquet_file)"
   ]
  },
  {
   "cell_type": "code",
   "execution_count": 5,
   "metadata": {},
   "outputs": [
    {
     "name": "stdout",
     "output_type": "stream",
     "text": [
      "<class 'pandas.core.frame.DataFrame'>\n",
      "Int64Index: 39742 entries, 5866 to 16149\n",
      "Data columns (total 95 columns):\n",
      " #   Column                                        Non-Null Count  Dtype  \n",
      "---  ------                                        --------------  -----  \n",
      " 0   id                                            39742 non-null  object \n",
      " 1   listing_url                                   39742 non-null  object \n",
      " 2   scrape_id                                     39742 non-null  object \n",
      " 3   last_scraped                                  39742 non-null  object \n",
      " 4   name                                          39742 non-null  object \n",
      " 5   summary                                       39742 non-null  object \n",
      " 6   space                                         39742 non-null  object \n",
      " 7   description                                   39742 non-null  object \n",
      " 8   experiences_offered                           39742 non-null  object \n",
      " 9   neighborhood_overview                         39742 non-null  object \n",
      " 10  notes                                         39742 non-null  object \n",
      " 11  transit                                       39742 non-null  object \n",
      " 12  access                                        39742 non-null  object \n",
      " 13  interaction                                   39742 non-null  object \n",
      " 14  house_rules                                   39742 non-null  object \n",
      " 15  picture_url                                   39742 non-null  object \n",
      " 16  host_id                                       39742 non-null  object \n",
      " 17  host_url                                      39742 non-null  object \n",
      " 18  host_name                                     39742 non-null  object \n",
      " 19  host_since                                    39742 non-null  object \n",
      " 20  host_location                                 39742 non-null  object \n",
      " 21  host_about                                    39742 non-null  object \n",
      " 22  host_response_time                            39742 non-null  object \n",
      " 23  host_is_superhost                             39742 non-null  object \n",
      " 24  host_thumbnail_url                            39742 non-null  object \n",
      " 25  host_picture_url                              39742 non-null  object \n",
      " 26  host_verifications                            39742 non-null  object \n",
      " 27  host_has_profile_pic                          39742 non-null  object \n",
      " 28  host_identity_verified                        39742 non-null  object \n",
      " 29  street                                        39742 non-null  object \n",
      " 30  neighbourhood_cleansed                        39742 non-null  object \n",
      " 31  city                                          39742 non-null  object \n",
      " 32  state                                         39742 non-null  object \n",
      " 33  zipcode                                       39742 non-null  object \n",
      " 34  market                                        39742 non-null  object \n",
      " 35  smart_location                                39742 non-null  object \n",
      " 36  country_code                                  39742 non-null  object \n",
      " 37  country                                       39742 non-null  object \n",
      " 38  is_location_exact                             39742 non-null  object \n",
      " 39  property_type                                 39742 non-null  object \n",
      " 40  room_type                                     39742 non-null  object \n",
      " 41  bed_type                                      39742 non-null  object \n",
      " 42  amenities                                     39742 non-null  object \n",
      " 43  minimum_nights                                39742 non-null  object \n",
      " 44  maximum_nights                                39742 non-null  object \n",
      " 45  calendar_updated                              39742 non-null  object \n",
      " 46  has_availability                              39742 non-null  object \n",
      " 47  calendar_last_scraped                         39742 non-null  object \n",
      " 48  requires_license                              39742 non-null  object \n",
      " 49  instant_bookable                              39742 non-null  object \n",
      " 50  is_business_travel_ready                      39742 non-null  object \n",
      " 51  cancellation_policy                           39742 non-null  object \n",
      " 52  require_guest_profile_picture                 39742 non-null  object \n",
      " 53  require_guest_phone_verification              39742 non-null  object \n",
      " 54  first_review                                  39742 non-null  object \n",
      " 55  last_review                                   39742 non-null  object \n",
      " 56  latitude                                      39742 non-null  float32\n",
      " 57  longitude                                     39742 non-null  float32\n",
      " 58  bathrooms                                     39742 non-null  float32\n",
      " 59  price                                         39742 non-null  float32\n",
      " 60  extra_people                                  39742 non-null  float32\n",
      " 61  minimum_nights_avg_ntm                        39742 non-null  float32\n",
      " 62  maximum_nights_avg_ntm                        39742 non-null  float32\n",
      " 63  accommodates                                  39742 non-null  int32  \n",
      " 64  guests_included                               39742 non-null  int32  \n",
      " 65  minimum_minimum_nights                        39742 non-null  int32  \n",
      " 66  maximum_minimum_nights                        39742 non-null  int32  \n",
      " 67  minimum_maximum_nights                        39742 non-null  int32  \n",
      " 68  maximum_maximum_nights                        39742 non-null  int32  \n",
      " 69  availability_30                               39742 non-null  int32  \n",
      " 70  availability_60                               39742 non-null  int32  \n",
      " 71  availability_90                               39742 non-null  int32  \n",
      " 72  availability_365                              39742 non-null  int32  \n",
      " 73  number_of_reviews                             39742 non-null  int32  \n",
      " 74  number_of_reviews_ltm                         39742 non-null  int32  \n",
      " 75  calculated_host_listings_count                39742 non-null  int32  \n",
      " 76  calculated_host_listings_count_entire_homes   39742 non-null  int32  \n",
      " 77  bedrooms                                      39742 non-null  int32  \n",
      " 78  beds                                          39742 non-null  int32  \n",
      " 79  calculated_host_listings_count_private_rooms  39742 non-null  int32  \n",
      " 80  calculated_host_listings_count_shared_rooms   39742 non-null  int32  \n",
      " 81  host_listings_count                           39742 non-null  int32  \n",
      " 82  host_total_listings_count                     39742 non-null  int32  \n",
      " 83  security_deposit                              39742 non-null  float32\n",
      " 84  review_scores_communication                   39742 non-null  float32\n",
      " 85  review_scores_checkin                         39742 non-null  float32\n",
      " 86  review_scores_location                        39742 non-null  float32\n",
      " 87  review_scores_value                           39742 non-null  float32\n",
      " 88  review_scores_cleanliness                     39742 non-null  float32\n",
      " 89  review_scores_accuracy                        39742 non-null  float32\n",
      " 90  reviews_per_month                             39742 non-null  float32\n",
      " 91  host_acceptance_rate                          39742 non-null  float32\n",
      " 92  host_response_rate                            39742 non-null  float32\n",
      " 93  review_scores_rating                          39742 non-null  float32\n",
      " 94  cleaning_fee                                  39742 non-null  float32\n",
      "dtypes: float32(19), int32(20), object(56)\n",
      "memory usage: 334.8 MB\n"
     ]
    }
   ],
   "source": [
    "df.info(memory_usage='deep')"
   ]
  },
  {
   "cell_type": "code",
   "execution_count": 6,
   "metadata": {},
   "outputs": [
    {
     "data": {
      "text/html": [
       "<div>\n",
       "<style scoped>\n",
       "    .dataframe tbody tr th:only-of-type {\n",
       "        vertical-align: middle;\n",
       "    }\n",
       "\n",
       "    .dataframe tbody tr th {\n",
       "        vertical-align: top;\n",
       "    }\n",
       "\n",
       "    .dataframe thead th {\n",
       "        text-align: right;\n",
       "    }\n",
       "</style>\n",
       "<table border=\"1\" class=\"dataframe\">\n",
       "  <thead>\n",
       "    <tr style=\"text-align: right;\">\n",
       "      <th></th>\n",
       "      <th>id</th>\n",
       "      <th>listing_url</th>\n",
       "      <th>scrape_id</th>\n",
       "      <th>last_scraped</th>\n",
       "      <th>name</th>\n",
       "      <th>summary</th>\n",
       "      <th>space</th>\n",
       "      <th>description</th>\n",
       "      <th>experiences_offered</th>\n",
       "      <th>neighborhood_overview</th>\n",
       "      <th>notes</th>\n",
       "      <th>transit</th>\n",
       "      <th>access</th>\n",
       "      <th>interaction</th>\n",
       "      <th>house_rules</th>\n",
       "      <th>picture_url</th>\n",
       "      <th>host_id</th>\n",
       "      <th>host_url</th>\n",
       "      <th>host_name</th>\n",
       "      <th>host_since</th>\n",
       "      <th>host_location</th>\n",
       "      <th>host_about</th>\n",
       "      <th>host_response_time</th>\n",
       "      <th>host_is_superhost</th>\n",
       "      <th>host_thumbnail_url</th>\n",
       "      <th>host_picture_url</th>\n",
       "      <th>host_verifications</th>\n",
       "      <th>host_has_profile_pic</th>\n",
       "      <th>host_identity_verified</th>\n",
       "      <th>street</th>\n",
       "      <th>neighbourhood_cleansed</th>\n",
       "      <th>city</th>\n",
       "      <th>state</th>\n",
       "      <th>zipcode</th>\n",
       "      <th>market</th>\n",
       "      <th>smart_location</th>\n",
       "      <th>country_code</th>\n",
       "      <th>country</th>\n",
       "      <th>is_location_exact</th>\n",
       "      <th>property_type</th>\n",
       "      <th>room_type</th>\n",
       "      <th>bed_type</th>\n",
       "      <th>amenities</th>\n",
       "      <th>minimum_nights</th>\n",
       "      <th>maximum_nights</th>\n",
       "      <th>calendar_updated</th>\n",
       "      <th>has_availability</th>\n",
       "      <th>calendar_last_scraped</th>\n",
       "      <th>requires_license</th>\n",
       "      <th>instant_bookable</th>\n",
       "      <th>is_business_travel_ready</th>\n",
       "      <th>cancellation_policy</th>\n",
       "      <th>require_guest_profile_picture</th>\n",
       "      <th>require_guest_phone_verification</th>\n",
       "      <th>first_review</th>\n",
       "      <th>last_review</th>\n",
       "      <th>latitude</th>\n",
       "      <th>longitude</th>\n",
       "      <th>bathrooms</th>\n",
       "      <th>price</th>\n",
       "      <th>extra_people</th>\n",
       "      <th>minimum_nights_avg_ntm</th>\n",
       "      <th>maximum_nights_avg_ntm</th>\n",
       "      <th>accommodates</th>\n",
       "      <th>guests_included</th>\n",
       "      <th>minimum_minimum_nights</th>\n",
       "      <th>maximum_minimum_nights</th>\n",
       "      <th>minimum_maximum_nights</th>\n",
       "      <th>maximum_maximum_nights</th>\n",
       "      <th>availability_30</th>\n",
       "      <th>availability_60</th>\n",
       "      <th>availability_90</th>\n",
       "      <th>availability_365</th>\n",
       "      <th>number_of_reviews</th>\n",
       "      <th>number_of_reviews_ltm</th>\n",
       "      <th>calculated_host_listings_count</th>\n",
       "      <th>calculated_host_listings_count_entire_homes</th>\n",
       "      <th>bedrooms</th>\n",
       "      <th>beds</th>\n",
       "      <th>calculated_host_listings_count_private_rooms</th>\n",
       "      <th>calculated_host_listings_count_shared_rooms</th>\n",
       "      <th>host_listings_count</th>\n",
       "      <th>host_total_listings_count</th>\n",
       "      <th>security_deposit</th>\n",
       "      <th>review_scores_communication</th>\n",
       "      <th>review_scores_checkin</th>\n",
       "      <th>review_scores_location</th>\n",
       "      <th>review_scores_value</th>\n",
       "      <th>review_scores_cleanliness</th>\n",
       "      <th>review_scores_accuracy</th>\n",
       "      <th>reviews_per_month</th>\n",
       "      <th>host_acceptance_rate</th>\n",
       "      <th>host_response_rate</th>\n",
       "      <th>review_scores_rating</th>\n",
       "      <th>cleaning_fee</th>\n",
       "    </tr>\n",
       "  </thead>\n",
       "  <tbody>\n",
       "    <tr>\n",
       "      <th>5866</th>\n",
       "      <td>31000095</td>\n",
       "      <td>https://www.airbnb.com/rooms/31000095</td>\n",
       "      <td>20200625032351</td>\n",
       "      <td>2020-06-26</td>\n",
       "      <td>Shinjuku  JR Shin-okubo sta. 3mins Homely House</td>\n",
       "      <td>The district Shinjuku area,nearby JR Shin-okub...</td>\n",
       "      <td>Three-storey building, four rooms: The first f...</td>\n",
       "      <td>The district Shinjuku area,nearby JR Shin-okub...</td>\n",
       "      <td>none</td>\n",
       "      <td>Shin-Okubo Station is famous for its Korean ci...</td>\n",
       "      <td>Basically check in time at 16:00 / check out t...</td>\n",
       "      <td>◎ There are two nearest stations, namely Shin-...</td>\n",
       "      <td>The new decoration and equipment, we hope you ...</td>\n",
       "      <td>Any problem in Tokyo can provide assistance du...</td>\n",
       "      <td>Unknown</td>\n",
       "      <td>https://a0.muscache.com/im/pictures/92e9a30d-a...</td>\n",
       "      <td>23641660</td>\n",
       "      <td>https://www.airbnb.com/users/show/23641660</td>\n",
       "      <td>Airi</td>\n",
       "      <td>2014-11-12</td>\n",
       "      <td>Toshima, Tokyo, Japan</td>\n",
       "      <td>Unknown</td>\n",
       "      <td>within an hour</td>\n",
       "      <td>f</td>\n",
       "      <td>https://a0.muscache.com/im/users/23641660/prof...</td>\n",
       "      <td>https://a0.muscache.com/im/users/23641660/prof...</td>\n",
       "      <td>['email', 'phone', 'jumio', 'selfie', 'governm...</td>\n",
       "      <td>t</td>\n",
       "      <td>f</td>\n",
       "      <td>Shinjuku, Tokyo, Japan</td>\n",
       "      <td>Shinjuku Ku</td>\n",
       "      <td>Shinjuku</td>\n",
       "      <td>Tokyo</td>\n",
       "      <td>169-0073</td>\n",
       "      <td>Tokyo</td>\n",
       "      <td>Shinjuku, Japan</td>\n",
       "      <td>JP</td>\n",
       "      <td>Japan</td>\n",
       "      <td>t</td>\n",
       "      <td>House</td>\n",
       "      <td>Entire home/apt</td>\n",
       "      <td>Real Bed</td>\n",
       "      <td>{TV,Wifi,\"Air conditioning\",Kitchen,Heating,Wa...</td>\n",
       "      <td>2</td>\n",
       "      <td>1125</td>\n",
       "      <td>3 months ago</td>\n",
       "      <td>t</td>\n",
       "      <td>2020-06-26</td>\n",
       "      <td>t</td>\n",
       "      <td>t</td>\n",
       "      <td>f</td>\n",
       "      <td>flexible</td>\n",
       "      <td>f</td>\n",
       "      <td>f</td>\n",
       "      <td>2019-02-26</td>\n",
       "      <td>2020-03-11</td>\n",
       "      <td>35.699</td>\n",
       "      <td>139.698</td>\n",
       "      <td>2.000</td>\n",
       "      <td>605.050</td>\n",
       "      <td>20.582</td>\n",
       "      <td>2.000</td>\n",
       "      <td>1125.000</td>\n",
       "      <td>11</td>\n",
       "      <td>2</td>\n",
       "      <td>2</td>\n",
       "      <td>2</td>\n",
       "      <td>1125</td>\n",
       "      <td>1125</td>\n",
       "      <td>26</td>\n",
       "      <td>46</td>\n",
       "      <td>63</td>\n",
       "      <td>149</td>\n",
       "      <td>19</td>\n",
       "      <td>13</td>\n",
       "      <td>2</td>\n",
       "      <td>2</td>\n",
       "      <td>4</td>\n",
       "      <td>7</td>\n",
       "      <td>0</td>\n",
       "      <td>0</td>\n",
       "      <td>12</td>\n",
       "      <td>12</td>\n",
       "      <td>205.795</td>\n",
       "      <td>9.000</td>\n",
       "      <td>9.000</td>\n",
       "      <td>10.000</td>\n",
       "      <td>9.000</td>\n",
       "      <td>9.000</td>\n",
       "      <td>10.000</td>\n",
       "      <td>1.170</td>\n",
       "      <td>100.000</td>\n",
       "      <td>100.000</td>\n",
       "      <td>91.000</td>\n",
       "      <td>82.320</td>\n",
       "    </tr>\n",
       "    <tr>\n",
       "      <th>13341</th>\n",
       "      <td>42388049</td>\n",
       "      <td>https://www.airbnb.com/rooms/42388049</td>\n",
       "      <td>20200625032351</td>\n",
       "      <td>2020-06-26</td>\n",
       "      <td>MUMU) Tokyo's premier center Shinjuku! Free WIFI</td>\n",
       "      <td>** Discount for May&amp;June! ** Duplex Apartment ...</td>\n",
       "      <td>It is located a 7-minute walk from Higashi-Shi...</td>\n",
       "      <td>** Discount for May&amp;June! ** Duplex Apartment ...</td>\n",
       "      <td>none</td>\n",
       "      <td>The best thing of my place is the accessibilit...</td>\n",
       "      <td>EASY Check-in and Checkout: Happy to be flexib...</td>\n",
       "      <td>Higashi Shinjuku station - 7mins on foot. JR S...</td>\n",
       "      <td>You will have full kitchen with everything you...</td>\n",
       "      <td>I am more than willing to help you out if you ...</td>\n",
       "      <td>Unknown</td>\n",
       "      <td>https://a0.muscache.com/im/pictures/c5606851-1...</td>\n",
       "      <td>30451776</td>\n",
       "      <td>https://www.airbnb.com/users/show/30451776</td>\n",
       "      <td>Emily</td>\n",
       "      <td>2015-04-02</td>\n",
       "      <td>Tokyo、日本</td>\n",
       "      <td>Hello, guys! My name is Emily. \\r\\nI love to t...</td>\n",
       "      <td>within an hour</td>\n",
       "      <td>f</td>\n",
       "      <td>https://a0.muscache.com/im/pictures/user/6ab9c...</td>\n",
       "      <td>https://a0.muscache.com/im/pictures/user/6ab9c...</td>\n",
       "      <td>['email', 'phone', 'manual_offline', 'offline_...</td>\n",
       "      <td>t</td>\n",
       "      <td>f</td>\n",
       "      <td>Shinjuku City, Tōkyō-to, Japan</td>\n",
       "      <td>Shinjuku Ku</td>\n",
       "      <td>Shinjuku City</td>\n",
       "      <td>Tōkyō-to</td>\n",
       "      <td>160-0022</td>\n",
       "      <td>Tokyo</td>\n",
       "      <td>Shinjuku City, Japan</td>\n",
       "      <td>JP</td>\n",
       "      <td>Japan</td>\n",
       "      <td>t</td>\n",
       "      <td>House</td>\n",
       "      <td>Entire home/apt</td>\n",
       "      <td>Real Bed</td>\n",
       "      <td>{TV,Wifi,\"Air conditioning\",Kitchen,Heating,Wa...</td>\n",
       "      <td>1</td>\n",
       "      <td>1125</td>\n",
       "      <td>3 months ago</td>\n",
       "      <td>t</td>\n",
       "      <td>2020-06-26</td>\n",
       "      <td>t</td>\n",
       "      <td>t</td>\n",
       "      <td>f</td>\n",
       "      <td>strict_14_with_grace_period</td>\n",
       "      <td>f</td>\n",
       "      <td>f</td>\n",
       "      <td>2020-04-03</td>\n",
       "      <td>2020-04-30</td>\n",
       "      <td>35.701</td>\n",
       "      <td>139.712</td>\n",
       "      <td>1.000</td>\n",
       "      <td>192.422</td>\n",
       "      <td>28.800</td>\n",
       "      <td>1.000</td>\n",
       "      <td>1125.000</td>\n",
       "      <td>7</td>\n",
       "      <td>3</td>\n",
       "      <td>1</td>\n",
       "      <td>1</td>\n",
       "      <td>1125</td>\n",
       "      <td>1125</td>\n",
       "      <td>26</td>\n",
       "      <td>42</td>\n",
       "      <td>67</td>\n",
       "      <td>197</td>\n",
       "      <td>2</td>\n",
       "      <td>2</td>\n",
       "      <td>19</td>\n",
       "      <td>18</td>\n",
       "      <td>3</td>\n",
       "      <td>1</td>\n",
       "      <td>1</td>\n",
       "      <td>0</td>\n",
       "      <td>24</td>\n",
       "      <td>24</td>\n",
       "      <td>0.000</td>\n",
       "      <td>9.000</td>\n",
       "      <td>8.000</td>\n",
       "      <td>8.000</td>\n",
       "      <td>10.000</td>\n",
       "      <td>10.000</td>\n",
       "      <td>8.000</td>\n",
       "      <td>0.710</td>\n",
       "      <td>100.000</td>\n",
       "      <td>99.000</td>\n",
       "      <td>100.000</td>\n",
       "      <td>96.000</td>\n",
       "    </tr>\n",
       "    <tr>\n",
       "      <th>3738</th>\n",
       "      <td>26853484</td>\n",
       "      <td>https://www.airbnb.com/rooms/26853484</td>\n",
       "      <td>20200625032351</td>\n",
       "      <td>2020-06-26</td>\n",
       "      <td>Newly constructed 1R Mansion!Near Ueno Asakusa !</td>\n",
       "      <td>◆My house is a new building 7 min. Walk from M...</td>\n",
       "      <td>◆My house is a new building 7 min. Walk from M...</td>\n",
       "      <td>◆My house is a new building 7 min. Walk from M...</td>\n",
       "      <td>none</td>\n",
       "      <td>My house is a 7-minute walk from Minami-Senju ...</td>\n",
       "      <td>After confirming the reservation, I will send ...</td>\n",
       "      <td>Tokyo Metro Hibiya Line / Minami-Senju Station...</td>\n",
       "      <td>All rooms are free to use.</td>\n",
       "      <td>I am not staying at this house. However, if th...</td>\n",
       "      <td>Unknown</td>\n",
       "      <td>https://a0.muscache.com/im/pictures/57556fdd-b...</td>\n",
       "      <td>193327805</td>\n",
       "      <td>https://www.airbnb.com/users/show/193327805</td>\n",
       "      <td>正明</td>\n",
       "      <td>2018-06-03</td>\n",
       "      <td>JP</td>\n",
       "      <td>Unknown</td>\n",
       "      <td>within an hour</td>\n",
       "      <td>f</td>\n",
       "      <td>https://a0.muscache.com/im/pictures/user/31b3d...</td>\n",
       "      <td>https://a0.muscache.com/im/pictures/user/31b3d...</td>\n",
       "      <td>['email', 'phone', 'jumio', 'offline_governmen...</td>\n",
       "      <td>t</td>\n",
       "      <td>t</td>\n",
       "      <td>Taitō-ku, Tōkyō-to, Japan</td>\n",
       "      <td>Taito Ku</td>\n",
       "      <td>Taitō-ku</td>\n",
       "      <td>Tōkyō-to</td>\n",
       "      <td>111-0021</td>\n",
       "      <td>Tokyo</td>\n",
       "      <td>Taitō-ku, Japan</td>\n",
       "      <td>JP</td>\n",
       "      <td>Japan</td>\n",
       "      <td>t</td>\n",
       "      <td>Apartment</td>\n",
       "      <td>Entire home/apt</td>\n",
       "      <td>Real Bed</td>\n",
       "      <td>{TV,\"Air conditioning\",Kitchen,Washer,\"Smoke a...</td>\n",
       "      <td>2</td>\n",
       "      <td>1125</td>\n",
       "      <td>4 weeks ago</td>\n",
       "      <td>t</td>\n",
       "      <td>2020-06-26</td>\n",
       "      <td>t</td>\n",
       "      <td>t</td>\n",
       "      <td>f</td>\n",
       "      <td>moderate</td>\n",
       "      <td>f</td>\n",
       "      <td>f</td>\n",
       "      <td>2018-07-27</td>\n",
       "      <td>2020-05-31</td>\n",
       "      <td>35.727</td>\n",
       "      <td>139.798</td>\n",
       "      <td>1.000</td>\n",
       "      <td>48.365</td>\n",
       "      <td>0.000</td>\n",
       "      <td>2.000</td>\n",
       "      <td>1125.000</td>\n",
       "      <td>2</td>\n",
       "      <td>1</td>\n",
       "      <td>2</td>\n",
       "      <td>2</td>\n",
       "      <td>1125</td>\n",
       "      <td>1125</td>\n",
       "      <td>22</td>\n",
       "      <td>52</td>\n",
       "      <td>82</td>\n",
       "      <td>89</td>\n",
       "      <td>56</td>\n",
       "      <td>26</td>\n",
       "      <td>16</td>\n",
       "      <td>16</td>\n",
       "      <td>0</td>\n",
       "      <td>1</td>\n",
       "      <td>0</td>\n",
       "      <td>0</td>\n",
       "      <td>15</td>\n",
       "      <td>15</td>\n",
       "      <td>0.000</td>\n",
       "      <td>10.000</td>\n",
       "      <td>10.000</td>\n",
       "      <td>9.000</td>\n",
       "      <td>10.000</td>\n",
       "      <td>10.000</td>\n",
       "      <td>10.000</td>\n",
       "      <td>2.400</td>\n",
       "      <td>100.000</td>\n",
       "      <td>100.000</td>\n",
       "      <td>97.000</td>\n",
       "      <td>63.360</td>\n",
       "    </tr>\n",
       "  </tbody>\n",
       "</table>\n",
       "</div>"
      ],
      "text/plain": [
       "             id                            listing_url       scrape_id  \\\n",
       "5866   31000095  https://www.airbnb.com/rooms/31000095  20200625032351   \n",
       "13341  42388049  https://www.airbnb.com/rooms/42388049  20200625032351   \n",
       "3738   26853484  https://www.airbnb.com/rooms/26853484  20200625032351   \n",
       "\n",
       "      last_scraped                                              name  \\\n",
       "5866    2020-06-26   Shinjuku  JR Shin-okubo sta. 3mins Homely House   \n",
       "13341   2020-06-26  MUMU) Tokyo's premier center Shinjuku! Free WIFI   \n",
       "3738    2020-06-26  Newly constructed 1R Mansion!Near Ueno Asakusa !   \n",
       "\n",
       "                                                 summary  \\\n",
       "5866   The district Shinjuku area,nearby JR Shin-okub...   \n",
       "13341  ** Discount for May&June! ** Duplex Apartment ...   \n",
       "3738   ◆My house is a new building 7 min. Walk from M...   \n",
       "\n",
       "                                                   space  \\\n",
       "5866   Three-storey building, four rooms: The first f...   \n",
       "13341  It is located a 7-minute walk from Higashi-Shi...   \n",
       "3738   ◆My house is a new building 7 min. Walk from M...   \n",
       "\n",
       "                                             description experiences_offered  \\\n",
       "5866   The district Shinjuku area,nearby JR Shin-okub...                none   \n",
       "13341  ** Discount for May&June! ** Duplex Apartment ...                none   \n",
       "3738   ◆My house is a new building 7 min. Walk from M...                none   \n",
       "\n",
       "                                   neighborhood_overview  \\\n",
       "5866   Shin-Okubo Station is famous for its Korean ci...   \n",
       "13341  The best thing of my place is the accessibilit...   \n",
       "3738   My house is a 7-minute walk from Minami-Senju ...   \n",
       "\n",
       "                                                   notes  \\\n",
       "5866   Basically check in time at 16:00 / check out t...   \n",
       "13341  EASY Check-in and Checkout: Happy to be flexib...   \n",
       "3738   After confirming the reservation, I will send ...   \n",
       "\n",
       "                                                 transit  \\\n",
       "5866   ◎ There are two nearest stations, namely Shin-...   \n",
       "13341  Higashi Shinjuku station - 7mins on foot. JR S...   \n",
       "3738   Tokyo Metro Hibiya Line / Minami-Senju Station...   \n",
       "\n",
       "                                                  access  \\\n",
       "5866   The new decoration and equipment, we hope you ...   \n",
       "13341  You will have full kitchen with everything you...   \n",
       "3738                          All rooms are free to use.   \n",
       "\n",
       "                                             interaction house_rules  \\\n",
       "5866   Any problem in Tokyo can provide assistance du...     Unknown   \n",
       "13341  I am more than willing to help you out if you ...     Unknown   \n",
       "3738   I am not staying at this house. However, if th...     Unknown   \n",
       "\n",
       "                                             picture_url    host_id  \\\n",
       "5866   https://a0.muscache.com/im/pictures/92e9a30d-a...   23641660   \n",
       "13341  https://a0.muscache.com/im/pictures/c5606851-1...   30451776   \n",
       "3738   https://a0.muscache.com/im/pictures/57556fdd-b...  193327805   \n",
       "\n",
       "                                          host_url host_name  host_since  \\\n",
       "5866    https://www.airbnb.com/users/show/23641660      Airi  2014-11-12   \n",
       "13341   https://www.airbnb.com/users/show/30451776     Emily  2015-04-02   \n",
       "3738   https://www.airbnb.com/users/show/193327805        正明  2018-06-03   \n",
       "\n",
       "               host_location  \\\n",
       "5866   Toshima, Tokyo, Japan   \n",
       "13341               Tokyo、日本   \n",
       "3738                      JP   \n",
       "\n",
       "                                              host_about host_response_time  \\\n",
       "5866                                             Unknown     within an hour   \n",
       "13341  Hello, guys! My name is Emily. \\r\\nI love to t...     within an hour   \n",
       "3738                                             Unknown     within an hour   \n",
       "\n",
       "      host_is_superhost                                 host_thumbnail_url  \\\n",
       "5866                  f  https://a0.muscache.com/im/users/23641660/prof...   \n",
       "13341                 f  https://a0.muscache.com/im/pictures/user/6ab9c...   \n",
       "3738                  f  https://a0.muscache.com/im/pictures/user/31b3d...   \n",
       "\n",
       "                                        host_picture_url  \\\n",
       "5866   https://a0.muscache.com/im/users/23641660/prof...   \n",
       "13341  https://a0.muscache.com/im/pictures/user/6ab9c...   \n",
       "3738   https://a0.muscache.com/im/pictures/user/31b3d...   \n",
       "\n",
       "                                      host_verifications host_has_profile_pic  \\\n",
       "5866   ['email', 'phone', 'jumio', 'selfie', 'governm...                    t   \n",
       "13341  ['email', 'phone', 'manual_offline', 'offline_...                    t   \n",
       "3738   ['email', 'phone', 'jumio', 'offline_governmen...                    t   \n",
       "\n",
       "      host_identity_verified                          street  \\\n",
       "5866                       f          Shinjuku, Tokyo, Japan   \n",
       "13341                      f  Shinjuku City, Tōkyō-to, Japan   \n",
       "3738                       t       Taitō-ku, Tōkyō-to, Japan   \n",
       "\n",
       "      neighbourhood_cleansed           city     state   zipcode market  \\\n",
       "5866             Shinjuku Ku       Shinjuku     Tokyo  169-0073  Tokyo   \n",
       "13341            Shinjuku Ku  Shinjuku City  Tōkyō-to  160-0022  Tokyo   \n",
       "3738                Taito Ku       Taitō-ku  Tōkyō-to  111-0021  Tokyo   \n",
       "\n",
       "             smart_location country_code country is_location_exact  \\\n",
       "5866        Shinjuku, Japan           JP   Japan                 t   \n",
       "13341  Shinjuku City, Japan           JP   Japan                 t   \n",
       "3738        Taitō-ku, Japan           JP   Japan                 t   \n",
       "\n",
       "      property_type        room_type  bed_type  \\\n",
       "5866          House  Entire home/apt  Real Bed   \n",
       "13341         House  Entire home/apt  Real Bed   \n",
       "3738      Apartment  Entire home/apt  Real Bed   \n",
       "\n",
       "                                               amenities minimum_nights  \\\n",
       "5866   {TV,Wifi,\"Air conditioning\",Kitchen,Heating,Wa...              2   \n",
       "13341  {TV,Wifi,\"Air conditioning\",Kitchen,Heating,Wa...              1   \n",
       "3738   {TV,\"Air conditioning\",Kitchen,Washer,\"Smoke a...              2   \n",
       "\n",
       "      maximum_nights calendar_updated has_availability calendar_last_scraped  \\\n",
       "5866            1125     3 months ago                t            2020-06-26   \n",
       "13341           1125     3 months ago                t            2020-06-26   \n",
       "3738            1125      4 weeks ago                t            2020-06-26   \n",
       "\n",
       "      requires_license instant_bookable is_business_travel_ready  \\\n",
       "5866                 t                t                        f   \n",
       "13341                t                t                        f   \n",
       "3738                 t                t                        f   \n",
       "\n",
       "               cancellation_policy require_guest_profile_picture  \\\n",
       "5866                      flexible                             f   \n",
       "13341  strict_14_with_grace_period                             f   \n",
       "3738                      moderate                             f   \n",
       "\n",
       "      require_guest_phone_verification first_review last_review  latitude  \\\n",
       "5866                                 f   2019-02-26  2020-03-11    35.699   \n",
       "13341                                f   2020-04-03  2020-04-30    35.701   \n",
       "3738                                 f   2018-07-27  2020-05-31    35.727   \n",
       "\n",
       "       longitude  bathrooms   price  extra_people  minimum_nights_avg_ntm  \\\n",
       "5866     139.698      2.000 605.050        20.582                   2.000   \n",
       "13341    139.712      1.000 192.422        28.800                   1.000   \n",
       "3738     139.798      1.000  48.365         0.000                   2.000   \n",
       "\n",
       "       maximum_nights_avg_ntm  accommodates  guests_included  \\\n",
       "5866                 1125.000            11                2   \n",
       "13341                1125.000             7                3   \n",
       "3738                 1125.000             2                1   \n",
       "\n",
       "       minimum_minimum_nights  maximum_minimum_nights  minimum_maximum_nights  \\\n",
       "5866                        2                       2                    1125   \n",
       "13341                       1                       1                    1125   \n",
       "3738                        2                       2                    1125   \n",
       "\n",
       "       maximum_maximum_nights  availability_30  availability_60  \\\n",
       "5866                     1125               26               46   \n",
       "13341                    1125               26               42   \n",
       "3738                     1125               22               52   \n",
       "\n",
       "       availability_90  availability_365  number_of_reviews  \\\n",
       "5866                63               149                 19   \n",
       "13341               67               197                  2   \n",
       "3738                82                89                 56   \n",
       "\n",
       "       number_of_reviews_ltm  calculated_host_listings_count  \\\n",
       "5866                      13                               2   \n",
       "13341                      2                              19   \n",
       "3738                      26                              16   \n",
       "\n",
       "       calculated_host_listings_count_entire_homes  bedrooms  beds  \\\n",
       "5866                                             2         4     7   \n",
       "13341                                           18         3     1   \n",
       "3738                                            16         0     1   \n",
       "\n",
       "       calculated_host_listings_count_private_rooms  \\\n",
       "5866                                              0   \n",
       "13341                                             1   \n",
       "3738                                              0   \n",
       "\n",
       "       calculated_host_listings_count_shared_rooms  host_listings_count  \\\n",
       "5866                                             0                   12   \n",
       "13341                                            0                   24   \n",
       "3738                                             0                   15   \n",
       "\n",
       "       host_total_listings_count  security_deposit  \\\n",
       "5866                          12           205.795   \n",
       "13341                         24             0.000   \n",
       "3738                          15             0.000   \n",
       "\n",
       "       review_scores_communication  review_scores_checkin  \\\n",
       "5866                         9.000                  9.000   \n",
       "13341                        9.000                  8.000   \n",
       "3738                        10.000                 10.000   \n",
       "\n",
       "       review_scores_location  review_scores_value  review_scores_cleanliness  \\\n",
       "5866                   10.000                9.000                      9.000   \n",
       "13341                   8.000               10.000                     10.000   \n",
       "3738                    9.000               10.000                     10.000   \n",
       "\n",
       "       review_scores_accuracy  reviews_per_month  host_acceptance_rate  \\\n",
       "5866                   10.000              1.170               100.000   \n",
       "13341                   8.000              0.710               100.000   \n",
       "3738                   10.000              2.400               100.000   \n",
       "\n",
       "       host_response_rate  review_scores_rating  cleaning_fee  \n",
       "5866              100.000                91.000        82.320  \n",
       "13341              99.000               100.000        96.000  \n",
       "3738              100.000                97.000        63.360  "
      ]
     },
     "execution_count": 6,
     "metadata": {},
     "output_type": "execute_result"
    }
   ],
   "source": [
    "df.head(3)"
   ]
  },
  {
   "cell_type": "markdown",
   "metadata": {},
   "source": [
    "## Count"
   ]
  },
  {
   "cell_type": "markdown",
   "metadata": {},
   "source": [
    " We will need to know how many observations (also known as the n count) are in our dataset and that is exactly what `len()` gives us. We pass an array of values through the function and it returns the number of all values in that array. `len()` also takes in strings and gives us back the total number of elements inside a string. Please note, counting and adding several numbers is not the same. To put this into perspective, think about what the average represents, the nominator is a sum of all the elements in an array while the denominator is the amount of elements in such array."
   ]
  },
  {
   "cell_type": "code",
   "execution_count": 7,
   "metadata": {},
   "outputs": [
    {
     "data": {
      "text/plain": [
       "39742"
      ]
     },
     "execution_count": 7,
     "metadata": {},
     "output_type": "execute_result"
    }
   ],
   "source": [
    "len(df)"
   ]
  },
  {
   "cell_type": "code",
   "execution_count": 8,
   "metadata": {},
   "outputs": [
    {
     "data": {
      "text/plain": [
       "39742"
      ]
     },
     "execution_count": 8,
     "metadata": {},
     "output_type": "execute_result"
    }
   ],
   "source": [
    "df.shape[0]"
   ]
  },
  {
   "cell_type": "markdown",
   "metadata": {},
   "source": [
    "We can also count specific categories visually with seaborn."
   ]
  },
  {
   "cell_type": "code",
   "execution_count": 9,
   "metadata": {},
   "outputs": [
    {
     "data": {
      "image/png": "[encoded data removed]",
      "text/plain": [
       "<Figure size 360x360 with 1 Axes>"
      ]
     },
     "metadata": {
      "needs_background": "light"
     },
     "output_type": "display_data"
    }
   ],
   "source": [
    "sns.catplot(x='room_type', data=df, kind='count')\n",
    "plt.xlabel(\"Room Type\")\n",
    "plt.title(\"Count per room type offered in Melbourne\")\n",
    "plt.show()"
   ]
  },
  {
   "cell_type": "markdown",
   "metadata": {},
   "source": [
    "## Mean"
   ]
  },
  {
   "cell_type": "markdown",
   "metadata": {},
   "source": [
    "What we call the mean is actually the arithmetic mean. This is the sum of all the values in a set or array, divided by the amount of numbers in such array. While zeros are always counted in the arithmetic mean, in Python, empty values or `NaN`s are never counted towards that or any other operation.\n",
    "\n",
    "$\\overline{X}=\\dfrac{1}{n}\\sum x_{i}$\n",
    "\n",
    "In the folmula above, \n",
    "- $\\overline{X}$ stands for the mean of array X\n",
    "- **$n$** is the lenght of the array, vector, set, or list\n",
    "- $\\dfrac{1}{n}$ means we will divide everything by the lenght\n",
    "- The greek letter $\\sum$ denotes the sumation of all proceding values\n",
    "- $x_{i}$ means every value in the array starting from **$i$**, and **$i$** in this instance can be any number\n",
    "\n",
    "We can observe the mean of some of the quantitative variables in our dataframe with the method `.mean()`."
   ]
  },
  {
   "cell_type": "code",
   "execution_count": 10,
   "metadata": {},
   "outputs": [],
   "source": [
    "some_numerical_vars = ['bathrooms', 'price', 'extra_people', 'minimum_nights_avg_ntm', 'maximum_nights_avg_ntm']"
   ]
  },
  {
   "cell_type": "code",
   "execution_count": 11,
   "metadata": {},
   "outputs": [
    {
     "data": {
      "text/plain": [
       "bathrooms                   1.552\n",
       "price                     188.817\n",
       "extra_people                8.926\n",
       "minimum_nights_avg_ntm      4.328\n",
       "maximum_nights_avg_ntm   1069.015\n",
       "dtype: float32"
      ]
     },
     "execution_count": 11,
     "metadata": {},
     "output_type": "execute_result"
    }
   ],
   "source": [
    "df[some_numerical_vars].mean()"
   ]
  },
  {
   "cell_type": "code",
   "execution_count": 12,
   "metadata": {},
   "outputs": [
    {
     "data": {
      "text/plain": [
       "bathrooms                   1.552\n",
       "price                     188.817\n",
       "extra_people                8.926\n",
       "minimum_nights_avg_ntm      4.328\n",
       "maximum_nights_avg_ntm   1069.015\n",
       "dtype: float32"
      ]
     },
     "execution_count": 12,
     "metadata": {},
     "output_type": "execute_result"
    }
   ],
   "source": [
    "# the same works with np methods\n",
    "np.mean(df[some_numerical_vars])"
   ]
  },
  {
   "cell_type": "markdown",
   "metadata": {},
   "source": [
    "We can also calculate the mean ourselves with plain Python code."
   ]
  },
  {
   "cell_type": "code",
   "execution_count": 13,
   "metadata": {},
   "outputs": [
    {
     "data": {
      "text/plain": [
       "188.81918433263158"
      ]
     },
     "execution_count": 13,
     "metadata": {},
     "output_type": "execute_result"
    }
   ],
   "source": [
    "sum(df['price']) / len(df['price'])"
   ]
  },
  {
   "cell_type": "markdown",
   "metadata": {},
   "source": [
    "## Median"
   ]
  },
  {
   "cell_type": "markdown",
   "metadata": {},
   "source": [
    "The median will order an array of numbers from lowest to highest and select the number in the middle. This means that the median is effectively the 50th percentile of any array. If the array has an even amount of numbers, it will return the average of the middle two numbers. If the arrays has an odd amount of numbers, it will return the one in the middle.\n",
    "\n",
    "Just like with the `.mean()` method, we can use the `.median()` method on the quantitative variables of our dataframe and pandas will return the median for all variables. We could also use the `.median()` method and it will return the a median value for all numerical variables in our dataset. This is not recommended if your dataset is too large and has a lot of variables."
   ]
  },
  {
   "cell_type": "code",
   "execution_count": 14,
   "metadata": {},
   "outputs": [],
   "source": [
    "more_numerical_vars = ['accommodates', 'guests_included', 'minimum_minimum_nights', 'maximum_minimum_nights', 'minimum_maximum_nights', \n",
    "                      'maximum_maximum_nights', 'availability_30', 'availability_60', 'availability_90']"
   ]
  },
  {
   "cell_type": "code",
   "execution_count": 15,
   "metadata": {},
   "outputs": [
    {
     "data": {
      "text/plain": [
       "accommodates                4.000\n",
       "guests_included             1.000\n",
       "minimum_minimum_nights      2.000\n",
       "maximum_minimum_nights      2.000\n",
       "minimum_maximum_nights   1125.000\n",
       "maximum_maximum_nights   1125.000\n",
       "availability_30            24.000\n",
       "availability_60            52.000\n",
       "availability_90            80.000\n",
       "dtype: float64"
      ]
     },
     "execution_count": 15,
     "metadata": {},
     "output_type": "execute_result"
    }
   ],
   "source": [
    "df[more_numerical_vars].median()"
   ]
  },
  {
   "cell_type": "markdown",
   "metadata": {},
   "source": [
    "Say we know that our `price` array has an odd number of elements and we want to get the value at the 50th percentile of our variable. We could, for instance, pass in a slice that selects that same middle numberof the array by computing floor division on the lenght of the array. The reason we would use a floor division is because all divisions in Python return a float and we can't pass floats to a slice. We could, in turn, wrap `int()` around our division, or the function `round()` instead to achieve the same result. Let's have a look."
   ]
  },
  {
   "cell_type": "code",
   "execution_count": 16,
   "metadata": {},
   "outputs": [
    {
     "data": {
      "text/plain": [
       "39742"
      ]
     },
     "execution_count": 16,
     "metadata": {},
     "output_type": "execute_result"
    }
   ],
   "source": [
    "len(df)"
   ]
  },
  {
   "cell_type": "code",
   "execution_count": 17,
   "metadata": {},
   "outputs": [
    {
     "data": {
      "text/plain": [
       "19870"
      ]
     },
     "execution_count": 17,
     "metadata": {},
     "output_type": "execute_result"
    }
   ],
   "source": [
    "# if your number is even, get the lower bound\n",
    "lower_bound = (len(df) // 2) - 1\n",
    "lower_bound"
   ]
  },
  {
   "cell_type": "code",
   "execution_count": 18,
   "metadata": {},
   "outputs": [
    {
     "data": {
      "text/plain": [
       "19871"
      ]
     },
     "execution_count": 18,
     "metadata": {},
     "output_type": "execute_result"
    }
   ],
   "source": [
    "# if your number is even, also get the upper bound\n",
    "upper_bound = (len(df) // 2)\n",
    "upper_bound"
   ]
  },
  {
   "cell_type": "code",
   "execution_count": 19,
   "metadata": {},
   "outputs": [
    {
     "data": {
      "text/plain": [
       "84.01920318603516"
      ]
     },
     "execution_count": 19,
     "metadata": {},
     "output_type": "execute_result"
    }
   ],
   "source": [
    "# check out the value at x bound\n",
    "sorted(df['price'])[lower_bound]"
   ]
  },
  {
   "cell_type": "code",
   "execution_count": 20,
   "metadata": {},
   "outputs": [
    {
     "data": {
      "text/plain": [
       "84.01920318603516"
      ]
     },
     "execution_count": 20,
     "metadata": {},
     "output_type": "execute_result"
    }
   ],
   "source": [
    "# check out the value at x bound\n",
    "sorted(df['price'])[upper_bound]"
   ]
  },
  {
   "cell_type": "code",
   "execution_count": 21,
   "metadata": {},
   "outputs": [
    {
     "data": {
      "text/plain": [
       "84.01920318603516"
      ]
     },
     "execution_count": 21,
     "metadata": {},
     "output_type": "execute_result"
    }
   ],
   "source": [
    "# confirm the true median\n",
    "true_median = (sorted(df['price'])[lower_bound] + sorted(df['price'])[upper_bound]) / 2\n",
    "true_median"
   ]
  },
  {
   "cell_type": "markdown",
   "metadata": {},
   "source": [
    "We can also divide normally and surround the operation with `int()` to make sure we get an integer for our slice."
   ]
  },
  {
   "cell_type": "code",
   "execution_count": 22,
   "metadata": {},
   "outputs": [
    {
     "data": {
      "text/plain": [
       "4"
      ]
     },
     "execution_count": 22,
     "metadata": {},
     "output_type": "execute_result"
    }
   ],
   "source": [
    "odd_array = np.arange(9)\n",
    "# odd array again\n",
    "sorted(odd_array)[int(len(odd_array) / 2)]"
   ]
  },
  {
   "cell_type": "code",
   "execution_count": 23,
   "metadata": {},
   "outputs": [
    {
     "data": {
      "text/plain": [
       "4.0"
      ]
     },
     "execution_count": 23,
     "metadata": {},
     "output_type": "execute_result"
    }
   ],
   "source": [
    "np.median(odd_array)"
   ]
  },
  {
   "cell_type": "markdown",
   "metadata": {},
   "source": [
    "To manually get the median of an even array, we need to do a bit more work. We need to\n",
    "\n",
    "- sort the array\n",
    "- create a slice for the middle number and subtract one\n",
    "- add the value on the previous step to another slice without subtracting 1\n",
    "- divide the result by 2"
   ]
  },
  {
   "cell_type": "code",
   "execution_count": 24,
   "metadata": {},
   "outputs": [
    {
     "data": {
      "text/plain": [
       "102.5"
      ]
     },
     "execution_count": 24,
     "metadata": {},
     "output_type": "execute_result"
    }
   ],
   "source": [
    "# even array\n",
    "arr = np.random.randint(0, 200, 14)\n",
    "\n",
    "# sum the lower and higher slicers surrounding the median and divide by 2\n",
    "(sorted(arr)[len(arr) // 2 - 1] + sorted(arr)[len(arr) // 2]) / 2"
   ]
  },
  {
   "cell_type": "markdown",
   "metadata": {},
   "source": [
    "Now, the above cell is illegible and does not help much. Let's decompose it step by step."
   ]
  },
  {
   "cell_type": "code",
   "execution_count": 25,
   "metadata": {},
   "outputs": [
    {
     "data": {
      "text/plain": [
       "[9, 22, 36, 46, 87, 100, 101, 104, 107, 117, 127, 166, 174, 177]"
      ]
     },
     "execution_count": 25,
     "metadata": {},
     "output_type": "execute_result"
    }
   ],
   "source": [
    "# first step\n",
    "sorted_array = sorted(arr)\n",
    "sorted_array"
   ]
  },
  {
   "cell_type": "code",
   "execution_count": 26,
   "metadata": {},
   "outputs": [
    {
     "data": {
      "text/plain": [
       "14"
      ]
     },
     "execution_count": 26,
     "metadata": {},
     "output_type": "execute_result"
    }
   ],
   "source": [
    "# second step\n",
    "array_count = len(arr)\n",
    "array_count"
   ]
  },
  {
   "cell_type": "code",
   "execution_count": 27,
   "metadata": {},
   "outputs": [
    {
     "data": {
      "text/plain": [
       "7"
      ]
     },
     "execution_count": 27,
     "metadata": {},
     "output_type": "execute_result"
    }
   ],
   "source": [
    "# third step\n",
    "middle_of_array = (array_count // 2)\n",
    "middle_of_array"
   ]
  },
  {
   "cell_type": "code",
   "execution_count": 28,
   "metadata": {},
   "outputs": [
    {
     "data": {
      "text/plain": [
       "101"
      ]
     },
     "execution_count": 28,
     "metadata": {},
     "output_type": "execute_result"
    }
   ],
   "source": [
    "# fourth step\n",
    "low_bound = sorted_array[middle_of_array - 1]\n",
    "low_bound"
   ]
  },
  {
   "cell_type": "code",
   "execution_count": 29,
   "metadata": {},
   "outputs": [
    {
     "data": {
      "text/plain": [
       "104"
      ]
     },
     "execution_count": 29,
     "metadata": {},
     "output_type": "execute_result"
    }
   ],
   "source": [
    "# fifth step\n",
    "upper_bound = sorted_array[middle_of_array]\n",
    "upper_bound"
   ]
  },
  {
   "cell_type": "code",
   "execution_count": 30,
   "metadata": {},
   "outputs": [
    {
     "data": {
      "text/plain": [
       "102.5"
      ]
     },
     "execution_count": 30,
     "metadata": {},
     "output_type": "execute_result"
    }
   ],
   "source": [
    "# final step\n",
    "answer = (low_bound + upper_bound) / 2\n",
    "answer"
   ]
  },
  {
   "cell_type": "code",
   "execution_count": 31,
   "metadata": {},
   "outputs": [
    {
     "data": {
      "text/plain": [
       "102.5"
      ]
     },
     "execution_count": 31,
     "metadata": {},
     "output_type": "execute_result"
    }
   ],
   "source": [
    "# confirm results\n",
    "np.median(arr)"
   ]
  },
  {
   "cell_type": "markdown",
   "metadata": {},
   "source": [
    "## Mode"
   ]
  },
  {
   "cell_type": "markdown",
   "metadata": {},
   "source": [
    "Mode is the most frequent number in an array of numbers. To get the mode we can pass the `.mode()` method to a series or we take advantage of on of the many methods in the library SciPy. (SciPy stands for scientific computing.) This library is a cousing of NumPy, or maybe a children, and it comes with many similar functionalities as the ones you would find in NumPy."
   ]
  },
  {
   "cell_type": "code",
   "execution_count": 32,
   "metadata": {},
   "outputs": [
    {
     "data": {
      "text/plain": [
       "0    Cape Town\n",
       "dtype: object"
      ]
     },
     "execution_count": 32,
     "metadata": {},
     "output_type": "execute_result"
    }
   ],
   "source": [
    "df['city'].mode()"
   ]
  },
  {
   "cell_type": "code",
   "execution_count": 33,
   "metadata": {},
   "outputs": [],
   "source": [
    "# we import the mode function from scipy\n",
    "from scipy.stats import mode"
   ]
  },
  {
   "cell_type": "markdown",
   "metadata": {},
   "source": [
    "When we import the `mode` function we can pass it to our dataframe and it will return a scipy object with two arrays, one for the values that appear the most, and another for the times it appears the most."
   ]
  },
  {
   "cell_type": "code",
   "execution_count": 34,
   "metadata": {},
   "outputs": [
    {
     "data": {
      "text/plain": [
       "ModeResult(mode=array([[96.31680297851562, 0.0, 0.0, 'f']], dtype=object), count=array([[  672,  5002, 24668, 28790]]))"
      ]
     },
     "execution_count": 34,
     "metadata": {},
     "output_type": "execute_result"
    }
   ],
   "source": [
    "more_cols = ['price', 'cleaning_fee', 'security_deposit', 'host_is_superhost']\n",
    "mode(df[more_cols])"
   ]
  },
  {
   "cell_type": "markdown",
   "metadata": {},
   "source": [
    "We can pass in this structure to an `np.array()`, transpose it, and get an array of tuples with each element and its respective value next to each other."
   ]
  },
  {
   "cell_type": "code",
   "execution_count": 35,
   "metadata": {},
   "outputs": [
    {
     "data": {
      "text/plain": [
       "array([[[96.31680297851562, 672]],\n",
       "\n",
       "       [[0.0, 5002]],\n",
       "\n",
       "       [[0.0, 24668]],\n",
       "\n",
       "       [['f', 28790]]], dtype=object)"
      ]
     },
     "execution_count": 35,
     "metadata": {},
     "output_type": "execute_result"
    }
   ],
   "source": [
    "np.array(mode(df[more_cols])).T"
   ]
  },
  {
   "cell_type": "markdown",
   "metadata": {},
   "source": [
    "We can confirm the median of any variable using the `.value_counts()` method."
   ]
  },
  {
   "cell_type": "code",
   "execution_count": 36,
   "metadata": {},
   "outputs": [
    {
     "data": {
      "text/plain": [
       "f    28790\n",
       "t    10952\n",
       "Name: host_is_superhost, dtype: int64"
      ]
     },
     "execution_count": 36,
     "metadata": {},
     "output_type": "execute_result"
    }
   ],
   "source": [
    "df['host_is_superhost'].value_counts()"
   ]
  },
  {
   "cell_type": "code",
   "execution_count": 37,
   "metadata": {},
   "outputs": [
    {
     "data": {
      "text/plain": [
       "f   0.724\n",
       "t   0.276\n",
       "Name: host_is_superhost, dtype: float64"
      ]
     },
     "execution_count": 37,
     "metadata": {},
     "output_type": "execute_result"
    }
   ],
   "source": [
    "# Normalise shows the representation as a percentage, very handy\n",
    "df['host_is_superhost'].value_counts(normalize=True)"
   ]
  },
  {
   "cell_type": "markdown",
   "metadata": {},
   "source": [
    "## Percentiles"
   ]
  },
  {
   "cell_type": "markdown",
   "metadata": {},
   "source": [
    "Percentiles give us the value at a given location of the array. For example, `np.percentile(array, 25)` will return the number where 75% of the data is above of, and 25% of the data is below of. In contrast, `np.percentile(array, 50)` would return the median the median of the array."
   ]
  },
  {
   "cell_type": "code",
   "execution_count": 38,
   "metadata": {},
   "outputs": [
    {
     "data": {
      "text/plain": [
       "48.15359878540039"
      ]
     },
     "execution_count": 38,
     "metadata": {},
     "output_type": "execute_result"
    }
   ],
   "source": [
    "# This answers the question, what prices am I looking within the lower quarter of the array?\n",
    "np.percentile(df['price'], 25)"
   ]
  },
  {
   "cell_type": "code",
   "execution_count": 39,
   "metadata": {},
   "outputs": [
    {
     "data": {
      "text/plain": [
       "84.01920318603516"
      ]
     },
     "execution_count": 39,
     "metadata": {},
     "output_type": "execute_result"
    }
   ],
   "source": [
    "np.percentile(df['price'], 50)"
   ]
  },
  {
   "cell_type": "markdown",
   "metadata": {},
   "source": [
    "We can also get a particular percentile manually by multiplying percentages by the length of the array inside a slice of a sorted array. Think of this as masking."
   ]
  },
  {
   "cell_type": "code",
   "execution_count": 40,
   "metadata": {},
   "outputs": [
    {
     "name": "stdout",
     "output_type": "stream",
     "text": [
      "Our fancy percentage finding scheme --> 12.34000015258789\n",
      "NumPy's version --> 12.340000\n"
     ]
    }
   ],
   "source": [
    "print(f\"Our fancy percentage finding scheme --> {sorted(df['cleaning_fee'])[int(0.20 * len(df))]}\")\n",
    "print(\"NumPy's version --> %f\" % np.percentile(df['cleaning_fee'], 20))"
   ]
  },
  {
   "cell_type": "markdown",
   "metadata": {},
   "source": [
    "## Range"
   ]
  },
  {
   "cell_type": "markdown",
   "metadata": {},
   "source": [
    "The Range of a set is the difference between the maximum and minimum numbers of an array. Going back to our income example, if the highest-paid person in Australia made 2,000,000/year and the lowest-paid person made 500/year, then the range of that set would be the difference between the two, or 1,999,500. This is regardless of the lenght of the array as the range focuses on content not quantity of values.\n",
    "\n",
    "We can use `np.ptp()` to get the range of a numerical array or we can compute the range ourselves in several different ways with regular Python."
   ]
  },
  {
   "cell_type": "code",
   "execution_count": 41,
   "metadata": {},
   "outputs": [
    {
     "data": {
      "text/plain": [
       "3146.04"
      ]
     },
     "execution_count": 41,
     "metadata": {},
     "output_type": "execute_result"
    }
   ],
   "source": [
    "# numpy's way\n",
    "np.ptp(df['cleaning_fee'])"
   ]
  },
  {
   "cell_type": "code",
   "execution_count": 42,
   "metadata": {},
   "outputs": [
    {
     "data": {
      "text/plain": [
       "3146.0400390625"
      ]
     },
     "execution_count": 42,
     "metadata": {},
     "output_type": "execute_result"
    }
   ],
   "source": [
    "# python's way\n",
    "max(df['cleaning_fee']) - min(df['cleaning_fee'])"
   ]
  },
  {
   "cell_type": "code",
   "execution_count": 43,
   "metadata": {},
   "outputs": [
    {
     "data": {
      "text/plain": [
       "3146.0400390625"
      ]
     },
     "execution_count": 43,
     "metadata": {},
     "output_type": "execute_result"
    }
   ],
   "source": [
    "# no helper functions\n",
    "sorted(df['cleaning_fee'])[-1] - sorted(df['cleaning_fee'])[0]"
   ]
  },
  {
   "cell_type": "code",
   "execution_count": 44,
   "metadata": {},
   "outputs": [
    {
     "data": {
      "text/plain": [
       "0.0"
      ]
     },
     "execution_count": 44,
     "metadata": {},
     "output_type": "execute_result"
    }
   ],
   "source": [
    "sorted(df['cleaning_fee'])[0]"
   ]
  },
  {
   "cell_type": "code",
   "execution_count": 45,
   "metadata": {},
   "outputs": [
    {
     "data": {
      "text/plain": [
       "3146.0400390625"
      ]
     },
     "execution_count": 45,
     "metadata": {},
     "output_type": "execute_result"
    }
   ],
   "source": [
    "sorted(df['cleaning_fee'])[-1]"
   ]
  },
  {
   "cell_type": "markdown",
   "metadata": {},
   "source": [
    "## Variance"
   ]
  },
  {
   "cell_type": "markdown",
   "metadata": {},
   "source": [
    "Variance tells us how much variation to expect in an array of data ($x$) with at least 2 numbers. For example, say we have two groups with 5 professional athletes in each. One group has soccer players and the other has tennis players. Now imagine we first ask each group how much do they spend eating out each week, and then we calculate the average of those amounts. Once we do this, we are surprised to find out that both groups of athletes spend the same on average eating out, about 570/week. Here is the data.\n",
    "\n",
    "| Athlete | Group | Money Spent/Week |\n",
    "|:-------:|:----------------:|:----------------:|\n",
    "| Serena Williams | Tennis | \\$570 |\n",
    "| Roger Federer | Tennis | \\$570 |\n",
    "| Venus Williams | Tennis | \\$570 |\n",
    "| Rafael Nadal | Tennis | \\$570 |\n",
    "| Maria Sharapova | Tennis | \\$570 |\n",
    "| Cristiano Ronaldo | Soccer | \\$700 |\n",
    "| Hope Solo | Soccer | \\$380 |\n",
    "| Loenel Messi | Soccer | \\$200 |\n",
    "| Mia Hamm | Soccer | \\$650 |\n",
    "| Diego Maradona | Soccer | \\$920 |\n",
    "\n",
    "\n",
    "Although the average is the same for both groups, the variation per group and player (as seen above) is extremely large. The tennis group's variation is equal to `0` while the variation of the soccer group is much greater than that.\n",
    "\n",
    "Here is the mathematical formula for the variance before we see it in code. To calculate it, we sum the squared difference of each data point of an array from the mean of that same array. We then divide the sum by the lenght of the array.\n",
    "\n",
    "$\\sigma^{2}=\\dfrac {1}{n-1}\\sum _{i}\\left( x_{i}-\\overline {x}\\right) ^{2}$\n",
    "\n",
    "In the folmula above, \n",
    "- $\\overline{X}$ stands for the mean\n",
    "- $n$ is the lenght of the array, vector, set, or list\n",
    "- $\\dfrac{1}{n-1}$ means we will divide everything by the lenght\n",
    "- The greek letter $\\sum$ denotes sumation\n",
    "- $x_{i}$ means every `x` value starting from `i`. In other words, every element of the array\n",
    "- $\\sigma^{2}$ --> squared standard deviation, aka result\n",
    "- $\\left( x_{i}-\\overline {x}\\right) ^{2}$ means the square difference\n",
    "\n",
    "Let's calculate the variance using different methods in Python."
   ]
  },
  {
   "cell_type": "code",
   "execution_count": 46,
   "metadata": {},
   "outputs": [
    {
     "data": {
      "text/plain": [
       "['bathrooms',\n",
       " 'price',\n",
       " 'extra_people',\n",
       " 'minimum_nights_avg_ntm',\n",
       " 'maximum_nights_avg_ntm']"
      ]
     },
     "execution_count": 46,
     "metadata": {},
     "output_type": "execute_result"
    }
   ],
   "source": [
    "# remember this variable\n",
    "some_numerical_vars"
   ]
  },
  {
   "cell_type": "code",
   "execution_count": 47,
   "metadata": {},
   "outputs": [
    {
     "data": {
      "text/plain": [
       "bathrooms                         1.345\n",
       "price                        305950.938\n",
       "extra_people                    225.278\n",
       "minimum_nights_avg_ntm          254.263\n",
       "maximum_nights_avg_ntm   2516162816.000\n",
       "dtype: float32"
      ]
     },
     "execution_count": 47,
     "metadata": {},
     "output_type": "execute_result"
    }
   ],
   "source": [
    "# we can use a method on the entire array\n",
    "df[some_numerical_vars].var()"
   ]
  },
  {
   "cell_type": "markdown",
   "metadata": {},
   "source": [
    "We can also use the numpy method on a one dimensional array."
   ]
  },
  {
   "cell_type": "code",
   "execution_count": 48,
   "metadata": {},
   "outputs": [
    {
     "data": {
      "text/plain": [
       "254.25653076171875"
      ]
     },
     "execution_count": 48,
     "metadata": {},
     "output_type": "execute_result"
    }
   ],
   "source": [
    "np.var(df['minimum_nights_avg_ntm'])"
   ]
  },
  {
   "cell_type": "markdown",
   "metadata": {},
   "source": [
    "The last option is to do it ourselved with by coding every step of the formula."
   ]
  },
  {
   "cell_type": "code",
   "execution_count": 49,
   "metadata": {},
   "outputs": [
    {
     "data": {
      "text/plain": [
       "5866     416.232\n",
       "13341      3.605\n",
       "3738    -140.452\n",
       "2346    -136.334\n",
       "13189   -111.643\n",
       "Name: price, dtype: float64"
      ]
     },
     "execution_count": 49,
     "metadata": {},
     "output_type": "execute_result"
    }
   ],
   "source": [
    "# first take the difference between each data point and the mean of the array\n",
    "diff_var = (df['price'] - df['price'].mean())\n",
    "diff_var.head()"
   ]
  },
  {
   "cell_type": "code",
   "execution_count": 50,
   "metadata": {},
   "outputs": [
    {
     "data": {
      "text/plain": [
       "5866    173249.353\n",
       "13341       12.997\n",
       "3738     19726.902\n",
       "2346     18586.984\n",
       "13189    12464.135\n",
       "Name: price, dtype: float64"
      ]
     },
     "execution_count": 50,
     "metadata": {},
     "output_type": "execute_result"
    }
   ],
   "source": [
    "# then squared the difference\n",
    "power_two = diff_var ** 2\n",
    "power_two.head()"
   ]
  },
  {
   "cell_type": "code",
   "execution_count": 51,
   "metadata": {},
   "outputs": [
    {
     "data": {
      "text/plain": [
       "12159389440.956436"
      ]
     },
     "execution_count": 51,
     "metadata": {},
     "output_type": "execute_result"
    }
   ],
   "source": [
    "# sum the array of differences\n",
    "sum_price_diff = power_two.sum()\n",
    "sum_price_diff"
   ]
  },
  {
   "cell_type": "code",
   "execution_count": 52,
   "metadata": {},
   "outputs": [
    {
     "data": {
      "text/plain": [
       "305965.8649997845"
      ]
     },
     "execution_count": 52,
     "metadata": {},
     "output_type": "execute_result"
    }
   ],
   "source": [
    "# then divide the sum of differences by the lenght of the array minus 1\n",
    "variance = sum_price_diff / (len(df) - 1)\n",
    "variance"
   ]
  },
  {
   "cell_type": "code",
   "execution_count": 53,
   "metadata": {},
   "outputs": [
    {
     "data": {
      "text/plain": [
       "305965.86499978905"
      ]
     },
     "execution_count": 53,
     "metadata": {},
     "output_type": "execute_result"
    }
   ],
   "source": [
    "# imagine if we were to do that whole process in one line of code\n",
    "sum([(x - df['price'].mean()) ** 2 for x in df['price']]) / (len(df['price']) - 1)"
   ]
  },
  {
   "cell_type": "markdown",
   "metadata": {},
   "source": [
    "Let's unpack what just happened in the cell above.\n",
    "\n",
    "- We initialised a list comprehension\n",
    "- then subtracted the mean of the price column from every one its prices\n",
    "- we then squared the result\n",
    "- summed everything up\n",
    "- and finished by dividing the final product by the n count of the price variable minus 1\n",
    "\n",
    "In statistics, the variance and the standard deviation of a **sample** al always divided by `n - 1`. This is to signify the understatement of the true parameter $\\overline {X}$ which we don't know."
   ]
  },
  {
   "cell_type": "markdown",
   "metadata": {},
   "source": [
    "## Standard Deviation"
   ]
  },
  {
   "cell_type": "markdown",
   "metadata": {},
   "source": [
    "The **Standard Deviation** measures the dispersion of some data from its mean. Think of the dispertion of (normally distributed) data as percentage blocks surrounding the average, mean and median values (see the picture below).\n",
    "\n",
    "![std](https://sway.office.com/s/EfPj5fmDwSziDupy/images/iJQFxVhHL6o7Sq?quality=860&allowAnimation=false)  \n",
    "**Source:** https://sixsigmadsi.com/standard-deviation-measure-of-dispersion/\n",
    "\n",
    "Every data point in these blocks is said to be 1, 2, or 3 standard deviations away from the mean. Additionally, these blocks provide us with an expectation for future values in percentage terms. Meaning, if we were to ask how many of the data points in our set are 1 standard deviation below the mean, we would mention that X% of our data points would land on that block. A more succint example would be, if crazy rainy days in Australia happened with a frequency of 1 standard deviation below or above the mean, and the weather temperatures were normally distributed, we could say that we would expect crazy rainy weather about 34% (up or down) of the time in a year. Of course, we could be even more specific about this, but the important distinction to keep in mind here is that sequential regions within a distribution can only be found in this form when the distribution of the data is normal.\n",
    "\n",
    "$\\sigma = \\sqrt{\\dfrac {1}{n-1}\\sum _{i=1}\\left( x_{i}-\\overline {x}\\right) ^{2}}$\n",
    "\n",
    "In the folmula above, \n",
    "- $\\overline{x}$ stands for the sample mean\n",
    "- $n$ is the lenght of the array, vector, set, or list\n",
    "- $\\dfrac{1}{n-1}$ means we will divide everything by the lenght minus 1\n",
    "- The greek letter $\\sum$ denotes sumation\n",
    "- $x_{i}$ means every `x` value in our array starting from `i`\n",
    "- $\\sigma$ --> sigma == Result\n",
    "- $\\left( x_{i}-\\overline {x}\\right) ^{2}$ means the square difference\n",
    "\n",
    "`np.std()` and `df[quant_vars_list].std()` will return the standard deviation of an array or matrix."
   ]
  },
  {
   "cell_type": "code",
   "execution_count": 54,
   "metadata": {},
   "outputs": [
    {
     "data": {
      "text/plain": [
       "553.1282958984375"
      ]
     },
     "execution_count": 54,
     "metadata": {},
     "output_type": "execute_result"
    }
   ],
   "source": [
    "# givent the average and the standard deviation of prices, what's the highest value we expect to see 34%\n",
    "# of the time above the mean? Should this be a normally distributed array of course.\n",
    "df['price'].std()"
   ]
  },
  {
   "cell_type": "code",
   "execution_count": 55,
   "metadata": {},
   "outputs": [
    {
     "data": {
      "text/plain": [
       "553.1213989257812"
      ]
     },
     "execution_count": 55,
     "metadata": {},
     "output_type": "execute_result"
    }
   ],
   "source": [
    "np.std(df['price'])"
   ]
  },
  {
   "cell_type": "markdown",
   "metadata": {},
   "source": [
    "We can also calculate the standard deviation by taking the square root of the variance."
   ]
  },
  {
   "cell_type": "code",
   "execution_count": 56,
   "metadata": {},
   "outputs": [
    {
     "data": {
      "text/plain": [
       "553.1213700445861"
      ]
     },
     "execution_count": 56,
     "metadata": {},
     "output_type": "execute_result"
    }
   ],
   "source": [
    "np.sqrt(np.var(df['price']))"
   ]
  },
  {
   "cell_type": "markdown",
   "metadata": {},
   "source": [
    "## Minimum & Maximum"
   ]
  },
  {
   "cell_type": "markdown",
   "metadata": {},
   "source": [
    "The Minimum & Maximum are the lowest and highest values in an array, respectively. These are useful when we have quantitative variables such as income, or house prices, but not when we have categorical variables such as gender or weekdays. For example, imagine having a variable called food temperature that is classified as hot, warm, or cold (with numerical equivalents of 1, 2, 3). Our functions MIN and MAX will not be very useful for this categorical variable since the distance of such categories would not carry much meaning. In contrast, the difference between an income of `$97,000` and an income of `$45,000` would be `$52,000`, and that is also the range between the two.\n",
    "\n",
    "We can pass in min and max as methods to a dataframe or as numpy functions to arrays."
   ]
  },
  {
   "cell_type": "code",
   "execution_count": 57,
   "metadata": {
    "scrolled": true
   },
   "outputs": [
    {
     "data": {
      "text/plain": [
       "id                                                                                       10001803\n",
       "listing_url                                                 https://www.airbnb.com/rooms/10001803\n",
       "scrape_id                                                                          20200426042542\n",
       "last_scraped                                                                           2020-04-26\n",
       "name                                                                                          3⁂ \n",
       "summary                                                   Twin bedroom with extra bed for anot...\n",
       "space                                                                                            \n",
       "description                                               Twin bedroom with extra bed for anot...\n",
       "experiences_offered                                                                          none\n",
       "neighborhood_overview                           \\tSupermarket 1.\\tAEON 2.\\tN Mart \\tConvenienc...\n",
       "notes                                           \\tFree Fibre wi-fi \\tWe prefer you smoke outsi...\n",
       "transit                                                                                          \n",
       "access                                                                                           \n",
       "interaction                                                                                      \n",
       "house_rules                                     !! Guest with visible tattoos, please refrain ...\n",
       "picture_url                                     https://a0.muscache.com/4ea/air/v2//pictures/0...\n",
       "host_id                                                                                 100002397\n",
       "host_url                                              https://www.airbnb.com/users/show/100002397\n",
       "host_name                                                             & AND HOSTEL-ASAKUSA North-\n",
       "host_since                                                                             2008-08-11\n",
       "host_location                                                                        South Africa\n",
       "host_about                                                                                     \\n\n",
       "host_response_time                                                                        Unknown\n",
       "host_is_superhost                                                                               f\n",
       "host_thumbnail_url                              https://a0.muscache.com/defaults/user_pic-50x5...\n",
       "host_picture_url                                https://a0.muscache.com/defaults/user_pic-225x...\n",
       "host_verifications                              ['email', 'facebook', 'jumio', 'offline_govern...\n",
       "host_has_profile_pic                                                                            f\n",
       "host_identity_verified                                                                          f\n",
       "street                                                    \\nCape Town, Western Cape, South Africa\n",
       "neighbourhood_cleansed                                                                  Adachi Ku\n",
       "city                                                                                  \\nCape Town\n",
       "state                                                                                          13\n",
       "zipcode                                                                                      0001\n",
       "market                                                                                    Antwerp\n",
       "smart_location                                                          \\nCape Town, South Africa\n",
       "country_code                                                                                   BE\n",
       "country                                                                                   Belgium\n",
       "is_location_exact                                                                               f\n",
       "property_type                                                                          Aparthotel\n",
       "room_type                                                                         Entire home/apt\n",
       "bed_type                                                                                   Airbed\n",
       "amenities                                       {\"Air conditioning\",\"Free parking on premises\"...\n",
       "minimum_nights                                                                                  1\n",
       "maximum_nights                                                                                  1\n",
       "calendar_updated                                                                       1 week ago\n",
       "has_availability                                                                                t\n",
       "calendar_last_scraped                                                                  2020-04-26\n",
       "requires_license                                                                                f\n",
       "instant_bookable                                                                                f\n",
       "is_business_travel_ready                                                                        f\n",
       "cancellation_policy                                                                      flexible\n",
       "require_guest_profile_picture                                                                   f\n",
       "require_guest_phone_verification                                                                f\n",
       "first_review                                                                           2009-07-11\n",
       "last_review                                                                            2009-07-11\n",
       "latitude                                                                                   27.072\n",
       "longitude                                                                                   4.342\n",
       "bathrooms                                                                                   0.000\n",
       "price                                                                                       0.000\n",
       "extra_people                                                                                0.000\n",
       "minimum_nights_avg_ntm                                                                      1.000\n",
       "maximum_nights_avg_ntm                                                                      1.000\n",
       "accommodates                                                                                    1\n",
       "guests_included                                                                                 1\n",
       "minimum_minimum_nights                                                                          1\n",
       "maximum_minimum_nights                                                                          1\n",
       "minimum_maximum_nights                                                                          1\n",
       "maximum_maximum_nights                                                                          1\n",
       "availability_30                                                                                 0\n",
       "availability_60                                                                                 0\n",
       "availability_90                                                                                 0\n",
       "availability_365                                                                                0\n",
       "number_of_reviews                                                                               0\n",
       "number_of_reviews_ltm                                                                           0\n",
       "calculated_host_listings_count                                                                  1\n",
       "calculated_host_listings_count_entire_homes                                                     0\n",
       "bedrooms                                                                                        0\n",
       "beds                                                                                            0\n",
       "calculated_host_listings_count_private_rooms                                                    0\n",
       "calculated_host_listings_count_shared_rooms                                                     0\n",
       "host_listings_count                                                                             0\n",
       "host_total_listings_count                                                                       0\n",
       "security_deposit                                                                            0.000\n",
       "review_scores_communication                                                                 0.000\n",
       "review_scores_checkin                                                                       0.000\n",
       "review_scores_location                                                                      0.000\n",
       "review_scores_value                                                                         0.000\n",
       "review_scores_cleanliness                                                                   0.000\n",
       "review_scores_accuracy                                                                      0.000\n",
       "reviews_per_month                                                                           0.000\n",
       "host_acceptance_rate                                                                        0.000\n",
       "host_response_rate                                                                          0.000\n",
       "review_scores_rating                                                                        0.000\n",
       "cleaning_fee                                                                                0.000\n",
       "dtype: object"
      ]
     },
     "execution_count": 57,
     "metadata": {},
     "output_type": "execute_result"
    }
   ],
   "source": [
    "np.min(df)"
   ]
  },
  {
   "cell_type": "code",
   "execution_count": 58,
   "metadata": {
    "scrolled": true
   },
   "outputs": [
    {
     "data": {
      "text/plain": [
       "id                                                                                        9997148\n",
       "listing_url                                                  https://www.airbnb.com/rooms/9997148\n",
       "scrape_id                                                                          20200625032351\n",
       "last_scraped                                                                           2020-06-26\n",
       "name                                            ￮New apartment OPEN!Ikebukuro!WiFi free!2rd fl...\n",
       "summary                                         ￮お部屋のﾚｲｱｳﾄ ･15畳の広々としたﾘﾋﾞﾝｸﾞにｷｯﾁﾝ､ﾊﾞｽﾙｰﾑ､洗濯機､ﾄｲ...\n",
       "space                                           ￮Room￮ The room has a key, so your privacy is ...\n",
       "description                                     ￮お部屋のﾚｲｱｳﾄ ･15畳の広々としたﾘﾋﾞﾝｸﾞにｷｯﾁﾝ､ﾊﾞｽﾙｰﾑ､洗濯機､ﾄｲ...\n",
       "experiences_offered                                                                          none\n",
       "neighborhood_overview                           ￮ About 1.5 hours by train from Narita Airport...\n",
       "notes                                           ￮Your rooms is on the 2nd floor ￮Toilet is sha...\n",
       "transit                                         ￮Shinjuku It takes 2mins by train from Hatsuda...\n",
       "access                                          ￭办理入住手续､退房 登记入住:15:00 退房:11:00 补办入住手续也很灵活｡另外,在...\n",
       "interaction                                     ￭ Prompt Reply - Get back to you immediately. ...\n",
       "house_rules                                     ￭｢下駄箱｣Shoe cupboard ｢部屋に入る前､に靴を脱いでｽﾘｯﾊﾟを履いてくださ...\n",
       "picture_url                                     https://z0.muscache.cn/im/pictures/cfdad6db-94...\n",
       "host_id                                                                                  99992436\n",
       "host_url                                               https://www.airbnb.com/users/show/99992436\n",
       "host_name                                                                                 ﾜﾝﾓｱｽﾃｲ\n",
       "host_since                                                                             2020-06-21\n",
       "host_location                                                        鎌倉市材木座3丁目17-36aquaBrise鎌倉201\n",
       "host_about                                      ﾜｲﾝと温泉､旅行､猫が大好きです｡\\r\\nｹﾞｽﾄの皆さんに､東京のﾘｱﾙ生活を体験してい...\n",
       "host_response_time                                                                 within an hour\n",
       "host_is_superhost                                                                               t\n",
       "host_thumbnail_url                              https://z0.muscache.cn/im/pictures/user/b6cc2b...\n",
       "host_picture_url                                https://z0.muscache.cn/im/pictures/user/b6cc2b...\n",
       "host_verifications                                                                             []\n",
       "host_has_profile_pic                                                                            t\n",
       "host_identity_verified                                                                          t\n",
       "street                                                                            足立区, 東京都, Japan\n",
       "neighbourhood_cleansed                                                                  Zurenborg\n",
       "city                                                                                          足立区\n",
       "state                                                                                          鷺宮\n",
       "zipcode                                                                                  １４２－００６４\n",
       "market                                                                                      Tokyo\n",
       "smart_location                                                                         足立区, Japan\n",
       "country_code                                                                                   ZA\n",
       "country                                                                              South Africa\n",
       "is_location_exact                                                                               t\n",
       "property_type                                                                                Yurt\n",
       "room_type                                                                             Shared room\n",
       "bed_type                                                                                 Real Bed\n",
       "amenities                                                                                      {}\n",
       "minimum_nights                                                                                 99\n",
       "maximum_nights                                                                               9999\n",
       "calendar_updated                                                                        yesterday\n",
       "has_availability                                                                                t\n",
       "calendar_last_scraped                                                                  2020-06-26\n",
       "requires_license                                                                                t\n",
       "instant_bookable                                                                                t\n",
       "is_business_travel_ready                                                                        f\n",
       "cancellation_policy                                                               super_strict_60\n",
       "require_guest_profile_picture                                                                   t\n",
       "require_guest_phone_verification                                                                t\n",
       "first_review                                                                           2020-06-23\n",
       "last_review                                                                            2020-06-25\n",
       "latitude                                                                                   51.349\n",
       "longitude                                                                                 142.203\n",
       "bathrooms                                                                                  50.000\n",
       "price                                                                                   18510.555\n",
       "extra_people                                                                              352.801\n",
       "minimum_nights_avg_ntm                                                                   1125.000\n",
       "maximum_nights_avg_ntm                                                               10000000.000\n",
       "accommodates                                                                                   20\n",
       "guests_included                                                                                27\n",
       "minimum_minimum_nights                                                                       1125\n",
       "maximum_minimum_nights                                                                       1125\n",
       "minimum_maximum_nights                                                                   10000000\n",
       "maximum_maximum_nights                                                                   10000000\n",
       "availability_30                                                                                30\n",
       "availability_60                                                                                60\n",
       "availability_90                                                                                90\n",
       "availability_365                                                                              365\n",
       "number_of_reviews                                                                             567\n",
       "number_of_reviews_ltm                                                                         427\n",
       "calculated_host_listings_count                                                                395\n",
       "calculated_host_listings_count_entire_homes                                                   383\n",
       "bedrooms                                                                                       50\n",
       "beds                                                                                           56\n",
       "calculated_host_listings_count_private_rooms                                                   95\n",
       "calculated_host_listings_count_shared_rooms                                                    35\n",
       "host_listings_count                                                                          3331\n",
       "host_total_listings_count                                                                    3331\n",
       "security_deposit                                                                         9255.000\n",
       "review_scores_communication                                                                10.000\n",
       "review_scores_checkin                                                                      10.000\n",
       "review_scores_location                                                                     10.000\n",
       "review_scores_value                                                                        10.000\n",
       "review_scores_cleanliness                                                                  10.000\n",
       "review_scores_accuracy                                                                     10.000\n",
       "reviews_per_month                                                                          37.610\n",
       "host_acceptance_rate                                                                      100.000\n",
       "host_response_rate                                                                        100.000\n",
       "review_scores_rating                                                                      100.000\n",
       "cleaning_fee                                                                             3146.040\n",
       "dtype: object"
      ]
     },
     "execution_count": 58,
     "metadata": {},
     "output_type": "execute_result"
    }
   ],
   "source": [
    "np.max(df)"
   ]
  },
  {
   "cell_type": "markdown",
   "metadata": {},
   "source": [
    "We can also sort the array and select the first and last elements for the min and the max."
   ]
  },
  {
   "cell_type": "code",
   "execution_count": 59,
   "metadata": {},
   "outputs": [
    {
     "data": {
      "text/plain": [
       "'1'"
      ]
     },
     "execution_count": 59,
     "metadata": {},
     "output_type": "execute_result"
    }
   ],
   "source": [
    "# manual min\n",
    "sorted(df['minimum_nights'])[0]"
   ]
  },
  {
   "cell_type": "code",
   "execution_count": 60,
   "metadata": {},
   "outputs": [
    {
     "data": {
      "text/plain": [
       "'99'"
      ]
     },
     "execution_count": 60,
     "metadata": {},
     "output_type": "execute_result"
    }
   ],
   "source": [
    "# manual max\n",
    "sorted(df['minimum_nights'])[-1]"
   ]
  },
  {
   "cell_type": "markdown",
   "metadata": {},
   "source": [
    "## Skewness"
   ]
  },
  {
   "cell_type": "markdown",
   "metadata": {},
   "source": [
    "The Skewness of an array tells us how distorted the distribution of such array is from the most common value or the peak of the curve. A rightly-skewed distribution is said to be positively skewed, and the opposite means that there will be a mountain going on the opposite direction (see below).\n",
    "\n",
    "![skewness](https://4.bp.blogspot.com/-e-CL8iluz2o/Vt3Ntg_38kI/AAAAAAAAIJo/zGJMyNaMbFY/s1600/skewed.jpg)  \n",
    "**Source:** https://www.resourceaholic.com/p/resource-library-statistics-level.html\n",
    "\n",
    "$Skewness = \\frac{\\sum_{i=1}^{N} (X_{i} - \\overline{X})^{3}}{(N - 1)\\sigma^3}$\n",
    "\n",
    "In the folmula above, \n",
    "- $\\overline{X}$ stands for the mean\n",
    "- $N$ is the lenght of the array, vector, set, or list\n",
    "- The greek letter $\\sum$ denotes sumation\n",
    "- $X_{i}$ means every `x` value in our array starting from `i=1`\n",
    "- $\\sigma^3$ --> standard deviation to the cube\n",
    "\n",
    "Another important point to remember is that the mean of a positively-skewed distribution will be larger than the median, and the opposite is true for a negatively-skewed distribution. When skeweness is zero, there's no distortion in the distribution."
   ]
  },
  {
   "cell_type": "code",
   "execution_count": 61,
   "metadata": {},
   "outputs": [
    {
     "data": {
      "image/png": "[encoded data removed]",
      "text/plain": [
       "<Figure size 432x288 with 1 Axes>"
      ]
     },
     "metadata": {
      "needs_background": "light"
     },
     "output_type": "display_data"
    }
   ],
   "source": [
    "# let's see if the cleaning fees in our dataset present a distorted distribution\n",
    "sns.kdeplot(df['cleaning_fee'].sample(500))\n",
    "plt.title(\"Density distribution for Price per stay\")\n",
    "plt.show()"
   ]
  },
  {
   "cell_type": "markdown",
   "metadata": {},
   "source": [
    "We can also pass the `.skew()` method to our dataframe and get a sense of how distorted our variables might be."
   ]
  },
  {
   "cell_type": "code",
   "execution_count": 62,
   "metadata": {},
   "outputs": [
    {
     "data": {
      "text/plain": [
       "cleaning_fee       14.678\n",
       "security_deposit    8.574\n",
       "dtype: float32"
      ]
     },
     "execution_count": 62,
     "metadata": {},
     "output_type": "execute_result"
    }
   ],
   "source": [
    "df[['cleaning_fee', 'security_deposit']].skew()"
   ]
  },
  {
   "cell_type": "markdown",
   "metadata": {},
   "source": [
    "SciPy has convenient skew formula in the stats library as well."
   ]
  },
  {
   "cell_type": "code",
   "execution_count": 63,
   "metadata": {},
   "outputs": [],
   "source": [
    "from scipy.stats import skew"
   ]
  },
  {
   "cell_type": "code",
   "execution_count": 64,
   "metadata": {},
   "outputs": [
    {
     "name": "stdout",
     "output_type": "stream",
     "text": [
      "Extra People Skewness is 5.14\n"
     ]
    }
   ],
   "source": [
    "print(\"Extra People Skewness is %.2f\" % skew(df['extra_people']))"
   ]
  },
  {
   "cell_type": "code",
   "execution_count": 65,
   "metadata": {},
   "outputs": [
    {
     "data": {
      "image/png": "[encoded data removed]",
      "text/plain": [
       "<Figure size 432x288 with 1 Axes>"
      ]
     },
     "metadata": {
      "needs_background": "light"
     },
     "output_type": "display_data"
    }
   ],
   "source": [
    "sns.kdeplot(df['extra_people'].sample(500))\n",
    "plt.title(\"Density distribution for the price for extra people\")\n",
    "plt.show()"
   ]
  },
  {
   "cell_type": "markdown",
   "metadata": {},
   "source": [
    "## Kurtosis"
   ]
  },
  {
   "cell_type": "markdown",
   "metadata": {},
   "source": [
    "Kurtosis is a very useful statistic that tells us how much do the tails of the distribution of a random variable differ from those of a normal distribution (e.g. a true bell-shaped curve). It tells us if we have extreme values or not in our variable.\n",
    "\n",
    "The kurtosis of a normal distribution is usually at a value of 3. A much higher kurtosis than this means that we are dealing with outliers. On the other hand, a lower kurtosis means that the distribution we are dealing with has less extreme values than those seen in a normaly distributed array of data.\n",
    "\n",
    "![example_kurt](https://anuradhasaha.weebly.com/uploads/5/4/4/1/54419337/kurtosis2.jpg)  \n",
    "**Source:** image author, [Anuradha Saha](https://anuradhasaha.weebly.com/)\n",
    "\n",
    "Formula:\n",
    "\n",
    "$Skewness = \\frac{1}{n} \\sum_{i=1}^{n} (\\frac{x_{i} - \\overline{x}}{n - 1})\\sigma^4$\n",
    "\n",
    "In the folmula above, \n",
    "- $\\overline{x}$ stands for the mean\n",
    "- $n$ is the lenght of the array, vector, set, or list\n",
    "- The greek letter $\\sum$ denotes sumation\n",
    "- $x_{i}$ means every `x` value in our array starting from `i=1`\n",
    "- $\\sigma^3$ --> standard deviation to the cube\n",
    "\n",
    "Our pandas dataframe has two methods to calculate the Kurtosis. `.kurt()` and `.kurtosis()`. They both return the same output.\n",
    "\n",
    "**NB.** There is a great medium article on skewness and kurtosis that you can find [here](https://towardsdatascience.com/skewness-kurtosis-simplified-1338e094fc85)."
   ]
  },
  {
   "cell_type": "code",
   "execution_count": 66,
   "metadata": {},
   "outputs": [
    {
     "data": {
      "text/plain": [
       "['bathrooms',\n",
       " 'price',\n",
       " 'extra_people',\n",
       " 'minimum_nights_avg_ntm',\n",
       " 'maximum_nights_avg_ntm']"
      ]
     },
     "execution_count": 66,
     "metadata": {},
     "output_type": "execute_result"
    }
   ],
   "source": [
    "some_numerical_vars"
   ]
  },
  {
   "cell_type": "code",
   "execution_count": 67,
   "metadata": {},
   "outputs": [
    {
     "data": {
      "text/plain": [
       "bathrooms                  250.062\n",
       "price                      233.025\n",
       "extra_people                64.326\n",
       "minimum_nights_avg_ntm    2066.418\n",
       "maximum_nights_avg_ntm   39727.141\n",
       "dtype: float32"
      ]
     },
     "execution_count": 67,
     "metadata": {},
     "output_type": "execute_result"
    }
   ],
   "source": [
    "df[some_numerical_vars].kurt()"
   ]
  },
  {
   "cell_type": "code",
   "execution_count": 68,
   "metadata": {},
   "outputs": [
    {
     "data": {
      "text/plain": [
       "bathrooms                 True\n",
       "price                     True\n",
       "extra_people              True\n",
       "minimum_nights_avg_ntm    True\n",
       "maximum_nights_avg_ntm    True\n",
       "dtype: bool"
      ]
     },
     "execution_count": 68,
     "metadata": {},
     "output_type": "execute_result"
    }
   ],
   "source": [
    "df[some_numerical_vars].kurtosis() == df[some_numerical_vars].kurt()"
   ]
  },
  {
   "cell_type": "code",
   "execution_count": 69,
   "metadata": {},
   "outputs": [],
   "source": [
    "from scipy.stats import kurtosis"
   ]
  },
  {
   "cell_type": "code",
   "execution_count": 70,
   "metadata": {},
   "outputs": [
    {
     "name": "stdout",
     "output_type": "stream",
     "text": [
      "Cleaning fee Kurtosis 780.56\n"
     ]
    }
   ],
   "source": [
    "print(\"Cleaning fee Kurtosis %.2f\" % kurtosis(df['cleaning_fee']))"
   ]
  },
  {
   "cell_type": "markdown",
   "metadata": {},
   "source": [
    "# Relationships"
   ]
  },
  {
   "cell_type": "markdown",
   "metadata": {},
   "source": [
    "As data analysts we want to be able to determine how does one variable changes or moves in relation to another. We can do this visually using quantitative variables and scatter plots or with some handy mathematical functions that we can either create ourselves, or use from libraries like NumPy and SciPy. Let's begin by talking about correlation.\n",
    "\n",
    "**Correlation** is a measure of how strongly related two variables are with one another. It gives us a way of quantifying the similarity, disimilarity, or lack-therof between variables. The value of the correlation between two variables goes from -1 to 1, where 1 means positively correlated, -1 means negatively correlated, and 0 means no correlation whatsoever. This value is derived by calculating the **Pearson Correlation Coefficient**, among other measures.\n",
    "\n",
    "![corr](https://www.investopedia.com/thmb/PXAx5y_OS5z7n-Rn9m--QOC29rw=/1500x1000/filters:no_upscale():max_bytes(150000):strip_icc()/TC_3126228-how-to-calculate-the-correlation-coefficient-5aabeb313de423003610ee40.png)  \n",
    "**Source:** [Investopedia](https://www.investopedia.com/ask/answers/032515/what-does-it-mean-if-correlation-coefficient-positive-negative-or-zero.asp)\n",
    "\n",
    "The correlation between two or more variables can be best observed through visualisations such as scatter plots and they can also be directly computed by hand or by using different functions in Python. The mathematical formula is:\n",
    "\n",
    "$r_{xy}=\\dfrac {\\sum \\left( x_{i}-\\overline {x}\\right) \\left( y_{i}-\\overline {y}\\right) }{\\sqrt {\\sum \\left( x_{i}-\\overline {x}\\right) ^{2}\\sum \\left( y_{i}-\\overline {y}\\right) ^{2}}}$\n",
    "\n",
    "\n",
    "Where\n",
    "\n",
    "- $r_{xy}$ is the relationship between the variables X and Y\n",
    "- $x_{i}$ is every element in array X\n",
    "- $y_{i}$ is every element in array Y\n",
    "- $\\overline {x}$ is the mean of array X\n",
    "- $\\overline {y}$ is the mean of array Y\n",
    "\n",
    "For the correlation, we are dividing the covariance between the product of the standard deviations of each array. More on covariance below."
   ]
  },
  {
   "cell_type": "code",
   "execution_count": 71,
   "metadata": {},
   "outputs": [],
   "source": [
    "# let's create some columns for our prices\n",
    "prices = df['price']\n",
    "clean_fee = df['cleaning_fee']\n",
    "\n",
    "mean_price = prices.mean()\n",
    "mean_clean = clean_fee.mean()"
   ]
  },
  {
   "cell_type": "code",
   "execution_count": 72,
   "metadata": {},
   "outputs": [
    {
     "data": {
      "text/plain": [
       "173698261.77901667"
      ]
     },
     "execution_count": 72,
     "metadata": {},
     "output_type": "execute_result"
    }
   ],
   "source": [
    "# let's sum up the product of the differences between the elements in each array and their mean\n",
    "arrays_diff_sum = sum((prices - mean_price) * (clean_fee - mean_clean))\n",
    "arrays_diff_sum"
   ]
  },
  {
   "cell_type": "code",
   "execution_count": 73,
   "metadata": {},
   "outputs": [
    {
     "data": {
      "text/plain": [
       "997613527.6975418"
      ]
     },
     "execution_count": 73,
     "metadata": {},
     "output_type": "execute_result"
    }
   ],
   "source": [
    "# let's now compute the square root of the sum of the squared difference between each of the \n",
    "# elements in an array and its mean\n",
    "diff_sqrt = np.sqrt(sum((prices - mean_price)**2) * sum((clean_fee - mean_clean)**2))\n",
    "diff_sqrt"
   ]
  },
  {
   "cell_type": "code",
   "execution_count": 74,
   "metadata": {},
   "outputs": [
    {
     "name": "stdout",
     "output_type": "stream",
     "text": [
      "The correlation between regular prices per stay and the cleaning fees is: 0.174\n"
     ]
    }
   ],
   "source": [
    "r_xy = arrays_diff_sum / diff_sqrt\n",
    "print(\"The correlation between regular prices per stay and the cleaning fees is: %.3f\" % r_xy)"
   ]
  },
  {
   "cell_type": "code",
   "execution_count": 75,
   "metadata": {},
   "outputs": [
    {
     "name": "stdout",
     "output_type": "stream",
     "text": [
      "Correlation between prices per stay and the cleaning fees is: 0.174\n"
     ]
    }
   ],
   "source": [
    "# you can conveniently call the pandas method .corr with two Series as well and achieve the same result\n",
    "print(\"Correlation between prices per stay and the cleaning fees is: %.3f\" % prices.corr(clean_fee))"
   ]
  },
  {
   "cell_type": "markdown",
   "metadata": {},
   "source": [
    "The `pearsonr()` function from scipy stats will also give you the pearson correlation plus the p-value of the arrays. The P-value is the probability that you would have found the current result in another similar sample if the correlation was in fact zero. Think about this as the least likely chance to see another value like the one we got."
   ]
  },
  {
   "cell_type": "code",
   "execution_count": 76,
   "metadata": {},
   "outputs": [],
   "source": [
    "from scipy.stats import pearsonr"
   ]
  },
  {
   "cell_type": "code",
   "execution_count": 77,
   "metadata": {},
   "outputs": [
    {
     "data": {
      "text/plain": [
       "0.17411377960423227"
      ]
     },
     "execution_count": 77,
     "metadata": {},
     "output_type": "execute_result"
    }
   ],
   "source": [
    "pearsonr(prices, clean_fee)[0]"
   ]
  },
  {
   "cell_type": "code",
   "execution_count": 78,
   "metadata": {},
   "outputs": [
    {
     "data": {
      "text/html": [
       "<div>\n",
       "<style scoped>\n",
       "    .dataframe tbody tr th:only-of-type {\n",
       "        vertical-align: middle;\n",
       "    }\n",
       "\n",
       "    .dataframe tbody tr th {\n",
       "        vertical-align: top;\n",
       "    }\n",
       "\n",
       "    .dataframe thead th {\n",
       "        text-align: right;\n",
       "    }\n",
       "</style>\n",
       "<table border=\"1\" class=\"dataframe\">\n",
       "  <thead>\n",
       "    <tr style=\"text-align: right;\">\n",
       "      <th></th>\n",
       "      <th>id</th>\n",
       "      <th>listing_url</th>\n",
       "      <th>scrape_id</th>\n",
       "      <th>last_scraped</th>\n",
       "      <th>name</th>\n",
       "      <th>summary</th>\n",
       "      <th>space</th>\n",
       "      <th>description</th>\n",
       "      <th>experiences_offered</th>\n",
       "      <th>neighborhood_overview</th>\n",
       "      <th>notes</th>\n",
       "      <th>transit</th>\n",
       "      <th>access</th>\n",
       "      <th>interaction</th>\n",
       "      <th>house_rules</th>\n",
       "      <th>picture_url</th>\n",
       "      <th>host_id</th>\n",
       "      <th>host_url</th>\n",
       "      <th>host_name</th>\n",
       "      <th>host_since</th>\n",
       "      <th>host_location</th>\n",
       "      <th>host_about</th>\n",
       "      <th>host_response_time</th>\n",
       "      <th>host_is_superhost</th>\n",
       "      <th>host_thumbnail_url</th>\n",
       "      <th>host_picture_url</th>\n",
       "      <th>host_verifications</th>\n",
       "      <th>host_has_profile_pic</th>\n",
       "      <th>host_identity_verified</th>\n",
       "      <th>street</th>\n",
       "      <th>neighbourhood_cleansed</th>\n",
       "      <th>city</th>\n",
       "      <th>state</th>\n",
       "      <th>zipcode</th>\n",
       "      <th>market</th>\n",
       "      <th>smart_location</th>\n",
       "      <th>country_code</th>\n",
       "      <th>country</th>\n",
       "      <th>is_location_exact</th>\n",
       "      <th>property_type</th>\n",
       "      <th>room_type</th>\n",
       "      <th>bed_type</th>\n",
       "      <th>amenities</th>\n",
       "      <th>minimum_nights</th>\n",
       "      <th>maximum_nights</th>\n",
       "      <th>calendar_updated</th>\n",
       "      <th>has_availability</th>\n",
       "      <th>calendar_last_scraped</th>\n",
       "      <th>requires_license</th>\n",
       "      <th>instant_bookable</th>\n",
       "      <th>is_business_travel_ready</th>\n",
       "      <th>cancellation_policy</th>\n",
       "      <th>require_guest_profile_picture</th>\n",
       "      <th>require_guest_phone_verification</th>\n",
       "      <th>first_review</th>\n",
       "      <th>last_review</th>\n",
       "      <th>latitude</th>\n",
       "      <th>longitude</th>\n",
       "      <th>bathrooms</th>\n",
       "      <th>price</th>\n",
       "      <th>extra_people</th>\n",
       "      <th>minimum_nights_avg_ntm</th>\n",
       "      <th>maximum_nights_avg_ntm</th>\n",
       "      <th>accommodates</th>\n",
       "      <th>guests_included</th>\n",
       "      <th>minimum_minimum_nights</th>\n",
       "      <th>maximum_minimum_nights</th>\n",
       "      <th>minimum_maximum_nights</th>\n",
       "      <th>maximum_maximum_nights</th>\n",
       "      <th>availability_30</th>\n",
       "      <th>availability_60</th>\n",
       "      <th>availability_90</th>\n",
       "      <th>availability_365</th>\n",
       "      <th>number_of_reviews</th>\n",
       "      <th>number_of_reviews_ltm</th>\n",
       "      <th>calculated_host_listings_count</th>\n",
       "      <th>calculated_host_listings_count_entire_homes</th>\n",
       "      <th>bedrooms</th>\n",
       "      <th>beds</th>\n",
       "      <th>calculated_host_listings_count_private_rooms</th>\n",
       "      <th>calculated_host_listings_count_shared_rooms</th>\n",
       "      <th>host_listings_count</th>\n",
       "      <th>host_total_listings_count</th>\n",
       "      <th>security_deposit</th>\n",
       "      <th>review_scores_communication</th>\n",
       "      <th>review_scores_checkin</th>\n",
       "      <th>review_scores_location</th>\n",
       "      <th>review_scores_value</th>\n",
       "      <th>review_scores_cleanliness</th>\n",
       "      <th>review_scores_accuracy</th>\n",
       "      <th>reviews_per_month</th>\n",
       "      <th>host_acceptance_rate</th>\n",
       "      <th>host_response_rate</th>\n",
       "      <th>review_scores_rating</th>\n",
       "      <th>cleaning_fee</th>\n",
       "    </tr>\n",
       "  </thead>\n",
       "  <tbody>\n",
       "    <tr>\n",
       "      <th>5866</th>\n",
       "      <td>31000095</td>\n",
       "      <td>https://www.airbnb.com/rooms/31000095</td>\n",
       "      <td>20200625032351</td>\n",
       "      <td>2020-06-26</td>\n",
       "      <td>Shinjuku  JR Shin-okubo sta. 3mins Homely House</td>\n",
       "      <td>The district Shinjuku area,nearby JR Shin-okub...</td>\n",
       "      <td>Three-storey building, four rooms: The first f...</td>\n",
       "      <td>The district Shinjuku area,nearby JR Shin-okub...</td>\n",
       "      <td>none</td>\n",
       "      <td>Shin-Okubo Station is famous for its Korean ci...</td>\n",
       "      <td>Basically check in time at 16:00 / check out t...</td>\n",
       "      <td>◎ There are two nearest stations, namely Shin-...</td>\n",
       "      <td>The new decoration and equipment, we hope you ...</td>\n",
       "      <td>Any problem in Tokyo can provide assistance du...</td>\n",
       "      <td>Unknown</td>\n",
       "      <td>https://a0.muscache.com/im/pictures/92e9a30d-a...</td>\n",
       "      <td>23641660</td>\n",
       "      <td>https://www.airbnb.com/users/show/23641660</td>\n",
       "      <td>Airi</td>\n",
       "      <td>2014-11-12</td>\n",
       "      <td>Toshima, Tokyo, Japan</td>\n",
       "      <td>Unknown</td>\n",
       "      <td>within an hour</td>\n",
       "      <td>f</td>\n",
       "      <td>https://a0.muscache.com/im/users/23641660/prof...</td>\n",
       "      <td>https://a0.muscache.com/im/users/23641660/prof...</td>\n",
       "      <td>['email', 'phone', 'jumio', 'selfie', 'governm...</td>\n",
       "      <td>t</td>\n",
       "      <td>f</td>\n",
       "      <td>Shinjuku, Tokyo, Japan</td>\n",
       "      <td>Shinjuku Ku</td>\n",
       "      <td>Shinjuku</td>\n",
       "      <td>Tokyo</td>\n",
       "      <td>169-0073</td>\n",
       "      <td>Tokyo</td>\n",
       "      <td>Shinjuku, Japan</td>\n",
       "      <td>JP</td>\n",
       "      <td>Japan</td>\n",
       "      <td>t</td>\n",
       "      <td>House</td>\n",
       "      <td>Entire home/apt</td>\n",
       "      <td>Real Bed</td>\n",
       "      <td>{TV,Wifi,\"Air conditioning\",Kitchen,Heating,Wa...</td>\n",
       "      <td>2</td>\n",
       "      <td>1125</td>\n",
       "      <td>3 months ago</td>\n",
       "      <td>t</td>\n",
       "      <td>2020-06-26</td>\n",
       "      <td>t</td>\n",
       "      <td>t</td>\n",
       "      <td>f</td>\n",
       "      <td>flexible</td>\n",
       "      <td>f</td>\n",
       "      <td>f</td>\n",
       "      <td>2019-02-26</td>\n",
       "      <td>2020-03-11</td>\n",
       "      <td>35.699</td>\n",
       "      <td>139.698</td>\n",
       "      <td>2.000</td>\n",
       "      <td>605.050</td>\n",
       "      <td>20.582</td>\n",
       "      <td>2.000</td>\n",
       "      <td>1125.000</td>\n",
       "      <td>11</td>\n",
       "      <td>2</td>\n",
       "      <td>2</td>\n",
       "      <td>2</td>\n",
       "      <td>1125</td>\n",
       "      <td>1125</td>\n",
       "      <td>26</td>\n",
       "      <td>46</td>\n",
       "      <td>63</td>\n",
       "      <td>149</td>\n",
       "      <td>19</td>\n",
       "      <td>13</td>\n",
       "      <td>2</td>\n",
       "      <td>2</td>\n",
       "      <td>4</td>\n",
       "      <td>7</td>\n",
       "      <td>0</td>\n",
       "      <td>0</td>\n",
       "      <td>12</td>\n",
       "      <td>12</td>\n",
       "      <td>205.795</td>\n",
       "      <td>9.000</td>\n",
       "      <td>9.000</td>\n",
       "      <td>10.000</td>\n",
       "      <td>9.000</td>\n",
       "      <td>9.000</td>\n",
       "      <td>10.000</td>\n",
       "      <td>1.170</td>\n",
       "      <td>100.000</td>\n",
       "      <td>100.000</td>\n",
       "      <td>91.000</td>\n",
       "      <td>82.320</td>\n",
       "    </tr>\n",
       "    <tr>\n",
       "      <th>13341</th>\n",
       "      <td>42388049</td>\n",
       "      <td>https://www.airbnb.com/rooms/42388049</td>\n",
       "      <td>20200625032351</td>\n",
       "      <td>2020-06-26</td>\n",
       "      <td>MUMU) Tokyo's premier center Shinjuku! Free WIFI</td>\n",
       "      <td>** Discount for May&amp;June! ** Duplex Apartment ...</td>\n",
       "      <td>It is located a 7-minute walk from Higashi-Shi...</td>\n",
       "      <td>** Discount for May&amp;June! ** Duplex Apartment ...</td>\n",
       "      <td>none</td>\n",
       "      <td>The best thing of my place is the accessibilit...</td>\n",
       "      <td>EASY Check-in and Checkout: Happy to be flexib...</td>\n",
       "      <td>Higashi Shinjuku station - 7mins on foot. JR S...</td>\n",
       "      <td>You will have full kitchen with everything you...</td>\n",
       "      <td>I am more than willing to help you out if you ...</td>\n",
       "      <td>Unknown</td>\n",
       "      <td>https://a0.muscache.com/im/pictures/c5606851-1...</td>\n",
       "      <td>30451776</td>\n",
       "      <td>https://www.airbnb.com/users/show/30451776</td>\n",
       "      <td>Emily</td>\n",
       "      <td>2015-04-02</td>\n",
       "      <td>Tokyo、日本</td>\n",
       "      <td>Hello, guys! My name is Emily. \\r\\nI love to t...</td>\n",
       "      <td>within an hour</td>\n",
       "      <td>f</td>\n",
       "      <td>https://a0.muscache.com/im/pictures/user/6ab9c...</td>\n",
       "      <td>https://a0.muscache.com/im/pictures/user/6ab9c...</td>\n",
       "      <td>['email', 'phone', 'manual_offline', 'offline_...</td>\n",
       "      <td>t</td>\n",
       "      <td>f</td>\n",
       "      <td>Shinjuku City, Tōkyō-to, Japan</td>\n",
       "      <td>Shinjuku Ku</td>\n",
       "      <td>Shinjuku City</td>\n",
       "      <td>Tōkyō-to</td>\n",
       "      <td>160-0022</td>\n",
       "      <td>Tokyo</td>\n",
       "      <td>Shinjuku City, Japan</td>\n",
       "      <td>JP</td>\n",
       "      <td>Japan</td>\n",
       "      <td>t</td>\n",
       "      <td>House</td>\n",
       "      <td>Entire home/apt</td>\n",
       "      <td>Real Bed</td>\n",
       "      <td>{TV,Wifi,\"Air conditioning\",Kitchen,Heating,Wa...</td>\n",
       "      <td>1</td>\n",
       "      <td>1125</td>\n",
       "      <td>3 months ago</td>\n",
       "      <td>t</td>\n",
       "      <td>2020-06-26</td>\n",
       "      <td>t</td>\n",
       "      <td>t</td>\n",
       "      <td>f</td>\n",
       "      <td>strict_14_with_grace_period</td>\n",
       "      <td>f</td>\n",
       "      <td>f</td>\n",
       "      <td>2020-04-03</td>\n",
       "      <td>2020-04-30</td>\n",
       "      <td>35.701</td>\n",
       "      <td>139.712</td>\n",
       "      <td>1.000</td>\n",
       "      <td>192.422</td>\n",
       "      <td>28.800</td>\n",
       "      <td>1.000</td>\n",
       "      <td>1125.000</td>\n",
       "      <td>7</td>\n",
       "      <td>3</td>\n",
       "      <td>1</td>\n",
       "      <td>1</td>\n",
       "      <td>1125</td>\n",
       "      <td>1125</td>\n",
       "      <td>26</td>\n",
       "      <td>42</td>\n",
       "      <td>67</td>\n",
       "      <td>197</td>\n",
       "      <td>2</td>\n",
       "      <td>2</td>\n",
       "      <td>19</td>\n",
       "      <td>18</td>\n",
       "      <td>3</td>\n",
       "      <td>1</td>\n",
       "      <td>1</td>\n",
       "      <td>0</td>\n",
       "      <td>24</td>\n",
       "      <td>24</td>\n",
       "      <td>0.000</td>\n",
       "      <td>9.000</td>\n",
       "      <td>8.000</td>\n",
       "      <td>8.000</td>\n",
       "      <td>10.000</td>\n",
       "      <td>10.000</td>\n",
       "      <td>8.000</td>\n",
       "      <td>0.710</td>\n",
       "      <td>100.000</td>\n",
       "      <td>99.000</td>\n",
       "      <td>100.000</td>\n",
       "      <td>96.000</td>\n",
       "    </tr>\n",
       "    <tr>\n",
       "      <th>3738</th>\n",
       "      <td>26853484</td>\n",
       "      <td>https://www.airbnb.com/rooms/26853484</td>\n",
       "      <td>20200625032351</td>\n",
       "      <td>2020-06-26</td>\n",
       "      <td>Newly constructed 1R Mansion!Near Ueno Asakusa !</td>\n",
       "      <td>◆My house is a new building 7 min. Walk from M...</td>\n",
       "      <td>◆My house is a new building 7 min. Walk from M...</td>\n",
       "      <td>◆My house is a new building 7 min. Walk from M...</td>\n",
       "      <td>none</td>\n",
       "      <td>My house is a 7-minute walk from Minami-Senju ...</td>\n",
       "      <td>After confirming the reservation, I will send ...</td>\n",
       "      <td>Tokyo Metro Hibiya Line / Minami-Senju Station...</td>\n",
       "      <td>All rooms are free to use.</td>\n",
       "      <td>I am not staying at this house. However, if th...</td>\n",
       "      <td>Unknown</td>\n",
       "      <td>https://a0.muscache.com/im/pictures/57556fdd-b...</td>\n",
       "      <td>193327805</td>\n",
       "      <td>https://www.airbnb.com/users/show/193327805</td>\n",
       "      <td>正明</td>\n",
       "      <td>2018-06-03</td>\n",
       "      <td>JP</td>\n",
       "      <td>Unknown</td>\n",
       "      <td>within an hour</td>\n",
       "      <td>f</td>\n",
       "      <td>https://a0.muscache.com/im/pictures/user/31b3d...</td>\n",
       "      <td>https://a0.muscache.com/im/pictures/user/31b3d...</td>\n",
       "      <td>['email', 'phone', 'jumio', 'offline_governmen...</td>\n",
       "      <td>t</td>\n",
       "      <td>t</td>\n",
       "      <td>Taitō-ku, Tōkyō-to, Japan</td>\n",
       "      <td>Taito Ku</td>\n",
       "      <td>Taitō-ku</td>\n",
       "      <td>Tōkyō-to</td>\n",
       "      <td>111-0021</td>\n",
       "      <td>Tokyo</td>\n",
       "      <td>Taitō-ku, Japan</td>\n",
       "      <td>JP</td>\n",
       "      <td>Japan</td>\n",
       "      <td>t</td>\n",
       "      <td>Apartment</td>\n",
       "      <td>Entire home/apt</td>\n",
       "      <td>Real Bed</td>\n",
       "      <td>{TV,\"Air conditioning\",Kitchen,Washer,\"Smoke a...</td>\n",
       "      <td>2</td>\n",
       "      <td>1125</td>\n",
       "      <td>4 weeks ago</td>\n",
       "      <td>t</td>\n",
       "      <td>2020-06-26</td>\n",
       "      <td>t</td>\n",
       "      <td>t</td>\n",
       "      <td>f</td>\n",
       "      <td>moderate</td>\n",
       "      <td>f</td>\n",
       "      <td>f</td>\n",
       "      <td>2018-07-27</td>\n",
       "      <td>2020-05-31</td>\n",
       "      <td>35.727</td>\n",
       "      <td>139.798</td>\n",
       "      <td>1.000</td>\n",
       "      <td>48.365</td>\n",
       "      <td>0.000</td>\n",
       "      <td>2.000</td>\n",
       "      <td>1125.000</td>\n",
       "      <td>2</td>\n",
       "      <td>1</td>\n",
       "      <td>2</td>\n",
       "      <td>2</td>\n",
       "      <td>1125</td>\n",
       "      <td>1125</td>\n",
       "      <td>22</td>\n",
       "      <td>52</td>\n",
       "      <td>82</td>\n",
       "      <td>89</td>\n",
       "      <td>56</td>\n",
       "      <td>26</td>\n",
       "      <td>16</td>\n",
       "      <td>16</td>\n",
       "      <td>0</td>\n",
       "      <td>1</td>\n",
       "      <td>0</td>\n",
       "      <td>0</td>\n",
       "      <td>15</td>\n",
       "      <td>15</td>\n",
       "      <td>0.000</td>\n",
       "      <td>10.000</td>\n",
       "      <td>10.000</td>\n",
       "      <td>9.000</td>\n",
       "      <td>10.000</td>\n",
       "      <td>10.000</td>\n",
       "      <td>10.000</td>\n",
       "      <td>2.400</td>\n",
       "      <td>100.000</td>\n",
       "      <td>100.000</td>\n",
       "      <td>97.000</td>\n",
       "      <td>63.360</td>\n",
       "    </tr>\n",
       "    <tr>\n",
       "      <th>2346</th>\n",
       "      <td>21829099</td>\n",
       "      <td>https://www.airbnb.com/rooms/21829099</td>\n",
       "      <td>20200625032351</td>\n",
       "      <td>2020-06-26</td>\n",
       "      <td>EntireSpaceCleaningConvenient centralCleaning独享空间</td>\n",
       "      <td>To narida airport35mins ,  To shinjuku20mins ,...</td>\n",
       "      <td>東京の朝倉彫塑館､ﾌｧｰﾌﾞﾙ昆虫館､幸田露伴住宅｢蝸牛庵｣の近くに位置にあります,無料Wi...</td>\n",
       "      <td>To narida airport35mins ,  To shinjuku20mins ,...</td>\n",
       "      <td>none</td>\n",
       "      <td>It’s closed to ueno,ikebukuro,Tokyo station,ak...</td>\n",
       "      <td>Keep room ,shower room,toilet clean,walk slowl...</td>\n",
       "      <td>There are 3 train stations nearby my house, 1 ...</td>\n",
       "      <td>This is old long history street, it’s call yan...</td>\n",
       "      <td>I am so glad to help you travel to Tokyo and a...</td>\n",
       "      <td>Unknown</td>\n",
       "      <td>https://a0.muscache.com/im/pictures/9aed4264-4...</td>\n",
       "      <td>24087904</td>\n",
       "      <td>https://www.airbnb.com/users/show/24087904</td>\n",
       "      <td>Rinrin</td>\n",
       "      <td>2014-11-23</td>\n",
       "      <td>Matsudo, Chiba Prefecture, Japan</td>\n",
       "      <td>我是Linlin,喜欢旅游,深深地体会着住宿在旅游中是个大消费,所以我愿意提供一个干净,便宜...</td>\n",
       "      <td>within an hour</td>\n",
       "      <td>f</td>\n",
       "      <td>https://a0.muscache.com/im/pictures/user/59a00...</td>\n",
       "      <td>https://a0.muscache.com/im/pictures/user/59a00...</td>\n",
       "      <td>['email', 'phone', 'reviews', 'jumio', 'offlin...</td>\n",
       "      <td>t</td>\n",
       "      <td>t</td>\n",
       "      <td>Bunkyo, Tokyo, Japan</td>\n",
       "      <td>Bunkyo Ku</td>\n",
       "      <td>Bunkyo</td>\n",
       "      <td>Tokyo</td>\n",
       "      <td>113-0022</td>\n",
       "      <td>Tokyo</td>\n",
       "      <td>Bunkyo, Japan</td>\n",
       "      <td>JP</td>\n",
       "      <td>Japan</td>\n",
       "      <td>f</td>\n",
       "      <td>House</td>\n",
       "      <td>Entire home/apt</td>\n",
       "      <td>Real Bed</td>\n",
       "      <td>{Wifi,\"Air conditioning\",\"Paid parking off pre...</td>\n",
       "      <td>1</td>\n",
       "      <td>1125</td>\n",
       "      <td>3 months ago</td>\n",
       "      <td>t</td>\n",
       "      <td>2020-06-26</td>\n",
       "      <td>t</td>\n",
       "      <td>f</td>\n",
       "      <td>f</td>\n",
       "      <td>strict_14_with_grace_period</td>\n",
       "      <td>f</td>\n",
       "      <td>f</td>\n",
       "      <td>2017-11-25</td>\n",
       "      <td>2020-02-18</td>\n",
       "      <td>35.729</td>\n",
       "      <td>139.763</td>\n",
       "      <td>1.500</td>\n",
       "      <td>52.483</td>\n",
       "      <td>24.000</td>\n",
       "      <td>1.000</td>\n",
       "      <td>1125.000</td>\n",
       "      <td>3</td>\n",
       "      <td>2</td>\n",
       "      <td>1</td>\n",
       "      <td>1</td>\n",
       "      <td>1125</td>\n",
       "      <td>1125</td>\n",
       "      <td>27</td>\n",
       "      <td>51</td>\n",
       "      <td>81</td>\n",
       "      <td>339</td>\n",
       "      <td>61</td>\n",
       "      <td>11</td>\n",
       "      <td>6</td>\n",
       "      <td>6</td>\n",
       "      <td>1</td>\n",
       "      <td>3</td>\n",
       "      <td>0</td>\n",
       "      <td>0</td>\n",
       "      <td>6</td>\n",
       "      <td>6</td>\n",
       "      <td>288.000</td>\n",
       "      <td>10.000</td>\n",
       "      <td>10.000</td>\n",
       "      <td>10.000</td>\n",
       "      <td>9.000</td>\n",
       "      <td>9.000</td>\n",
       "      <td>9.000</td>\n",
       "      <td>1.940</td>\n",
       "      <td>96.000</td>\n",
       "      <td>100.000</td>\n",
       "      <td>91.000</td>\n",
       "      <td>43.200</td>\n",
       "    </tr>\n",
       "    <tr>\n",
       "      <th>13189</th>\n",
       "      <td>42282060</td>\n",
       "      <td>https://www.airbnb.com/rooms/42282060</td>\n",
       "      <td>20200625032351</td>\n",
       "      <td>2020-06-26</td>\n",
       "      <td>Super NEW apt/3mins to JR/Free High Speed WiFi...</td>\n",
       "      <td>New apartment building has just built within 3...</td>\n",
       "      <td>-a double sized bed - TV - Tabel - two Chairs...</td>\n",
       "      <td>New apartment building has just built within 3...</td>\n",
       "      <td>none</td>\n",
       "      <td>Unknown</td>\n",
       "      <td>Since the new law has come into effect from Ju...</td>\n",
       "      <td>The nearest station is JR Yamanote Line \"Komag...</td>\n",
       "      <td>Entire apartment is yours:)</td>\n",
       "      <td>Please contact me via Airbnb messaging if you ...</td>\n",
       "      <td>Unknown</td>\n",
       "      <td>https://a0.muscache.com/im/pictures/3b4336f1-1...</td>\n",
       "      <td>42244167</td>\n",
       "      <td>https://www.airbnb.com/users/show/42244167</td>\n",
       "      <td>Hiro</td>\n",
       "      <td>2015-08-23</td>\n",
       "      <td>Taito, Tokyo, Japan</td>\n",
       "      <td>Hello\\r\\nMy name is Hirofumi Masuda.\\r\\nI had ...</td>\n",
       "      <td>within an hour</td>\n",
       "      <td>f</td>\n",
       "      <td>https://a0.muscache.com/im/pictures/user/a1906...</td>\n",
       "      <td>https://a0.muscache.com/im/pictures/user/a1906...</td>\n",
       "      <td>['email', 'phone', 'reviews', 'jumio', 'govern...</td>\n",
       "      <td>t</td>\n",
       "      <td>f</td>\n",
       "      <td>Toshima City, Tōkyō-to, Japan</td>\n",
       "      <td>Toshima Ku</td>\n",
       "      <td>Toshima City</td>\n",
       "      <td>Tōkyō-to</td>\n",
       "      <td>170-0003</td>\n",
       "      <td>Tokyo</td>\n",
       "      <td>Toshima City, Japan</td>\n",
       "      <td>JP</td>\n",
       "      <td>Japan</td>\n",
       "      <td>t</td>\n",
       "      <td>Apartment</td>\n",
       "      <td>Entire home/apt</td>\n",
       "      <td>Real Bed</td>\n",
       "      <td>{TV,Wifi,\"Air conditioning\",Kitchen,Heating,Wa...</td>\n",
       "      <td>1</td>\n",
       "      <td>180</td>\n",
       "      <td>3 weeks ago</td>\n",
       "      <td>t</td>\n",
       "      <td>2020-06-26</td>\n",
       "      <td>t</td>\n",
       "      <td>t</td>\n",
       "      <td>f</td>\n",
       "      <td>flexible</td>\n",
       "      <td>f</td>\n",
       "      <td>f</td>\n",
       "      <td>2020-03-04</td>\n",
       "      <td>2020-05-11</td>\n",
       "      <td>35.738</td>\n",
       "      <td>139.748</td>\n",
       "      <td>1.000</td>\n",
       "      <td>77.174</td>\n",
       "      <td>14.400</td>\n",
       "      <td>1.000</td>\n",
       "      <td>180.000</td>\n",
       "      <td>2</td>\n",
       "      <td>1</td>\n",
       "      <td>1</td>\n",
       "      <td>1</td>\n",
       "      <td>180</td>\n",
       "      <td>180</td>\n",
       "      <td>26</td>\n",
       "      <td>56</td>\n",
       "      <td>86</td>\n",
       "      <td>176</td>\n",
       "      <td>4</td>\n",
       "      <td>4</td>\n",
       "      <td>41</td>\n",
       "      <td>38</td>\n",
       "      <td>0</td>\n",
       "      <td>1</td>\n",
       "      <td>0</td>\n",
       "      <td>0</td>\n",
       "      <td>49</td>\n",
       "      <td>49</td>\n",
       "      <td>480.000</td>\n",
       "      <td>10.000</td>\n",
       "      <td>10.000</td>\n",
       "      <td>10.000</td>\n",
       "      <td>10.000</td>\n",
       "      <td>10.000</td>\n",
       "      <td>10.000</td>\n",
       "      <td>1.040</td>\n",
       "      <td>100.000</td>\n",
       "      <td>100.000</td>\n",
       "      <td>100.000</td>\n",
       "      <td>28.800</td>\n",
       "    </tr>\n",
       "  </tbody>\n",
       "</table>\n",
       "</div>"
      ],
      "text/plain": [
       "             id                            listing_url       scrape_id  \\\n",
       "5866   31000095  https://www.airbnb.com/rooms/31000095  20200625032351   \n",
       "13341  42388049  https://www.airbnb.com/rooms/42388049  20200625032351   \n",
       "3738   26853484  https://www.airbnb.com/rooms/26853484  20200625032351   \n",
       "2346   21829099  https://www.airbnb.com/rooms/21829099  20200625032351   \n",
       "13189  42282060  https://www.airbnb.com/rooms/42282060  20200625032351   \n",
       "\n",
       "      last_scraped                                               name  \\\n",
       "5866    2020-06-26    Shinjuku  JR Shin-okubo sta. 3mins Homely House   \n",
       "13341   2020-06-26   MUMU) Tokyo's premier center Shinjuku! Free WIFI   \n",
       "3738    2020-06-26   Newly constructed 1R Mansion!Near Ueno Asakusa !   \n",
       "2346    2020-06-26  EntireSpaceCleaningConvenient centralCleaning独享空间   \n",
       "13189   2020-06-26  Super NEW apt/3mins to JR/Free High Speed WiFi...   \n",
       "\n",
       "                                                 summary  \\\n",
       "5866   The district Shinjuku area,nearby JR Shin-okub...   \n",
       "13341  ** Discount for May&June! ** Duplex Apartment ...   \n",
       "3738   ◆My house is a new building 7 min. Walk from M...   \n",
       "2346   To narida airport35mins ,  To shinjuku20mins ,...   \n",
       "13189  New apartment building has just built within 3...   \n",
       "\n",
       "                                                   space  \\\n",
       "5866   Three-storey building, four rooms: The first f...   \n",
       "13341  It is located a 7-minute walk from Higashi-Shi...   \n",
       "3738   ◆My house is a new building 7 min. Walk from M...   \n",
       "2346   東京の朝倉彫塑館､ﾌｧｰﾌﾞﾙ昆虫館､幸田露伴住宅｢蝸牛庵｣の近くに位置にあります,無料Wi...   \n",
       "13189   -a double sized bed - TV - Tabel - two Chairs...   \n",
       "\n",
       "                                             description experiences_offered  \\\n",
       "5866   The district Shinjuku area,nearby JR Shin-okub...                none   \n",
       "13341  ** Discount for May&June! ** Duplex Apartment ...                none   \n",
       "3738   ◆My house is a new building 7 min. Walk from M...                none   \n",
       "2346   To narida airport35mins ,  To shinjuku20mins ,...                none   \n",
       "13189  New apartment building has just built within 3...                none   \n",
       "\n",
       "                                   neighborhood_overview  \\\n",
       "5866   Shin-Okubo Station is famous for its Korean ci...   \n",
       "13341  The best thing of my place is the accessibilit...   \n",
       "3738   My house is a 7-minute walk from Minami-Senju ...   \n",
       "2346   It’s closed to ueno,ikebukuro,Tokyo station,ak...   \n",
       "13189                                            Unknown   \n",
       "\n",
       "                                                   notes  \\\n",
       "5866   Basically check in time at 16:00 / check out t...   \n",
       "13341  EASY Check-in and Checkout: Happy to be flexib...   \n",
       "3738   After confirming the reservation, I will send ...   \n",
       "2346   Keep room ,shower room,toilet clean,walk slowl...   \n",
       "13189  Since the new law has come into effect from Ju...   \n",
       "\n",
       "                                                 transit  \\\n",
       "5866   ◎ There are two nearest stations, namely Shin-...   \n",
       "13341  Higashi Shinjuku station - 7mins on foot. JR S...   \n",
       "3738   Tokyo Metro Hibiya Line / Minami-Senju Station...   \n",
       "2346   There are 3 train stations nearby my house, 1 ...   \n",
       "13189  The nearest station is JR Yamanote Line \"Komag...   \n",
       "\n",
       "                                                  access  \\\n",
       "5866   The new decoration and equipment, we hope you ...   \n",
       "13341  You will have full kitchen with everything you...   \n",
       "3738                          All rooms are free to use.   \n",
       "2346   This is old long history street, it’s call yan...   \n",
       "13189                        Entire apartment is yours:)   \n",
       "\n",
       "                                             interaction house_rules  \\\n",
       "5866   Any problem in Tokyo can provide assistance du...     Unknown   \n",
       "13341  I am more than willing to help you out if you ...     Unknown   \n",
       "3738   I am not staying at this house. However, if th...     Unknown   \n",
       "2346   I am so glad to help you travel to Tokyo and a...     Unknown   \n",
       "13189  Please contact me via Airbnb messaging if you ...     Unknown   \n",
       "\n",
       "                                             picture_url    host_id  \\\n",
       "5866   https://a0.muscache.com/im/pictures/92e9a30d-a...   23641660   \n",
       "13341  https://a0.muscache.com/im/pictures/c5606851-1...   30451776   \n",
       "3738   https://a0.muscache.com/im/pictures/57556fdd-b...  193327805   \n",
       "2346   https://a0.muscache.com/im/pictures/9aed4264-4...   24087904   \n",
       "13189  https://a0.muscache.com/im/pictures/3b4336f1-1...   42244167   \n",
       "\n",
       "                                          host_url host_name  host_since  \\\n",
       "5866    https://www.airbnb.com/users/show/23641660      Airi  2014-11-12   \n",
       "13341   https://www.airbnb.com/users/show/30451776     Emily  2015-04-02   \n",
       "3738   https://www.airbnb.com/users/show/193327805        正明  2018-06-03   \n",
       "2346    https://www.airbnb.com/users/show/24087904    Rinrin  2014-11-23   \n",
       "13189   https://www.airbnb.com/users/show/42244167      Hiro  2015-08-23   \n",
       "\n",
       "                          host_location  \\\n",
       "5866              Toshima, Tokyo, Japan   \n",
       "13341                          Tokyo、日本   \n",
       "3738                                 JP   \n",
       "2346   Matsudo, Chiba Prefecture, Japan   \n",
       "13189               Taito, Tokyo, Japan   \n",
       "\n",
       "                                              host_about host_response_time  \\\n",
       "5866                                             Unknown     within an hour   \n",
       "13341  Hello, guys! My name is Emily. \\r\\nI love to t...     within an hour   \n",
       "3738                                             Unknown     within an hour   \n",
       "2346   我是Linlin,喜欢旅游,深深地体会着住宿在旅游中是个大消费,所以我愿意提供一个干净,便宜...     within an hour   \n",
       "13189  Hello\\r\\nMy name is Hirofumi Masuda.\\r\\nI had ...     within an hour   \n",
       "\n",
       "      host_is_superhost                                 host_thumbnail_url  \\\n",
       "5866                  f  https://a0.muscache.com/im/users/23641660/prof...   \n",
       "13341                 f  https://a0.muscache.com/im/pictures/user/6ab9c...   \n",
       "3738                  f  https://a0.muscache.com/im/pictures/user/31b3d...   \n",
       "2346                  f  https://a0.muscache.com/im/pictures/user/59a00...   \n",
       "13189                 f  https://a0.muscache.com/im/pictures/user/a1906...   \n",
       "\n",
       "                                        host_picture_url  \\\n",
       "5866   https://a0.muscache.com/im/users/23641660/prof...   \n",
       "13341  https://a0.muscache.com/im/pictures/user/6ab9c...   \n",
       "3738   https://a0.muscache.com/im/pictures/user/31b3d...   \n",
       "2346   https://a0.muscache.com/im/pictures/user/59a00...   \n",
       "13189  https://a0.muscache.com/im/pictures/user/a1906...   \n",
       "\n",
       "                                      host_verifications host_has_profile_pic  \\\n",
       "5866   ['email', 'phone', 'jumio', 'selfie', 'governm...                    t   \n",
       "13341  ['email', 'phone', 'manual_offline', 'offline_...                    t   \n",
       "3738   ['email', 'phone', 'jumio', 'offline_governmen...                    t   \n",
       "2346   ['email', 'phone', 'reviews', 'jumio', 'offlin...                    t   \n",
       "13189  ['email', 'phone', 'reviews', 'jumio', 'govern...                    t   \n",
       "\n",
       "      host_identity_verified                          street  \\\n",
       "5866                       f          Shinjuku, Tokyo, Japan   \n",
       "13341                      f  Shinjuku City, Tōkyō-to, Japan   \n",
       "3738                       t       Taitō-ku, Tōkyō-to, Japan   \n",
       "2346                       t            Bunkyo, Tokyo, Japan   \n",
       "13189                      f   Toshima City, Tōkyō-to, Japan   \n",
       "\n",
       "      neighbourhood_cleansed           city     state   zipcode market  \\\n",
       "5866             Shinjuku Ku       Shinjuku     Tokyo  169-0073  Tokyo   \n",
       "13341            Shinjuku Ku  Shinjuku City  Tōkyō-to  160-0022  Tokyo   \n",
       "3738                Taito Ku       Taitō-ku  Tōkyō-to  111-0021  Tokyo   \n",
       "2346               Bunkyo Ku         Bunkyo     Tokyo  113-0022  Tokyo   \n",
       "13189             Toshima Ku   Toshima City  Tōkyō-to  170-0003  Tokyo   \n",
       "\n",
       "             smart_location country_code country is_location_exact  \\\n",
       "5866        Shinjuku, Japan           JP   Japan                 t   \n",
       "13341  Shinjuku City, Japan           JP   Japan                 t   \n",
       "3738        Taitō-ku, Japan           JP   Japan                 t   \n",
       "2346          Bunkyo, Japan           JP   Japan                 f   \n",
       "13189   Toshima City, Japan           JP   Japan                 t   \n",
       "\n",
       "      property_type        room_type  bed_type  \\\n",
       "5866          House  Entire home/apt  Real Bed   \n",
       "13341         House  Entire home/apt  Real Bed   \n",
       "3738      Apartment  Entire home/apt  Real Bed   \n",
       "2346          House  Entire home/apt  Real Bed   \n",
       "13189     Apartment  Entire home/apt  Real Bed   \n",
       "\n",
       "                                               amenities minimum_nights  \\\n",
       "5866   {TV,Wifi,\"Air conditioning\",Kitchen,Heating,Wa...              2   \n",
       "13341  {TV,Wifi,\"Air conditioning\",Kitchen,Heating,Wa...              1   \n",
       "3738   {TV,\"Air conditioning\",Kitchen,Washer,\"Smoke a...              2   \n",
       "2346   {Wifi,\"Air conditioning\",\"Paid parking off pre...              1   \n",
       "13189  {TV,Wifi,\"Air conditioning\",Kitchen,Heating,Wa...              1   \n",
       "\n",
       "      maximum_nights calendar_updated has_availability calendar_last_scraped  \\\n",
       "5866            1125     3 months ago                t            2020-06-26   \n",
       "13341           1125     3 months ago                t            2020-06-26   \n",
       "3738            1125      4 weeks ago                t            2020-06-26   \n",
       "2346            1125     3 months ago                t            2020-06-26   \n",
       "13189            180      3 weeks ago                t            2020-06-26   \n",
       "\n",
       "      requires_license instant_bookable is_business_travel_ready  \\\n",
       "5866                 t                t                        f   \n",
       "13341                t                t                        f   \n",
       "3738                 t                t                        f   \n",
       "2346                 t                f                        f   \n",
       "13189                t                t                        f   \n",
       "\n",
       "               cancellation_policy require_guest_profile_picture  \\\n",
       "5866                      flexible                             f   \n",
       "13341  strict_14_with_grace_period                             f   \n",
       "3738                      moderate                             f   \n",
       "2346   strict_14_with_grace_period                             f   \n",
       "13189                     flexible                             f   \n",
       "\n",
       "      require_guest_phone_verification first_review last_review  latitude  \\\n",
       "5866                                 f   2019-02-26  2020-03-11    35.699   \n",
       "13341                                f   2020-04-03  2020-04-30    35.701   \n",
       "3738                                 f   2018-07-27  2020-05-31    35.727   \n",
       "2346                                 f   2017-11-25  2020-02-18    35.729   \n",
       "13189                                f   2020-03-04  2020-05-11    35.738   \n",
       "\n",
       "       longitude  bathrooms   price  extra_people  minimum_nights_avg_ntm  \\\n",
       "5866     139.698      2.000 605.050        20.582                   2.000   \n",
       "13341    139.712      1.000 192.422        28.800                   1.000   \n",
       "3738     139.798      1.000  48.365         0.000                   2.000   \n",
       "2346     139.763      1.500  52.483        24.000                   1.000   \n",
       "13189    139.748      1.000  77.174        14.400                   1.000   \n",
       "\n",
       "       maximum_nights_avg_ntm  accommodates  guests_included  \\\n",
       "5866                 1125.000            11                2   \n",
       "13341                1125.000             7                3   \n",
       "3738                 1125.000             2                1   \n",
       "2346                 1125.000             3                2   \n",
       "13189                 180.000             2                1   \n",
       "\n",
       "       minimum_minimum_nights  maximum_minimum_nights  minimum_maximum_nights  \\\n",
       "5866                        2                       2                    1125   \n",
       "13341                       1                       1                    1125   \n",
       "3738                        2                       2                    1125   \n",
       "2346                        1                       1                    1125   \n",
       "13189                       1                       1                     180   \n",
       "\n",
       "       maximum_maximum_nights  availability_30  availability_60  \\\n",
       "5866                     1125               26               46   \n",
       "13341                    1125               26               42   \n",
       "3738                     1125               22               52   \n",
       "2346                     1125               27               51   \n",
       "13189                     180               26               56   \n",
       "\n",
       "       availability_90  availability_365  number_of_reviews  \\\n",
       "5866                63               149                 19   \n",
       "13341               67               197                  2   \n",
       "3738                82                89                 56   \n",
       "2346                81               339                 61   \n",
       "13189               86               176                  4   \n",
       "\n",
       "       number_of_reviews_ltm  calculated_host_listings_count  \\\n",
       "5866                      13                               2   \n",
       "13341                      2                              19   \n",
       "3738                      26                              16   \n",
       "2346                      11                               6   \n",
       "13189                      4                              41   \n",
       "\n",
       "       calculated_host_listings_count_entire_homes  bedrooms  beds  \\\n",
       "5866                                             2         4     7   \n",
       "13341                                           18         3     1   \n",
       "3738                                            16         0     1   \n",
       "2346                                             6         1     3   \n",
       "13189                                           38         0     1   \n",
       "\n",
       "       calculated_host_listings_count_private_rooms  \\\n",
       "5866                                              0   \n",
       "13341                                             1   \n",
       "3738                                              0   \n",
       "2346                                              0   \n",
       "13189                                             0   \n",
       "\n",
       "       calculated_host_listings_count_shared_rooms  host_listings_count  \\\n",
       "5866                                             0                   12   \n",
       "13341                                            0                   24   \n",
       "3738                                             0                   15   \n",
       "2346                                             0                    6   \n",
       "13189                                            0                   49   \n",
       "\n",
       "       host_total_listings_count  security_deposit  \\\n",
       "5866                          12           205.795   \n",
       "13341                         24             0.000   \n",
       "3738                          15             0.000   \n",
       "2346                           6           288.000   \n",
       "13189                         49           480.000   \n",
       "\n",
       "       review_scores_communication  review_scores_checkin  \\\n",
       "5866                         9.000                  9.000   \n",
       "13341                        9.000                  8.000   \n",
       "3738                        10.000                 10.000   \n",
       "2346                        10.000                 10.000   \n",
       "13189                       10.000                 10.000   \n",
       "\n",
       "       review_scores_location  review_scores_value  review_scores_cleanliness  \\\n",
       "5866                   10.000                9.000                      9.000   \n",
       "13341                   8.000               10.000                     10.000   \n",
       "3738                    9.000               10.000                     10.000   \n",
       "2346                   10.000                9.000                      9.000   \n",
       "13189                  10.000               10.000                     10.000   \n",
       "\n",
       "       review_scores_accuracy  reviews_per_month  host_acceptance_rate  \\\n",
       "5866                   10.000              1.170               100.000   \n",
       "13341                   8.000              0.710               100.000   \n",
       "3738                   10.000              2.400               100.000   \n",
       "2346                    9.000              1.940                96.000   \n",
       "13189                  10.000              1.040               100.000   \n",
       "\n",
       "       host_response_rate  review_scores_rating  cleaning_fee  \n",
       "5866              100.000                91.000        82.320  \n",
       "13341              99.000               100.000        96.000  \n",
       "3738              100.000                97.000        63.360  \n",
       "2346              100.000                91.000        43.200  \n",
       "13189             100.000               100.000        28.800  "
      ]
     },
     "execution_count": 78,
     "metadata": {},
     "output_type": "execute_result"
    }
   ],
   "source": [
    "df.head()"
   ]
  },
  {
   "cell_type": "code",
   "execution_count": 80,
   "metadata": {},
   "outputs": [
    {
     "data": {
      "image/png": "[encoded data removed]",
      "text/plain": [
       "<Figure size 576x576 with 3 Axes>"
      ]
     },
     "metadata": {
      "needs_background": "light"
     },
     "output_type": "display_data"
    }
   ],
   "source": [
    "# Rugplot puts everything on a theoretical single line plot, in theory where are the points mostly tied together\n",
    "\n",
    "sample_data = df.sample(500)\n",
    "\n",
    "g = sns.JointGrid(x='cleaning_fee', y='number_of_reviews', data=sample_data, space=0, ratio=17, height=8)\n",
    "\n",
    "g.plot_joint(sns.scatterplot, size=sample_data[\"price\"], sizes=(30, 120),\n",
    "             color=\"#B48EAD\", alpha=.8, legend=False)\n",
    "\n",
    "g.plot_marginals(sns.rugplot, height=1, color=\"#A3BE8C\", alpha=.6);\n",
    "\n",
    "g.set_axis_labels(xlabel='Cleaning Fee', ylabel='# of Reviews');"
   ]
  },
  {
   "cell_type": "markdown",
   "metadata": {},
   "source": [
    "**Covariance:** this statistic tells us how two variables vary together. That is, how does the variation of one variable relates to the variation of another.\n",
    "\n",
    "We can calculate the covariance of two arrays X and Y by first computing the distance between the mean and each of the values within the arrays. `dx` below represents the distance of each value `x` from its mean. The same is true for the `dy`.\n",
    "\n",
    "$dx = x_{i} - \\overline {x}$  \n",
    "$dy = y_{i} - \\overline {y}$\n",
    "\n",
    "\n",
    "Lastly, we multiply each distance from both arrays, add the resulting values, and then divide by the lenght of one of the arrays (which have to be both of the same length).\n",
    "\n",
    "$cov\\left( X,Y\\right) =\\dfrac {1}{n}\\sum dx_{i}dy_{i}$\n",
    "\n",
    "If both arrays variate in the same direction, the result will be positive. If their variations are completely unrelated, we are likely to get a 0. If both arrays variate negatively, the result will be negative. This is also visible when the a corresponding value in each array is below or above the mean. In this instance, the latter would be positive and former negative.\n",
    "\n",
    "Both numbers tend to scale with each other. A large positive covariance means that if x is large then y is large as well, and when x is small then y is small as well. If the covariance between arrays is 0, there is no relationship whatsoever between them."
   ]
  },
  {
   "cell_type": "code",
   "execution_count": 81,
   "metadata": {},
   "outputs": [
    {
     "data": {
      "text/plain": [
       "(39742,)"
      ]
     },
     "execution_count": 81,
     "metadata": {},
     "output_type": "execute_result"
    }
   ],
   "source": [
    "prices.shape"
   ]
  },
  {
   "cell_type": "code",
   "execution_count": 82,
   "metadata": {},
   "outputs": [
    {
     "data": {
      "text/plain": [
       "True"
      ]
     },
     "execution_count": 82,
     "metadata": {},
     "output_type": "execute_result"
    }
   ],
   "source": [
    "# let's make sure both have the same lenght\n",
    "prices.shape[0] == clean_fee.shape[0]"
   ]
  },
  {
   "cell_type": "code",
   "execution_count": 83,
   "metadata": {},
   "outputs": [
    {
     "data": {
      "text/plain": [
       "4370.647219038217"
      ]
     },
     "execution_count": 83,
     "metadata": {},
     "output_type": "execute_result"
    }
   ],
   "source": [
    "# np.dot takes the products of two elements and sums them up\n",
    "np.dot((prices - prices.mean()), (clean_fee - clean_fee.mean())) / len(prices)"
   ]
  },
  {
   "cell_type": "code",
   "execution_count": 84,
   "metadata": {},
   "outputs": [
    {
     "data": {
      "text/plain": [
       "4370.647219038214"
      ]
     },
     "execution_count": 84,
     "metadata": {},
     "output_type": "execute_result"
    }
   ],
   "source": [
    "sum((prices - prices.mean()) * (clean_fee - clean_fee.mean())) / len(prices)"
   ]
  },
  {
   "cell_type": "markdown",
   "metadata": {},
   "source": [
    "Notice that Pearson Correlation only measures whether there is a linear relationship between the variables in question. This mean, that the relationship could be other than linear, hence, no relationship in the Pearson's test doesn't mean that there is no relationship at all.\n",
    "\n",
    "One of the flaws of pearson correlation is that it does not deal well with outliers. There are other methods available for determining non-linear relationships that do deal with outliers, but we won't cover those here. These are the Spearman Rank Correlation test and the Kendall Correlation test."
   ]
  },
  {
   "cell_type": "markdown",
   "metadata": {},
   "source": [
    "# Cross-tabulating and Visualising Data"
   ]
  },
  {
   "cell_type": "markdown",
   "metadata": {},
   "source": [
    "Another way to use descriptive statistics to gain deeper insights from a particular dataset is by cross-tabulating its variables. This technique allows us to aggregate and observe data based on distinct variables sitting on top of one another (columns) or standing next to each other (rows).\n",
    "\n",
    "You have already seen a bit of cross-tabulation in previous lessons and provably while using a spreadsheet software, but let's dig a bit deeper into how to use these tools."
   ]
  },
  {
   "cell_type": "code",
   "execution_count": 85,
   "metadata": {},
   "outputs": [
    {
     "data": {
      "text/html": [
       "<div>\n",
       "<style scoped>\n",
       "    .dataframe tbody tr th:only-of-type {\n",
       "        vertical-align: middle;\n",
       "    }\n",
       "\n",
       "    .dataframe tbody tr th {\n",
       "        vertical-align: top;\n",
       "    }\n",
       "\n",
       "    .dataframe thead th {\n",
       "        text-align: right;\n",
       "    }\n",
       "</style>\n",
       "<table border=\"1\" class=\"dataframe\">\n",
       "  <thead>\n",
       "    <tr style=\"text-align: right;\">\n",
       "      <th></th>\n",
       "      <th>id</th>\n",
       "      <th>listing_url</th>\n",
       "      <th>scrape_id</th>\n",
       "      <th>last_scraped</th>\n",
       "      <th>name</th>\n",
       "      <th>summary</th>\n",
       "      <th>space</th>\n",
       "      <th>description</th>\n",
       "      <th>experiences_offered</th>\n",
       "      <th>neighborhood_overview</th>\n",
       "      <th>notes</th>\n",
       "      <th>transit</th>\n",
       "      <th>access</th>\n",
       "      <th>interaction</th>\n",
       "      <th>house_rules</th>\n",
       "      <th>picture_url</th>\n",
       "      <th>host_id</th>\n",
       "      <th>host_url</th>\n",
       "      <th>host_name</th>\n",
       "      <th>host_since</th>\n",
       "      <th>host_location</th>\n",
       "      <th>host_about</th>\n",
       "      <th>host_response_time</th>\n",
       "      <th>host_is_superhost</th>\n",
       "      <th>host_thumbnail_url</th>\n",
       "      <th>host_picture_url</th>\n",
       "      <th>host_verifications</th>\n",
       "      <th>host_has_profile_pic</th>\n",
       "      <th>host_identity_verified</th>\n",
       "      <th>street</th>\n",
       "      <th>neighbourhood_cleansed</th>\n",
       "      <th>city</th>\n",
       "      <th>state</th>\n",
       "      <th>zipcode</th>\n",
       "      <th>market</th>\n",
       "      <th>smart_location</th>\n",
       "      <th>country_code</th>\n",
       "      <th>country</th>\n",
       "      <th>is_location_exact</th>\n",
       "      <th>property_type</th>\n",
       "      <th>room_type</th>\n",
       "      <th>bed_type</th>\n",
       "      <th>amenities</th>\n",
       "      <th>minimum_nights</th>\n",
       "      <th>maximum_nights</th>\n",
       "      <th>calendar_updated</th>\n",
       "      <th>has_availability</th>\n",
       "      <th>calendar_last_scraped</th>\n",
       "      <th>requires_license</th>\n",
       "      <th>instant_bookable</th>\n",
       "      <th>is_business_travel_ready</th>\n",
       "      <th>cancellation_policy</th>\n",
       "      <th>require_guest_profile_picture</th>\n",
       "      <th>require_guest_phone_verification</th>\n",
       "      <th>first_review</th>\n",
       "      <th>last_review</th>\n",
       "      <th>latitude</th>\n",
       "      <th>longitude</th>\n",
       "      <th>bathrooms</th>\n",
       "      <th>price</th>\n",
       "      <th>extra_people</th>\n",
       "      <th>minimum_nights_avg_ntm</th>\n",
       "      <th>maximum_nights_avg_ntm</th>\n",
       "      <th>accommodates</th>\n",
       "      <th>guests_included</th>\n",
       "      <th>minimum_minimum_nights</th>\n",
       "      <th>maximum_minimum_nights</th>\n",
       "      <th>minimum_maximum_nights</th>\n",
       "      <th>maximum_maximum_nights</th>\n",
       "      <th>availability_30</th>\n",
       "      <th>availability_60</th>\n",
       "      <th>availability_90</th>\n",
       "      <th>availability_365</th>\n",
       "      <th>number_of_reviews</th>\n",
       "      <th>number_of_reviews_ltm</th>\n",
       "      <th>calculated_host_listings_count</th>\n",
       "      <th>calculated_host_listings_count_entire_homes</th>\n",
       "      <th>bedrooms</th>\n",
       "      <th>beds</th>\n",
       "      <th>calculated_host_listings_count_private_rooms</th>\n",
       "      <th>calculated_host_listings_count_shared_rooms</th>\n",
       "      <th>host_listings_count</th>\n",
       "      <th>host_total_listings_count</th>\n",
       "      <th>security_deposit</th>\n",
       "      <th>review_scores_communication</th>\n",
       "      <th>review_scores_checkin</th>\n",
       "      <th>review_scores_location</th>\n",
       "      <th>review_scores_value</th>\n",
       "      <th>review_scores_cleanliness</th>\n",
       "      <th>review_scores_accuracy</th>\n",
       "      <th>reviews_per_month</th>\n",
       "      <th>host_acceptance_rate</th>\n",
       "      <th>host_response_rate</th>\n",
       "      <th>review_scores_rating</th>\n",
       "      <th>cleaning_fee</th>\n",
       "    </tr>\n",
       "  </thead>\n",
       "  <tbody>\n",
       "    <tr>\n",
       "      <th>5866</th>\n",
       "      <td>31000095</td>\n",
       "      <td>https://www.airbnb.com/rooms/31000095</td>\n",
       "      <td>20200625032351</td>\n",
       "      <td>2020-06-26</td>\n",
       "      <td>Shinjuku  JR Shin-okubo sta. 3mins Homely House</td>\n",
       "      <td>The district Shinjuku area,nearby JR Shin-okub...</td>\n",
       "      <td>Three-storey building, four rooms: The first f...</td>\n",
       "      <td>The district Shinjuku area,nearby JR Shin-okub...</td>\n",
       "      <td>none</td>\n",
       "      <td>Shin-Okubo Station is famous for its Korean ci...</td>\n",
       "      <td>Basically check in time at 16:00 / check out t...</td>\n",
       "      <td>◎ There are two nearest stations, namely Shin-...</td>\n",
       "      <td>The new decoration and equipment, we hope you ...</td>\n",
       "      <td>Any problem in Tokyo can provide assistance du...</td>\n",
       "      <td>Unknown</td>\n",
       "      <td>https://a0.muscache.com/im/pictures/92e9a30d-a...</td>\n",
       "      <td>23641660</td>\n",
       "      <td>https://www.airbnb.com/users/show/23641660</td>\n",
       "      <td>Airi</td>\n",
       "      <td>2014-11-12</td>\n",
       "      <td>Toshima, Tokyo, Japan</td>\n",
       "      <td>Unknown</td>\n",
       "      <td>within an hour</td>\n",
       "      <td>f</td>\n",
       "      <td>https://a0.muscache.com/im/users/23641660/prof...</td>\n",
       "      <td>https://a0.muscache.com/im/users/23641660/prof...</td>\n",
       "      <td>['email', 'phone', 'jumio', 'selfie', 'governm...</td>\n",
       "      <td>t</td>\n",
       "      <td>f</td>\n",
       "      <td>Shinjuku, Tokyo, Japan</td>\n",
       "      <td>Shinjuku Ku</td>\n",
       "      <td>Shinjuku</td>\n",
       "      <td>Tokyo</td>\n",
       "      <td>169-0073</td>\n",
       "      <td>Tokyo</td>\n",
       "      <td>Shinjuku, Japan</td>\n",
       "      <td>JP</td>\n",
       "      <td>Japan</td>\n",
       "      <td>t</td>\n",
       "      <td>House</td>\n",
       "      <td>Entire home/apt</td>\n",
       "      <td>Real Bed</td>\n",
       "      <td>{TV,Wifi,\"Air conditioning\",Kitchen,Heating,Wa...</td>\n",
       "      <td>2</td>\n",
       "      <td>1125</td>\n",
       "      <td>3 months ago</td>\n",
       "      <td>t</td>\n",
       "      <td>2020-06-26</td>\n",
       "      <td>t</td>\n",
       "      <td>t</td>\n",
       "      <td>f</td>\n",
       "      <td>flexible</td>\n",
       "      <td>f</td>\n",
       "      <td>f</td>\n",
       "      <td>2019-02-26</td>\n",
       "      <td>2020-03-11</td>\n",
       "      <td>35.699</td>\n",
       "      <td>139.698</td>\n",
       "      <td>2.000</td>\n",
       "      <td>605.050</td>\n",
       "      <td>20.582</td>\n",
       "      <td>2.000</td>\n",
       "      <td>1125.000</td>\n",
       "      <td>11</td>\n",
       "      <td>2</td>\n",
       "      <td>2</td>\n",
       "      <td>2</td>\n",
       "      <td>1125</td>\n",
       "      <td>1125</td>\n",
       "      <td>26</td>\n",
       "      <td>46</td>\n",
       "      <td>63</td>\n",
       "      <td>149</td>\n",
       "      <td>19</td>\n",
       "      <td>13</td>\n",
       "      <td>2</td>\n",
       "      <td>2</td>\n",
       "      <td>4</td>\n",
       "      <td>7</td>\n",
       "      <td>0</td>\n",
       "      <td>0</td>\n",
       "      <td>12</td>\n",
       "      <td>12</td>\n",
       "      <td>205.795</td>\n",
       "      <td>9.000</td>\n",
       "      <td>9.000</td>\n",
       "      <td>10.000</td>\n",
       "      <td>9.000</td>\n",
       "      <td>9.000</td>\n",
       "      <td>10.000</td>\n",
       "      <td>1.170</td>\n",
       "      <td>100.000</td>\n",
       "      <td>100.000</td>\n",
       "      <td>91.000</td>\n",
       "      <td>82.320</td>\n",
       "    </tr>\n",
       "    <tr>\n",
       "      <th>13341</th>\n",
       "      <td>42388049</td>\n",
       "      <td>https://www.airbnb.com/rooms/42388049</td>\n",
       "      <td>20200625032351</td>\n",
       "      <td>2020-06-26</td>\n",
       "      <td>MUMU) Tokyo's premier center Shinjuku! Free WIFI</td>\n",
       "      <td>** Discount for May&amp;June! ** Duplex Apartment ...</td>\n",
       "      <td>It is located a 7-minute walk from Higashi-Shi...</td>\n",
       "      <td>** Discount for May&amp;June! ** Duplex Apartment ...</td>\n",
       "      <td>none</td>\n",
       "      <td>The best thing of my place is the accessibilit...</td>\n",
       "      <td>EASY Check-in and Checkout: Happy to be flexib...</td>\n",
       "      <td>Higashi Shinjuku station - 7mins on foot. JR S...</td>\n",
       "      <td>You will have full kitchen with everything you...</td>\n",
       "      <td>I am more than willing to help you out if you ...</td>\n",
       "      <td>Unknown</td>\n",
       "      <td>https://a0.muscache.com/im/pictures/c5606851-1...</td>\n",
       "      <td>30451776</td>\n",
       "      <td>https://www.airbnb.com/users/show/30451776</td>\n",
       "      <td>Emily</td>\n",
       "      <td>2015-04-02</td>\n",
       "      <td>Tokyo、日本</td>\n",
       "      <td>Hello, guys! My name is Emily. \\r\\nI love to t...</td>\n",
       "      <td>within an hour</td>\n",
       "      <td>f</td>\n",
       "      <td>https://a0.muscache.com/im/pictures/user/6ab9c...</td>\n",
       "      <td>https://a0.muscache.com/im/pictures/user/6ab9c...</td>\n",
       "      <td>['email', 'phone', 'manual_offline', 'offline_...</td>\n",
       "      <td>t</td>\n",
       "      <td>f</td>\n",
       "      <td>Shinjuku City, Tōkyō-to, Japan</td>\n",
       "      <td>Shinjuku Ku</td>\n",
       "      <td>Shinjuku City</td>\n",
       "      <td>Tōkyō-to</td>\n",
       "      <td>160-0022</td>\n",
       "      <td>Tokyo</td>\n",
       "      <td>Shinjuku City, Japan</td>\n",
       "      <td>JP</td>\n",
       "      <td>Japan</td>\n",
       "      <td>t</td>\n",
       "      <td>House</td>\n",
       "      <td>Entire home/apt</td>\n",
       "      <td>Real Bed</td>\n",
       "      <td>{TV,Wifi,\"Air conditioning\",Kitchen,Heating,Wa...</td>\n",
       "      <td>1</td>\n",
       "      <td>1125</td>\n",
       "      <td>3 months ago</td>\n",
       "      <td>t</td>\n",
       "      <td>2020-06-26</td>\n",
       "      <td>t</td>\n",
       "      <td>t</td>\n",
       "      <td>f</td>\n",
       "      <td>strict_14_with_grace_period</td>\n",
       "      <td>f</td>\n",
       "      <td>f</td>\n",
       "      <td>2020-04-03</td>\n",
       "      <td>2020-04-30</td>\n",
       "      <td>35.701</td>\n",
       "      <td>139.712</td>\n",
       "      <td>1.000</td>\n",
       "      <td>192.422</td>\n",
       "      <td>28.800</td>\n",
       "      <td>1.000</td>\n",
       "      <td>1125.000</td>\n",
       "      <td>7</td>\n",
       "      <td>3</td>\n",
       "      <td>1</td>\n",
       "      <td>1</td>\n",
       "      <td>1125</td>\n",
       "      <td>1125</td>\n",
       "      <td>26</td>\n",
       "      <td>42</td>\n",
       "      <td>67</td>\n",
       "      <td>197</td>\n",
       "      <td>2</td>\n",
       "      <td>2</td>\n",
       "      <td>19</td>\n",
       "      <td>18</td>\n",
       "      <td>3</td>\n",
       "      <td>1</td>\n",
       "      <td>1</td>\n",
       "      <td>0</td>\n",
       "      <td>24</td>\n",
       "      <td>24</td>\n",
       "      <td>0.000</td>\n",
       "      <td>9.000</td>\n",
       "      <td>8.000</td>\n",
       "      <td>8.000</td>\n",
       "      <td>10.000</td>\n",
       "      <td>10.000</td>\n",
       "      <td>8.000</td>\n",
       "      <td>0.710</td>\n",
       "      <td>100.000</td>\n",
       "      <td>99.000</td>\n",
       "      <td>100.000</td>\n",
       "      <td>96.000</td>\n",
       "    </tr>\n",
       "    <tr>\n",
       "      <th>3738</th>\n",
       "      <td>26853484</td>\n",
       "      <td>https://www.airbnb.com/rooms/26853484</td>\n",
       "      <td>20200625032351</td>\n",
       "      <td>2020-06-26</td>\n",
       "      <td>Newly constructed 1R Mansion!Near Ueno Asakusa !</td>\n",
       "      <td>◆My house is a new building 7 min. Walk from M...</td>\n",
       "      <td>◆My house is a new building 7 min. Walk from M...</td>\n",
       "      <td>◆My house is a new building 7 min. Walk from M...</td>\n",
       "      <td>none</td>\n",
       "      <td>My house is a 7-minute walk from Minami-Senju ...</td>\n",
       "      <td>After confirming the reservation, I will send ...</td>\n",
       "      <td>Tokyo Metro Hibiya Line / Minami-Senju Station...</td>\n",
       "      <td>All rooms are free to use.</td>\n",
       "      <td>I am not staying at this house. However, if th...</td>\n",
       "      <td>Unknown</td>\n",
       "      <td>https://a0.muscache.com/im/pictures/57556fdd-b...</td>\n",
       "      <td>193327805</td>\n",
       "      <td>https://www.airbnb.com/users/show/193327805</td>\n",
       "      <td>正明</td>\n",
       "      <td>2018-06-03</td>\n",
       "      <td>JP</td>\n",
       "      <td>Unknown</td>\n",
       "      <td>within an hour</td>\n",
       "      <td>f</td>\n",
       "      <td>https://a0.muscache.com/im/pictures/user/31b3d...</td>\n",
       "      <td>https://a0.muscache.com/im/pictures/user/31b3d...</td>\n",
       "      <td>['email', 'phone', 'jumio', 'offline_governmen...</td>\n",
       "      <td>t</td>\n",
       "      <td>t</td>\n",
       "      <td>Taitō-ku, Tōkyō-to, Japan</td>\n",
       "      <td>Taito Ku</td>\n",
       "      <td>Taitō-ku</td>\n",
       "      <td>Tōkyō-to</td>\n",
       "      <td>111-0021</td>\n",
       "      <td>Tokyo</td>\n",
       "      <td>Taitō-ku, Japan</td>\n",
       "      <td>JP</td>\n",
       "      <td>Japan</td>\n",
       "      <td>t</td>\n",
       "      <td>Apartment</td>\n",
       "      <td>Entire home/apt</td>\n",
       "      <td>Real Bed</td>\n",
       "      <td>{TV,\"Air conditioning\",Kitchen,Washer,\"Smoke a...</td>\n",
       "      <td>2</td>\n",
       "      <td>1125</td>\n",
       "      <td>4 weeks ago</td>\n",
       "      <td>t</td>\n",
       "      <td>2020-06-26</td>\n",
       "      <td>t</td>\n",
       "      <td>t</td>\n",
       "      <td>f</td>\n",
       "      <td>moderate</td>\n",
       "      <td>f</td>\n",
       "      <td>f</td>\n",
       "      <td>2018-07-27</td>\n",
       "      <td>2020-05-31</td>\n",
       "      <td>35.727</td>\n",
       "      <td>139.798</td>\n",
       "      <td>1.000</td>\n",
       "      <td>48.365</td>\n",
       "      <td>0.000</td>\n",
       "      <td>2.000</td>\n",
       "      <td>1125.000</td>\n",
       "      <td>2</td>\n",
       "      <td>1</td>\n",
       "      <td>2</td>\n",
       "      <td>2</td>\n",
       "      <td>1125</td>\n",
       "      <td>1125</td>\n",
       "      <td>22</td>\n",
       "      <td>52</td>\n",
       "      <td>82</td>\n",
       "      <td>89</td>\n",
       "      <td>56</td>\n",
       "      <td>26</td>\n",
       "      <td>16</td>\n",
       "      <td>16</td>\n",
       "      <td>0</td>\n",
       "      <td>1</td>\n",
       "      <td>0</td>\n",
       "      <td>0</td>\n",
       "      <td>15</td>\n",
       "      <td>15</td>\n",
       "      <td>0.000</td>\n",
       "      <td>10.000</td>\n",
       "      <td>10.000</td>\n",
       "      <td>9.000</td>\n",
       "      <td>10.000</td>\n",
       "      <td>10.000</td>\n",
       "      <td>10.000</td>\n",
       "      <td>2.400</td>\n",
       "      <td>100.000</td>\n",
       "      <td>100.000</td>\n",
       "      <td>97.000</td>\n",
       "      <td>63.360</td>\n",
       "    </tr>\n",
       "  </tbody>\n",
       "</table>\n",
       "</div>"
      ],
      "text/plain": [
       "             id                            listing_url       scrape_id  \\\n",
       "5866   31000095  https://www.airbnb.com/rooms/31000095  20200625032351   \n",
       "13341  42388049  https://www.airbnb.com/rooms/42388049  20200625032351   \n",
       "3738   26853484  https://www.airbnb.com/rooms/26853484  20200625032351   \n",
       "\n",
       "      last_scraped                                              name  \\\n",
       "5866    2020-06-26   Shinjuku  JR Shin-okubo sta. 3mins Homely House   \n",
       "13341   2020-06-26  MUMU) Tokyo's premier center Shinjuku! Free WIFI   \n",
       "3738    2020-06-26  Newly constructed 1R Mansion!Near Ueno Asakusa !   \n",
       "\n",
       "                                                 summary  \\\n",
       "5866   The district Shinjuku area,nearby JR Shin-okub...   \n",
       "13341  ** Discount for May&June! ** Duplex Apartment ...   \n",
       "3738   ◆My house is a new building 7 min. Walk from M...   \n",
       "\n",
       "                                                   space  \\\n",
       "5866   Three-storey building, four rooms: The first f...   \n",
       "13341  It is located a 7-minute walk from Higashi-Shi...   \n",
       "3738   ◆My house is a new building 7 min. Walk from M...   \n",
       "\n",
       "                                             description experiences_offered  \\\n",
       "5866   The district Shinjuku area,nearby JR Shin-okub...                none   \n",
       "13341  ** Discount for May&June! ** Duplex Apartment ...                none   \n",
       "3738   ◆My house is a new building 7 min. Walk from M...                none   \n",
       "\n",
       "                                   neighborhood_overview  \\\n",
       "5866   Shin-Okubo Station is famous for its Korean ci...   \n",
       "13341  The best thing of my place is the accessibilit...   \n",
       "3738   My house is a 7-minute walk from Minami-Senju ...   \n",
       "\n",
       "                                                   notes  \\\n",
       "5866   Basically check in time at 16:00 / check out t...   \n",
       "13341  EASY Check-in and Checkout: Happy to be flexib...   \n",
       "3738   After confirming the reservation, I will send ...   \n",
       "\n",
       "                                                 transit  \\\n",
       "5866   ◎ There are two nearest stations, namely Shin-...   \n",
       "13341  Higashi Shinjuku station - 7mins on foot. JR S...   \n",
       "3738   Tokyo Metro Hibiya Line / Minami-Senju Station...   \n",
       "\n",
       "                                                  access  \\\n",
       "5866   The new decoration and equipment, we hope you ...   \n",
       "13341  You will have full kitchen with everything you...   \n",
       "3738                          All rooms are free to use.   \n",
       "\n",
       "                                             interaction house_rules  \\\n",
       "5866   Any problem in Tokyo can provide assistance du...     Unknown   \n",
       "13341  I am more than willing to help you out if you ...     Unknown   \n",
       "3738   I am not staying at this house. However, if th...     Unknown   \n",
       "\n",
       "                                             picture_url    host_id  \\\n",
       "5866   https://a0.muscache.com/im/pictures/92e9a30d-a...   23641660   \n",
       "13341  https://a0.muscache.com/im/pictures/c5606851-1...   30451776   \n",
       "3738   https://a0.muscache.com/im/pictures/57556fdd-b...  193327805   \n",
       "\n",
       "                                          host_url host_name  host_since  \\\n",
       "5866    https://www.airbnb.com/users/show/23641660      Airi  2014-11-12   \n",
       "13341   https://www.airbnb.com/users/show/30451776     Emily  2015-04-02   \n",
       "3738   https://www.airbnb.com/users/show/193327805        正明  2018-06-03   \n",
       "\n",
       "               host_location  \\\n",
       "5866   Toshima, Tokyo, Japan   \n",
       "13341               Tokyo、日本   \n",
       "3738                      JP   \n",
       "\n",
       "                                              host_about host_response_time  \\\n",
       "5866                                             Unknown     within an hour   \n",
       "13341  Hello, guys! My name is Emily. \\r\\nI love to t...     within an hour   \n",
       "3738                                             Unknown     within an hour   \n",
       "\n",
       "      host_is_superhost                                 host_thumbnail_url  \\\n",
       "5866                  f  https://a0.muscache.com/im/users/23641660/prof...   \n",
       "13341                 f  https://a0.muscache.com/im/pictures/user/6ab9c...   \n",
       "3738                  f  https://a0.muscache.com/im/pictures/user/31b3d...   \n",
       "\n",
       "                                        host_picture_url  \\\n",
       "5866   https://a0.muscache.com/im/users/23641660/prof...   \n",
       "13341  https://a0.muscache.com/im/pictures/user/6ab9c...   \n",
       "3738   https://a0.muscache.com/im/pictures/user/31b3d...   \n",
       "\n",
       "                                      host_verifications host_has_profile_pic  \\\n",
       "5866   ['email', 'phone', 'jumio', 'selfie', 'governm...                    t   \n",
       "13341  ['email', 'phone', 'manual_offline', 'offline_...                    t   \n",
       "3738   ['email', 'phone', 'jumio', 'offline_governmen...                    t   \n",
       "\n",
       "      host_identity_verified                          street  \\\n",
       "5866                       f          Shinjuku, Tokyo, Japan   \n",
       "13341                      f  Shinjuku City, Tōkyō-to, Japan   \n",
       "3738                       t       Taitō-ku, Tōkyō-to, Japan   \n",
       "\n",
       "      neighbourhood_cleansed           city     state   zipcode market  \\\n",
       "5866             Shinjuku Ku       Shinjuku     Tokyo  169-0073  Tokyo   \n",
       "13341            Shinjuku Ku  Shinjuku City  Tōkyō-to  160-0022  Tokyo   \n",
       "3738                Taito Ku       Taitō-ku  Tōkyō-to  111-0021  Tokyo   \n",
       "\n",
       "             smart_location country_code country is_location_exact  \\\n",
       "5866        Shinjuku, Japan           JP   Japan                 t   \n",
       "13341  Shinjuku City, Japan           JP   Japan                 t   \n",
       "3738        Taitō-ku, Japan           JP   Japan                 t   \n",
       "\n",
       "      property_type        room_type  bed_type  \\\n",
       "5866          House  Entire home/apt  Real Bed   \n",
       "13341         House  Entire home/apt  Real Bed   \n",
       "3738      Apartment  Entire home/apt  Real Bed   \n",
       "\n",
       "                                               amenities minimum_nights  \\\n",
       "5866   {TV,Wifi,\"Air conditioning\",Kitchen,Heating,Wa...              2   \n",
       "13341  {TV,Wifi,\"Air conditioning\",Kitchen,Heating,Wa...              1   \n",
       "3738   {TV,\"Air conditioning\",Kitchen,Washer,\"Smoke a...              2   \n",
       "\n",
       "      maximum_nights calendar_updated has_availability calendar_last_scraped  \\\n",
       "5866            1125     3 months ago                t            2020-06-26   \n",
       "13341           1125     3 months ago                t            2020-06-26   \n",
       "3738            1125      4 weeks ago                t            2020-06-26   \n",
       "\n",
       "      requires_license instant_bookable is_business_travel_ready  \\\n",
       "5866                 t                t                        f   \n",
       "13341                t                t                        f   \n",
       "3738                 t                t                        f   \n",
       "\n",
       "               cancellation_policy require_guest_profile_picture  \\\n",
       "5866                      flexible                             f   \n",
       "13341  strict_14_with_grace_period                             f   \n",
       "3738                      moderate                             f   \n",
       "\n",
       "      require_guest_phone_verification first_review last_review  latitude  \\\n",
       "5866                                 f   2019-02-26  2020-03-11    35.699   \n",
       "13341                                f   2020-04-03  2020-04-30    35.701   \n",
       "3738                                 f   2018-07-27  2020-05-31    35.727   \n",
       "\n",
       "       longitude  bathrooms   price  extra_people  minimum_nights_avg_ntm  \\\n",
       "5866     139.698      2.000 605.050        20.582                   2.000   \n",
       "13341    139.712      1.000 192.422        28.800                   1.000   \n",
       "3738     139.798      1.000  48.365         0.000                   2.000   \n",
       "\n",
       "       maximum_nights_avg_ntm  accommodates  guests_included  \\\n",
       "5866                 1125.000            11                2   \n",
       "13341                1125.000             7                3   \n",
       "3738                 1125.000             2                1   \n",
       "\n",
       "       minimum_minimum_nights  maximum_minimum_nights  minimum_maximum_nights  \\\n",
       "5866                        2                       2                    1125   \n",
       "13341                       1                       1                    1125   \n",
       "3738                        2                       2                    1125   \n",
       "\n",
       "       maximum_maximum_nights  availability_30  availability_60  \\\n",
       "5866                     1125               26               46   \n",
       "13341                    1125               26               42   \n",
       "3738                     1125               22               52   \n",
       "\n",
       "       availability_90  availability_365  number_of_reviews  \\\n",
       "5866                63               149                 19   \n",
       "13341               67               197                  2   \n",
       "3738                82                89                 56   \n",
       "\n",
       "       number_of_reviews_ltm  calculated_host_listings_count  \\\n",
       "5866                      13                               2   \n",
       "13341                      2                              19   \n",
       "3738                      26                              16   \n",
       "\n",
       "       calculated_host_listings_count_entire_homes  bedrooms  beds  \\\n",
       "5866                                             2         4     7   \n",
       "13341                                           18         3     1   \n",
       "3738                                            16         0     1   \n",
       "\n",
       "       calculated_host_listings_count_private_rooms  \\\n",
       "5866                                              0   \n",
       "13341                                             1   \n",
       "3738                                              0   \n",
       "\n",
       "       calculated_host_listings_count_shared_rooms  host_listings_count  \\\n",
       "5866                                             0                   12   \n",
       "13341                                            0                   24   \n",
       "3738                                             0                   15   \n",
       "\n",
       "       host_total_listings_count  security_deposit  \\\n",
       "5866                          12           205.795   \n",
       "13341                         24             0.000   \n",
       "3738                          15             0.000   \n",
       "\n",
       "       review_scores_communication  review_scores_checkin  \\\n",
       "5866                         9.000                  9.000   \n",
       "13341                        9.000                  8.000   \n",
       "3738                        10.000                 10.000   \n",
       "\n",
       "       review_scores_location  review_scores_value  review_scores_cleanliness  \\\n",
       "5866                   10.000                9.000                      9.000   \n",
       "13341                   8.000               10.000                     10.000   \n",
       "3738                    9.000               10.000                     10.000   \n",
       "\n",
       "       review_scores_accuracy  reviews_per_month  host_acceptance_rate  \\\n",
       "5866                   10.000              1.170               100.000   \n",
       "13341                   8.000              0.710               100.000   \n",
       "3738                   10.000              2.400               100.000   \n",
       "\n",
       "       host_response_rate  review_scores_rating  cleaning_fee  \n",
       "5866              100.000                91.000        82.320  \n",
       "13341              99.000               100.000        96.000  \n",
       "3738              100.000                97.000        63.360  "
      ]
     },
     "execution_count": 85,
     "metadata": {},
     "output_type": "execute_result"
    }
   ],
   "source": [
    "df.head(3)"
   ]
  },
  {
   "cell_type": "code",
   "execution_count": 86,
   "metadata": {},
   "outputs": [
    {
     "data": {
      "text/plain": [
       "(39742, 95)"
      ]
     },
     "execution_count": 86,
     "metadata": {},
     "output_type": "execute_result"
    }
   ],
   "source": [
    "df.shape"
   ]
  },
  {
   "cell_type": "markdown",
   "metadata": {},
   "source": [
    "## Pivot Tables\n",
    "\n",
    "Let's look at the comparison between prices charged by super hosts and prices charged by non superhosts per different countries. We will do so by using a pivot table for our aggregation method. The most important arguments of a `pivot_table` are\n",
    "- `values` --> what we want to aggregate (single column or list of columns). Usually a quantitative variable\n",
    "- `index` --> what we want to represent in the rows (single column or list of columns). Usually a categorical variable or a date one\n",
    "- `columns` --> what we want to represent in our columns (single column or list of columns). Usually a categorical variable\n",
    "- `aggfunc` --> the aggregation method we want to use (single method or list of methods)"
   ]
  },
  {
   "cell_type": "code",
   "execution_count": 87,
   "metadata": {},
   "outputs": [
    {
     "data": {
      "text/html": [
       "<div>\n",
       "<style scoped>\n",
       "    .dataframe tbody tr th:only-of-type {\n",
       "        vertical-align: middle;\n",
       "    }\n",
       "\n",
       "    .dataframe tbody tr th {\n",
       "        vertical-align: top;\n",
       "    }\n",
       "\n",
       "    .dataframe thead th {\n",
       "        text-align: right;\n",
       "    }\n",
       "</style>\n",
       "<table border=\"1\" class=\"dataframe\">\n",
       "  <thead>\n",
       "    <tr style=\"text-align: right;\">\n",
       "      <th>host_is_superhost</th>\n",
       "      <th>f</th>\n",
       "      <th>t</th>\n",
       "    </tr>\n",
       "    <tr>\n",
       "      <th>country</th>\n",
       "      <th></th>\n",
       "      <th></th>\n",
       "    </tr>\n",
       "  </thead>\n",
       "  <tbody>\n",
       "    <tr>\n",
       "      <th>Belgium</th>\n",
       "      <td>169.284</td>\n",
       "      <td>99.368</td>\n",
       "    </tr>\n",
       "    <tr>\n",
       "      <th>Japan</th>\n",
       "      <td>291.743</td>\n",
       "      <td>221.220</td>\n",
       "    </tr>\n",
       "    <tr>\n",
       "      <th>South Africa</th>\n",
       "      <td>145.117</td>\n",
       "      <td>131.447</td>\n",
       "    </tr>\n",
       "  </tbody>\n",
       "</table>\n",
       "</div>"
      ],
      "text/plain": [
       "host_is_superhost       f       t\n",
       "country                          \n",
       "Belgium           169.284  99.368\n",
       "Japan             291.743 221.220\n",
       "South Africa      145.117 131.447"
      ]
     },
     "execution_count": 87,
     "metadata": {},
     "output_type": "execute_result"
    }
   ],
   "source": [
    "super_country_hosts = df.pivot_table(\n",
    "        values='price',\n",
    "        index='country',\n",
    "        columns='host_is_superhost',\n",
    "        aggfunc='mean'\n",
    ")\n",
    "\n",
    "super_country_hosts"
   ]
  },
  {
   "cell_type": "markdown",
   "metadata": {},
   "source": [
    "Because the output of a `pivot_table` is essentially a reduced dataframe, we can use the plot method from pandas to visualise our results."
   ]
  },
  {
   "cell_type": "code",
   "execution_count": 88,
   "metadata": {},
   "outputs": [
    {
     "data": {
      "image/png": "[encoded data removed]",
      "text/plain": [
       "<Figure size 432x288 with 1 Axes>"
      ]
     },
     "metadata": {
      "needs_background": "light"
     },
     "output_type": "display_data"
    }
   ],
   "source": [
    "super_country_hosts.plot(kind='bar', title='Average Price Charged by Super and Regular Hosts', rot=45, color=['#434C5E', '#88C0D0'])\n",
    "plt.legend(['False', 'True'])\n",
    "plt.show()"
   ]
  },
  {
   "cell_type": "code",
   "execution_count": 89,
   "metadata": {},
   "outputs": [
    {
     "data": {
      "text/plain": [
       "Index(['id', 'listing_url', 'scrape_id', 'last_scraped', 'name', 'summary',\n",
       "       'space', 'description', 'experiences_offered', 'neighborhood_overview',\n",
       "       'notes', 'transit', 'access', 'interaction', 'house_rules',\n",
       "       'picture_url', 'host_id', 'host_url', 'host_name', 'host_since',\n",
       "       'host_location', 'host_about', 'host_response_time',\n",
       "       'host_is_superhost', 'host_thumbnail_url', 'host_picture_url',\n",
       "       'host_verifications', 'host_has_profile_pic', 'host_identity_verified',\n",
       "       'street', 'neighbourhood_cleansed', 'city', 'state', 'zipcode',\n",
       "       'market', 'smart_location', 'country_code', 'country',\n",
       "       'is_location_exact', 'property_type', 'room_type', 'bed_type',\n",
       "       'amenities', 'minimum_nights', 'maximum_nights', 'calendar_updated',\n",
       "       'has_availability', 'calendar_last_scraped', 'requires_license',\n",
       "       'instant_bookable', 'is_business_travel_ready', 'cancellation_policy',\n",
       "       'require_guest_profile_picture', 'require_guest_phone_verification',\n",
       "       'first_review', 'last_review', 'latitude', 'longitude', 'bathrooms',\n",
       "       'price', 'extra_people', 'minimum_nights_avg_ntm',\n",
       "       'maximum_nights_avg_ntm', 'accommodates', 'guests_included',\n",
       "       'minimum_minimum_nights', 'maximum_minimum_nights',\n",
       "       'minimum_maximum_nights', 'maximum_maximum_nights', 'availability_30',\n",
       "       'availability_60', 'availability_90', 'availability_365',\n",
       "       'number_of_reviews', 'number_of_reviews_ltm',\n",
       "       'calculated_host_listings_count',\n",
       "       'calculated_host_listings_count_entire_homes', 'bedrooms', 'beds',\n",
       "       'calculated_host_listings_count_private_rooms',\n",
       "       'calculated_host_listings_count_shared_rooms', 'host_listings_count',\n",
       "       'host_total_listings_count', 'security_deposit',\n",
       "       'review_scores_communication', 'review_scores_checkin',\n",
       "       'review_scores_location', 'review_scores_value',\n",
       "       'review_scores_cleanliness', 'review_scores_accuracy',\n",
       "       'reviews_per_month', 'host_acceptance_rate', 'host_response_rate',\n",
       "       'review_scores_rating', 'cleaning_fee'],\n",
       "      dtype='object')"
      ]
     },
     "execution_count": 89,
     "metadata": {},
     "output_type": "execute_result"
    }
   ],
   "source": [
    "df.columns"
   ]
  },
  {
   "cell_type": "code",
   "execution_count": 90,
   "metadata": {},
   "outputs": [
    {
     "data": {
      "text/html": [
       "<div>\n",
       "<style scoped>\n",
       "    .dataframe tbody tr th:only-of-type {\n",
       "        vertical-align: middle;\n",
       "    }\n",
       "\n",
       "    .dataframe tbody tr th {\n",
       "        vertical-align: top;\n",
       "    }\n",
       "\n",
       "    .dataframe thead tr th {\n",
       "        text-align: left;\n",
       "    }\n",
       "\n",
       "    .dataframe thead tr:last-of-type th {\n",
       "        text-align: right;\n",
       "    }\n",
       "</style>\n",
       "<table border=\"1\" class=\"dataframe\">\n",
       "  <thead>\n",
       "    <tr>\n",
       "      <th></th>\n",
       "      <th colspan=\"2\" halign=\"left\">mean</th>\n",
       "      <th colspan=\"2\" halign=\"left\">count</th>\n",
       "      <th colspan=\"2\" halign=\"left\">median</th>\n",
       "    </tr>\n",
       "    <tr>\n",
       "      <th>host_is_superhost</th>\n",
       "      <th>f</th>\n",
       "      <th>t</th>\n",
       "      <th>f</th>\n",
       "      <th>t</th>\n",
       "      <th>f</th>\n",
       "      <th>t</th>\n",
       "    </tr>\n",
       "    <tr>\n",
       "      <th>room_type</th>\n",
       "      <th></th>\n",
       "      <th></th>\n",
       "      <th></th>\n",
       "      <th></th>\n",
       "      <th></th>\n",
       "      <th></th>\n",
       "    </tr>\n",
       "  </thead>\n",
       "  <tbody>\n",
       "    <tr>\n",
       "      <th>Entire home/apt</th>\n",
       "      <td>229.828</td>\n",
       "      <td>184.090</td>\n",
       "      <td>21494</td>\n",
       "      <td>8897</td>\n",
       "      <td>96.317</td>\n",
       "      <td>98.411</td>\n",
       "    </tr>\n",
       "    <tr>\n",
       "      <th>Hotel room</th>\n",
       "      <td>174.653</td>\n",
       "      <td>401.853</td>\n",
       "      <td>811</td>\n",
       "      <td>238</td>\n",
       "      <td>92.735</td>\n",
       "      <td>95.832</td>\n",
       "    </tr>\n",
       "    <tr>\n",
       "      <th>Private room</th>\n",
       "      <td>89.527</td>\n",
       "      <td>70.701</td>\n",
       "      <td>6040</td>\n",
       "      <td>1675</td>\n",
       "      <td>43.248</td>\n",
       "      <td>43.037</td>\n",
       "    </tr>\n",
       "    <tr>\n",
       "      <th>Shared room</th>\n",
       "      <td>45.373</td>\n",
       "      <td>67.810</td>\n",
       "      <td>445</td>\n",
       "      <td>142</td>\n",
       "      <td>28.694</td>\n",
       "      <td>28.694</td>\n",
       "    </tr>\n",
       "  </tbody>\n",
       "</table>\n",
       "</div>"
      ],
      "text/plain": [
       "                     mean          count       median       \n",
       "host_is_superhost       f       t      f     t      f      t\n",
       "room_type                                                   \n",
       "Entire home/apt   229.828 184.090  21494  8897 96.317 98.411\n",
       "Hotel room        174.653 401.853    811   238 92.735 95.832\n",
       "Private room       89.527  70.701   6040  1675 43.248 43.037\n",
       "Shared room        45.373  67.810    445   142 28.694 28.694"
      ]
     },
     "execution_count": 90,
     "metadata": {},
     "output_type": "execute_result"
    }
   ],
   "source": [
    "super_hosts = df.pivot_table(\n",
    "        values='price',\n",
    "        index='room_type',\n",
    "        columns='host_is_superhost',\n",
    "        aggfunc=['mean', 'count', 'median']\n",
    ")\n",
    "\n",
    "super_hosts"
   ]
  },
  {
   "cell_type": "code",
   "execution_count": 93,
   "metadata": {},
   "outputs": [
    {
     "data": {
      "text/plain": [
       "room_type\n",
       "Entire home/apt   229.828\n",
       "Hotel room        174.653\n",
       "Private room       89.527\n",
       "Shared room        45.373\n",
       "Name: f, dtype: float32"
      ]
     },
     "execution_count": 93,
     "metadata": {},
     "output_type": "execute_result"
    }
   ],
   "source": [
    "# To select one of the columns from a column (Mean f as example)\n",
    "\n",
    "super_hosts['mean']['f']"
   ]
  },
  {
   "cell_type": "code",
   "execution_count": 98,
   "metadata": {},
   "outputs": [
    {
     "data": {
      "text/plain": [
       "room_type\n",
       "Entire home/apt   184.090\n",
       "Hotel room        401.853\n",
       "Private room       70.701\n",
       "Shared room        67.810\n",
       "Name: t, dtype: float32"
      ]
     },
     "execution_count": 98,
     "metadata": {},
     "output_type": "execute_result"
    }
   ],
   "source": [
    "# Can also use this\n",
    "\n",
    "super_hosts.loc[:, 'mean'].loc[:, 't']"
   ]
  },
  {
   "cell_type": "markdown",
   "metadata": {},
   "source": [
    "Upon first inspection it seems as if the most "
   ]
  },
  {
   "cell_type": "code",
   "execution_count": 91,
   "metadata": {},
   "outputs": [
    {
     "data": {
      "text/html": [
       "<div>\n",
       "<style scoped>\n",
       "    .dataframe tbody tr th:only-of-type {\n",
       "        vertical-align: middle;\n",
       "    }\n",
       "\n",
       "    .dataframe tbody tr th {\n",
       "        vertical-align: top;\n",
       "    }\n",
       "\n",
       "    .dataframe thead th {\n",
       "        text-align: right;\n",
       "    }\n",
       "</style>\n",
       "<table border=\"1\" class=\"dataframe\">\n",
       "  <thead>\n",
       "    <tr style=\"text-align: right;\">\n",
       "      <th>host_is_superhost</th>\n",
       "      <th>f</th>\n",
       "      <th>t</th>\n",
       "    </tr>\n",
       "    <tr>\n",
       "      <th>property_type</th>\n",
       "      <th></th>\n",
       "      <th></th>\n",
       "    </tr>\n",
       "  </thead>\n",
       "  <tbody>\n",
       "    <tr>\n",
       "      <th>Aparthotel</th>\n",
       "      <td>128.078</td>\n",
       "      <td>144.470</td>\n",
       "    </tr>\n",
       "    <tr>\n",
       "      <th>Apartment</th>\n",
       "      <td>80.210</td>\n",
       "      <td>92.931</td>\n",
       "    </tr>\n",
       "    <tr>\n",
       "      <th>Barn</th>\n",
       "      <td>23.304</td>\n",
       "      <td>221.256</td>\n",
       "    </tr>\n",
       "    <tr>\n",
       "      <th>Bed and breakfast</th>\n",
       "      <td>61.823</td>\n",
       "      <td>58.522</td>\n",
       "    </tr>\n",
       "    <tr>\n",
       "      <th>Boat</th>\n",
       "      <td>247.109</td>\n",
       "      <td>nan</td>\n",
       "    </tr>\n",
       "    <tr>\n",
       "      <th>Boutique hotel</th>\n",
       "      <td>105.533</td>\n",
       "      <td>154.373</td>\n",
       "    </tr>\n",
       "    <tr>\n",
       "      <th>Bungalow</th>\n",
       "      <td>73.485</td>\n",
       "      <td>67.376</td>\n",
       "    </tr>\n",
       "    <tr>\n",
       "      <th>Bus</th>\n",
       "      <td>23.508</td>\n",
       "      <td>nan</td>\n",
       "    </tr>\n",
       "    <tr>\n",
       "      <th>Cabin</th>\n",
       "      <td>41.709</td>\n",
       "      <td>56.949</td>\n",
       "    </tr>\n",
       "    <tr>\n",
       "      <th>Camper/RV</th>\n",
       "      <td>78.667</td>\n",
       "      <td>32.928</td>\n",
       "    </tr>\n",
       "    <tr>\n",
       "      <th>Casa particular (Cuba)</th>\n",
       "      <td>37.390</td>\n",
       "      <td>nan</td>\n",
       "    </tr>\n",
       "    <tr>\n",
       "      <th>Castle</th>\n",
       "      <td>50.104</td>\n",
       "      <td>230.496</td>\n",
       "    </tr>\n",
       "    <tr>\n",
       "      <th>Cave</th>\n",
       "      <td>18.201</td>\n",
       "      <td>nan</td>\n",
       "    </tr>\n",
       "    <tr>\n",
       "      <th>Chalet</th>\n",
       "      <td>58.862</td>\n",
       "      <td>92.365</td>\n",
       "    </tr>\n",
       "    <tr>\n",
       "      <th>Condominium</th>\n",
       "      <td>76.848</td>\n",
       "      <td>91.820</td>\n",
       "    </tr>\n",
       "    <tr>\n",
       "      <th>Cottage</th>\n",
       "      <td>62.070</td>\n",
       "      <td>57.751</td>\n",
       "    </tr>\n",
       "    <tr>\n",
       "      <th>Dome house</th>\n",
       "      <td>71.387</td>\n",
       "      <td>40.982</td>\n",
       "    </tr>\n",
       "    <tr>\n",
       "      <th>Dorm</th>\n",
       "      <td>31.035</td>\n",
       "      <td>nan</td>\n",
       "    </tr>\n",
       "    <tr>\n",
       "      <th>Earth house</th>\n",
       "      <td>31.035</td>\n",
       "      <td>nan</td>\n",
       "    </tr>\n",
       "    <tr>\n",
       "      <th>Farm stay</th>\n",
       "      <td>47.077</td>\n",
       "      <td>27.827</td>\n",
       "    </tr>\n",
       "    <tr>\n",
       "      <th>Guest suite</th>\n",
       "      <td>41.771</td>\n",
       "      <td>37.452</td>\n",
       "    </tr>\n",
       "    <tr>\n",
       "      <th>Guesthouse</th>\n",
       "      <td>58.862</td>\n",
       "      <td>46.028</td>\n",
       "    </tr>\n",
       "    <tr>\n",
       "      <th>Heritage hotel (India)</th>\n",
       "      <td>173.315</td>\n",
       "      <td>nan</td>\n",
       "    </tr>\n",
       "    <tr>\n",
       "      <th>Hostel</th>\n",
       "      <td>46.109</td>\n",
       "      <td>51.235</td>\n",
       "    </tr>\n",
       "    <tr>\n",
       "      <th>Hotel</th>\n",
       "      <td>116.813</td>\n",
       "      <td>96.317</td>\n",
       "    </tr>\n",
       "    <tr>\n",
       "      <th>House</th>\n",
       "      <td>111.183</td>\n",
       "      <td>105.533</td>\n",
       "    </tr>\n",
       "    <tr>\n",
       "      <th>Hut</th>\n",
       "      <td>62.645</td>\n",
       "      <td>57.792</td>\n",
       "    </tr>\n",
       "    <tr>\n",
       "      <th>Island</th>\n",
       "      <td>71.695</td>\n",
       "      <td>nan</td>\n",
       "    </tr>\n",
       "    <tr>\n",
       "      <th>Lighthouse</th>\n",
       "      <td>172.760</td>\n",
       "      <td>nan</td>\n",
       "    </tr>\n",
       "    <tr>\n",
       "      <th>Loft</th>\n",
       "      <td>81.564</td>\n",
       "      <td>73.485</td>\n",
       "    </tr>\n",
       "    <tr>\n",
       "      <th>Nature lodge</th>\n",
       "      <td>67.438</td>\n",
       "      <td>47.338</td>\n",
       "    </tr>\n",
       "    <tr>\n",
       "      <th>Other</th>\n",
       "      <td>46.028</td>\n",
       "      <td>56.702</td>\n",
       "    </tr>\n",
       "    <tr>\n",
       "      <th>Resort</th>\n",
       "      <td>111.183</td>\n",
       "      <td>nan</td>\n",
       "    </tr>\n",
       "    <tr>\n",
       "      <th>Ryokan (Japan)</th>\n",
       "      <td>127.483</td>\n",
       "      <td>23.568</td>\n",
       "    </tr>\n",
       "    <tr>\n",
       "      <th>Serviced apartment</th>\n",
       "      <td>86.627</td>\n",
       "      <td>119.885</td>\n",
       "    </tr>\n",
       "    <tr>\n",
       "      <th>Tent</th>\n",
       "      <td>237.696</td>\n",
       "      <td>192.422</td>\n",
       "    </tr>\n",
       "    <tr>\n",
       "      <th>Tiny house</th>\n",
       "      <td>38.532</td>\n",
       "      <td>52.190</td>\n",
       "    </tr>\n",
       "    <tr>\n",
       "      <th>Townhouse</th>\n",
       "      <td>75.738</td>\n",
       "      <td>87.390</td>\n",
       "    </tr>\n",
       "    <tr>\n",
       "      <th>Treehouse</th>\n",
       "      <td>18.140</td>\n",
       "      <td>76.940</td>\n",
       "    </tr>\n",
       "    <tr>\n",
       "      <th>Villa</th>\n",
       "      <td>327.319</td>\n",
       "      <td>308.068</td>\n",
       "    </tr>\n",
       "    <tr>\n",
       "      <th>Yurt</th>\n",
       "      <td>267.681</td>\n",
       "      <td>nan</td>\n",
       "    </tr>\n",
       "  </tbody>\n",
       "</table>\n",
       "</div>"
      ],
      "text/plain": [
       "host_is_superhost            f       t\n",
       "property_type                         \n",
       "Aparthotel             128.078 144.470\n",
       "Apartment               80.210  92.931\n",
       "Barn                    23.304 221.256\n",
       "Bed and breakfast       61.823  58.522\n",
       "Boat                   247.109     nan\n",
       "Boutique hotel         105.533 154.373\n",
       "Bungalow                73.485  67.376\n",
       "Bus                     23.508     nan\n",
       "Cabin                   41.709  56.949\n",
       "Camper/RV               78.667  32.928\n",
       "Casa particular (Cuba)  37.390     nan\n",
       "Castle                  50.104 230.496\n",
       "Cave                    18.201     nan\n",
       "Chalet                  58.862  92.365\n",
       "Condominium             76.848  91.820\n",
       "Cottage                 62.070  57.751\n",
       "Dome house              71.387  40.982\n",
       "Dorm                    31.035     nan\n",
       "Earth house             31.035     nan\n",
       "Farm stay               47.077  27.827\n",
       "Guest suite             41.771  37.452\n",
       "Guesthouse              58.862  46.028\n",
       "Heritage hotel (India) 173.315     nan\n",
       "Hostel                  46.109  51.235\n",
       "Hotel                  116.813  96.317\n",
       "House                  111.183 105.533\n",
       "Hut                     62.645  57.792\n",
       "Island                  71.695     nan\n",
       "Lighthouse             172.760     nan\n",
       "Loft                    81.564  73.485\n",
       "Nature lodge            67.438  47.338\n",
       "Other                   46.028  56.702\n",
       "Resort                 111.183     nan\n",
       "Ryokan (Japan)         127.483  23.568\n",
       "Serviced apartment      86.627 119.885\n",
       "Tent                   237.696 192.422\n",
       "Tiny house              38.532  52.190\n",
       "Townhouse               75.738  87.390\n",
       "Treehouse               18.140  76.940\n",
       "Villa                  327.319 308.068\n",
       "Yurt                   267.681     nan"
      ]
     },
     "execution_count": 91,
     "metadata": {},
     "output_type": "execute_result"
    }
   ],
   "source": [
    "cancel_super_host = df.pivot_table(\n",
    "    index='property_type',\n",
    "    values='price',\n",
    "    columns='host_is_superhost',\n",
    "    aggfunc='median'\n",
    ")\n",
    "\n",
    "cancel_super_host"
   ]
  },
  {
   "cell_type": "code",
   "execution_count": 99,
   "metadata": {},
   "outputs": [
    {
     "data": {
      "text/html": [
       "<div>\n",
       "<style scoped>\n",
       "    .dataframe tbody tr th:only-of-type {\n",
       "        vertical-align: middle;\n",
       "    }\n",
       "\n",
       "    .dataframe tbody tr th {\n",
       "        vertical-align: top;\n",
       "    }\n",
       "\n",
       "    .dataframe thead th {\n",
       "        text-align: right;\n",
       "    }\n",
       "</style>\n",
       "<table border=\"1\" class=\"dataframe\">\n",
       "  <thead>\n",
       "    <tr style=\"text-align: right;\">\n",
       "      <th>host_is_superhost</th>\n",
       "      <th>f</th>\n",
       "      <th>t</th>\n",
       "      <th>diff</th>\n",
       "    </tr>\n",
       "    <tr>\n",
       "      <th>property_type</th>\n",
       "      <th></th>\n",
       "      <th></th>\n",
       "      <th></th>\n",
       "    </tr>\n",
       "  </thead>\n",
       "  <tbody>\n",
       "    <tr>\n",
       "      <th>Aparthotel</th>\n",
       "      <td>128.078</td>\n",
       "      <td>144.470</td>\n",
       "      <td>16.392</td>\n",
       "    </tr>\n",
       "    <tr>\n",
       "      <th>Apartment</th>\n",
       "      <td>80.210</td>\n",
       "      <td>92.931</td>\n",
       "      <td>12.721</td>\n",
       "    </tr>\n",
       "    <tr>\n",
       "      <th>Barn</th>\n",
       "      <td>23.304</td>\n",
       "      <td>221.256</td>\n",
       "      <td>197.952</td>\n",
       "    </tr>\n",
       "    <tr>\n",
       "      <th>Bed and breakfast</th>\n",
       "      <td>61.823</td>\n",
       "      <td>58.522</td>\n",
       "      <td>-3.302</td>\n",
       "    </tr>\n",
       "    <tr>\n",
       "      <th>Boat</th>\n",
       "      <td>247.109</td>\n",
       "      <td>nan</td>\n",
       "      <td>nan</td>\n",
       "    </tr>\n",
       "    <tr>\n",
       "      <th>Boutique hotel</th>\n",
       "      <td>105.533</td>\n",
       "      <td>154.373</td>\n",
       "      <td>48.841</td>\n",
       "    </tr>\n",
       "    <tr>\n",
       "      <th>Bungalow</th>\n",
       "      <td>73.485</td>\n",
       "      <td>67.376</td>\n",
       "      <td>-6.108</td>\n",
       "    </tr>\n",
       "    <tr>\n",
       "      <th>Bus</th>\n",
       "      <td>23.508</td>\n",
       "      <td>nan</td>\n",
       "      <td>nan</td>\n",
       "    </tr>\n",
       "    <tr>\n",
       "      <th>Cabin</th>\n",
       "      <td>41.709</td>\n",
       "      <td>56.949</td>\n",
       "      <td>15.240</td>\n",
       "    </tr>\n",
       "    <tr>\n",
       "      <th>Camper/RV</th>\n",
       "      <td>78.667</td>\n",
       "      <td>32.928</td>\n",
       "      <td>-45.739</td>\n",
       "    </tr>\n",
       "    <tr>\n",
       "      <th>Casa particular (Cuba)</th>\n",
       "      <td>37.390</td>\n",
       "      <td>nan</td>\n",
       "      <td>nan</td>\n",
       "    </tr>\n",
       "    <tr>\n",
       "      <th>Castle</th>\n",
       "      <td>50.104</td>\n",
       "      <td>230.496</td>\n",
       "      <td>180.392</td>\n",
       "    </tr>\n",
       "    <tr>\n",
       "      <th>Cave</th>\n",
       "      <td>18.201</td>\n",
       "      <td>nan</td>\n",
       "      <td>nan</td>\n",
       "    </tr>\n",
       "    <tr>\n",
       "      <th>Chalet</th>\n",
       "      <td>58.862</td>\n",
       "      <td>92.365</td>\n",
       "      <td>33.503</td>\n",
       "    </tr>\n",
       "    <tr>\n",
       "      <th>Condominium</th>\n",
       "      <td>76.848</td>\n",
       "      <td>91.820</td>\n",
       "      <td>14.972</td>\n",
       "    </tr>\n",
       "    <tr>\n",
       "      <th>Cottage</th>\n",
       "      <td>62.070</td>\n",
       "      <td>57.751</td>\n",
       "      <td>-4.319</td>\n",
       "    </tr>\n",
       "    <tr>\n",
       "      <th>Dome house</th>\n",
       "      <td>71.387</td>\n",
       "      <td>40.982</td>\n",
       "      <td>-30.405</td>\n",
       "    </tr>\n",
       "    <tr>\n",
       "      <th>Dorm</th>\n",
       "      <td>31.035</td>\n",
       "      <td>nan</td>\n",
       "      <td>nan</td>\n",
       "    </tr>\n",
       "    <tr>\n",
       "      <th>Earth house</th>\n",
       "      <td>31.035</td>\n",
       "      <td>nan</td>\n",
       "      <td>nan</td>\n",
       "    </tr>\n",
       "    <tr>\n",
       "      <th>Farm stay</th>\n",
       "      <td>47.077</td>\n",
       "      <td>27.827</td>\n",
       "      <td>-19.250</td>\n",
       "    </tr>\n",
       "    <tr>\n",
       "      <th>Guest suite</th>\n",
       "      <td>41.771</td>\n",
       "      <td>37.452</td>\n",
       "      <td>-4.319</td>\n",
       "    </tr>\n",
       "    <tr>\n",
       "      <th>Guesthouse</th>\n",
       "      <td>58.862</td>\n",
       "      <td>46.028</td>\n",
       "      <td>-12.834</td>\n",
       "    </tr>\n",
       "    <tr>\n",
       "      <th>Heritage hotel (India)</th>\n",
       "      <td>173.315</td>\n",
       "      <td>nan</td>\n",
       "      <td>nan</td>\n",
       "    </tr>\n",
       "    <tr>\n",
       "      <th>Hostel</th>\n",
       "      <td>46.109</td>\n",
       "      <td>51.235</td>\n",
       "      <td>5.126</td>\n",
       "    </tr>\n",
       "    <tr>\n",
       "      <th>Hotel</th>\n",
       "      <td>116.813</td>\n",
       "      <td>96.317</td>\n",
       "      <td>-20.496</td>\n",
       "    </tr>\n",
       "    <tr>\n",
       "      <th>House</th>\n",
       "      <td>111.183</td>\n",
       "      <td>105.533</td>\n",
       "      <td>-5.651</td>\n",
       "    </tr>\n",
       "    <tr>\n",
       "      <th>Hut</th>\n",
       "      <td>62.645</td>\n",
       "      <td>57.792</td>\n",
       "      <td>-4.853</td>\n",
       "    </tr>\n",
       "    <tr>\n",
       "      <th>Island</th>\n",
       "      <td>71.695</td>\n",
       "      <td>nan</td>\n",
       "      <td>nan</td>\n",
       "    </tr>\n",
       "    <tr>\n",
       "      <th>Lighthouse</th>\n",
       "      <td>172.760</td>\n",
       "      <td>nan</td>\n",
       "      <td>nan</td>\n",
       "    </tr>\n",
       "    <tr>\n",
       "      <th>Loft</th>\n",
       "      <td>81.564</td>\n",
       "      <td>73.485</td>\n",
       "      <td>-8.079</td>\n",
       "    </tr>\n",
       "    <tr>\n",
       "      <th>Nature lodge</th>\n",
       "      <td>67.438</td>\n",
       "      <td>47.338</td>\n",
       "      <td>-20.101</td>\n",
       "    </tr>\n",
       "    <tr>\n",
       "      <th>Other</th>\n",
       "      <td>46.028</td>\n",
       "      <td>56.702</td>\n",
       "      <td>10.674</td>\n",
       "    </tr>\n",
       "    <tr>\n",
       "      <th>Resort</th>\n",
       "      <td>111.183</td>\n",
       "      <td>nan</td>\n",
       "      <td>nan</td>\n",
       "    </tr>\n",
       "    <tr>\n",
       "      <th>Ryokan (Japan)</th>\n",
       "      <td>127.483</td>\n",
       "      <td>23.568</td>\n",
       "      <td>-103.915</td>\n",
       "    </tr>\n",
       "    <tr>\n",
       "      <th>Serviced apartment</th>\n",
       "      <td>86.627</td>\n",
       "      <td>119.885</td>\n",
       "      <td>33.258</td>\n",
       "    </tr>\n",
       "    <tr>\n",
       "      <th>Tent</th>\n",
       "      <td>237.696</td>\n",
       "      <td>192.422</td>\n",
       "      <td>-45.274</td>\n",
       "    </tr>\n",
       "    <tr>\n",
       "      <th>Tiny house</th>\n",
       "      <td>38.532</td>\n",
       "      <td>52.190</td>\n",
       "      <td>13.658</td>\n",
       "    </tr>\n",
       "    <tr>\n",
       "      <th>Townhouse</th>\n",
       "      <td>75.738</td>\n",
       "      <td>87.390</td>\n",
       "      <td>11.652</td>\n",
       "    </tr>\n",
       "    <tr>\n",
       "      <th>Treehouse</th>\n",
       "      <td>18.140</td>\n",
       "      <td>76.940</td>\n",
       "      <td>58.800</td>\n",
       "    </tr>\n",
       "    <tr>\n",
       "      <th>Villa</th>\n",
       "      <td>327.319</td>\n",
       "      <td>308.068</td>\n",
       "      <td>-19.250</td>\n",
       "    </tr>\n",
       "    <tr>\n",
       "      <th>Yurt</th>\n",
       "      <td>267.681</td>\n",
       "      <td>nan</td>\n",
       "      <td>nan</td>\n",
       "    </tr>\n",
       "  </tbody>\n",
       "</table>\n",
       "</div>"
      ],
      "text/plain": [
       "host_is_superhost            f       t     diff\n",
       "property_type                                  \n",
       "Aparthotel             128.078 144.470   16.392\n",
       "Apartment               80.210  92.931   12.721\n",
       "Barn                    23.304 221.256  197.952\n",
       "Bed and breakfast       61.823  58.522   -3.302\n",
       "Boat                   247.109     nan      nan\n",
       "Boutique hotel         105.533 154.373   48.841\n",
       "Bungalow                73.485  67.376   -6.108\n",
       "Bus                     23.508     nan      nan\n",
       "Cabin                   41.709  56.949   15.240\n",
       "Camper/RV               78.667  32.928  -45.739\n",
       "Casa particular (Cuba)  37.390     nan      nan\n",
       "Castle                  50.104 230.496  180.392\n",
       "Cave                    18.201     nan      nan\n",
       "Chalet                  58.862  92.365   33.503\n",
       "Condominium             76.848  91.820   14.972\n",
       "Cottage                 62.070  57.751   -4.319\n",
       "Dome house              71.387  40.982  -30.405\n",
       "Dorm                    31.035     nan      nan\n",
       "Earth house             31.035     nan      nan\n",
       "Farm stay               47.077  27.827  -19.250\n",
       "Guest suite             41.771  37.452   -4.319\n",
       "Guesthouse              58.862  46.028  -12.834\n",
       "Heritage hotel (India) 173.315     nan      nan\n",
       "Hostel                  46.109  51.235    5.126\n",
       "Hotel                  116.813  96.317  -20.496\n",
       "House                  111.183 105.533   -5.651\n",
       "Hut                     62.645  57.792   -4.853\n",
       "Island                  71.695     nan      nan\n",
       "Lighthouse             172.760     nan      nan\n",
       "Loft                    81.564  73.485   -8.079\n",
       "Nature lodge            67.438  47.338  -20.101\n",
       "Other                   46.028  56.702   10.674\n",
       "Resort                 111.183     nan      nan\n",
       "Ryokan (Japan)         127.483  23.568 -103.915\n",
       "Serviced apartment      86.627 119.885   33.258\n",
       "Tent                   237.696 192.422  -45.274\n",
       "Tiny house              38.532  52.190   13.658\n",
       "Townhouse               75.738  87.390   11.652\n",
       "Treehouse               18.140  76.940   58.800\n",
       "Villa                  327.319 308.068  -19.250\n",
       "Yurt                   267.681     nan      nan"
      ]
     },
     "execution_count": 99,
     "metadata": {},
     "output_type": "execute_result"
    }
   ],
   "source": [
    "# we can also perform operations with the reduced pivot table\n",
    "cancel_super_host['diff'] = cancel_super_host['t'] - cancel_super_host['f']\n",
    "cancel_super_host"
   ]
  },
  {
   "cell_type": "markdown",
   "metadata": {},
   "source": [
    "We can also explore very complex interactions within the data."
   ]
  },
  {
   "cell_type": "code",
   "execution_count": 102,
   "metadata": {},
   "outputs": [
    {
     "data": {
      "text/html": [
       "<div>\n",
       "<style scoped>\n",
       "    .dataframe tbody tr th:only-of-type {\n",
       "        vertical-align: middle;\n",
       "    }\n",
       "\n",
       "    .dataframe tbody tr th {\n",
       "        vertical-align: top;\n",
       "    }\n",
       "\n",
       "    .dataframe thead tr th {\n",
       "        text-align: left;\n",
       "    }\n",
       "\n",
       "    .dataframe thead tr:last-of-type th {\n",
       "        text-align: right;\n",
       "    }\n",
       "</style>\n",
       "<table border=\"1\" class=\"dataframe\">\n",
       "  <thead>\n",
       "    <tr>\n",
       "      <th></th>\n",
       "      <th></th>\n",
       "      <th colspan=\"8\" halign=\"left\">count</th>\n",
       "      <th colspan=\"8\" halign=\"left\">mean</th>\n",
       "    </tr>\n",
       "    <tr>\n",
       "      <th></th>\n",
       "      <th></th>\n",
       "      <th colspan=\"4\" halign=\"left\">cleaning_fee</th>\n",
       "      <th colspan=\"4\" halign=\"left\">price</th>\n",
       "      <th colspan=\"4\" halign=\"left\">cleaning_fee</th>\n",
       "      <th colspan=\"4\" halign=\"left\">price</th>\n",
       "    </tr>\n",
       "    <tr>\n",
       "      <th></th>\n",
       "      <th>host_identity_verified</th>\n",
       "      <th colspan=\"2\" halign=\"left\">f</th>\n",
       "      <th colspan=\"2\" halign=\"left\">t</th>\n",
       "      <th colspan=\"2\" halign=\"left\">f</th>\n",
       "      <th colspan=\"2\" halign=\"left\">t</th>\n",
       "      <th colspan=\"2\" halign=\"left\">f</th>\n",
       "      <th colspan=\"2\" halign=\"left\">t</th>\n",
       "      <th colspan=\"2\" halign=\"left\">f</th>\n",
       "      <th colspan=\"2\" halign=\"left\">t</th>\n",
       "    </tr>\n",
       "    <tr>\n",
       "      <th></th>\n",
       "      <th>instant_bookable</th>\n",
       "      <th>f</th>\n",
       "      <th>t</th>\n",
       "      <th>f</th>\n",
       "      <th>t</th>\n",
       "      <th>f</th>\n",
       "      <th>t</th>\n",
       "      <th>f</th>\n",
       "      <th>t</th>\n",
       "      <th>f</th>\n",
       "      <th>t</th>\n",
       "      <th>f</th>\n",
       "      <th>t</th>\n",
       "      <th>f</th>\n",
       "      <th>t</th>\n",
       "      <th>f</th>\n",
       "      <th>t</th>\n",
       "    </tr>\n",
       "    <tr>\n",
       "      <th>host_is_superhost</th>\n",
       "      <th>country</th>\n",
       "      <th></th>\n",
       "      <th></th>\n",
       "      <th></th>\n",
       "      <th></th>\n",
       "      <th></th>\n",
       "      <th></th>\n",
       "      <th></th>\n",
       "      <th></th>\n",
       "      <th></th>\n",
       "      <th></th>\n",
       "      <th></th>\n",
       "      <th></th>\n",
       "      <th></th>\n",
       "      <th></th>\n",
       "      <th></th>\n",
       "      <th></th>\n",
       "    </tr>\n",
       "  </thead>\n",
       "  <tbody>\n",
       "    <tr>\n",
       "      <th rowspan=\"3\" valign=\"top\">f</th>\n",
       "      <th>Belgium</th>\n",
       "      <td>522</td>\n",
       "      <td>741</td>\n",
       "      <td>358</td>\n",
       "      <td>197</td>\n",
       "      <td>522</td>\n",
       "      <td>741</td>\n",
       "      <td>358</td>\n",
       "      <td>197</td>\n",
       "      <td>27.858</td>\n",
       "      <td>35.963</td>\n",
       "      <td>44.998</td>\n",
       "      <td>37.444</td>\n",
       "      <td>96.015</td>\n",
       "      <td>202.061</td>\n",
       "      <td>114.697</td>\n",
       "      <td>339.339</td>\n",
       "    </tr>\n",
       "    <tr>\n",
       "      <th>Japan</th>\n",
       "      <td>1534</td>\n",
       "      <td>6585</td>\n",
       "      <td>431</td>\n",
       "      <td>1139</td>\n",
       "      <td>1534</td>\n",
       "      <td>6585</td>\n",
       "      <td>431</td>\n",
       "      <td>1139</td>\n",
       "      <td>74.013</td>\n",
       "      <td>58.378</td>\n",
       "      <td>70.858</td>\n",
       "      <td>58.153</td>\n",
       "      <td>159.274</td>\n",
       "      <td>340.764</td>\n",
       "      <td>120.800</td>\n",
       "      <td>251.425</td>\n",
       "    </tr>\n",
       "    <tr>\n",
       "      <th>South Africa</th>\n",
       "      <td>5902</td>\n",
       "      <td>7346</td>\n",
       "      <td>2458</td>\n",
       "      <td>1577</td>\n",
       "      <td>5902</td>\n",
       "      <td>7346</td>\n",
       "      <td>2458</td>\n",
       "      <td>1577</td>\n",
       "      <td>23.515</td>\n",
       "      <td>18.935</td>\n",
       "      <td>25.606</td>\n",
       "      <td>21.506</td>\n",
       "      <td>168.271</td>\n",
       "      <td>125.823</td>\n",
       "      <td>163.541</td>\n",
       "      <td>119.616</td>\n",
       "    </tr>\n",
       "    <tr>\n",
       "      <th rowspan=\"3\" valign=\"top\">t</th>\n",
       "      <th>Belgium</th>\n",
       "      <td>135</td>\n",
       "      <td>176</td>\n",
       "      <td>144</td>\n",
       "      <td>71</td>\n",
       "      <td>135</td>\n",
       "      <td>176</td>\n",
       "      <td>144</td>\n",
       "      <td>71</td>\n",
       "      <td>26.746</td>\n",
       "      <td>32.884</td>\n",
       "      <td>29.535</td>\n",
       "      <td>26.372</td>\n",
       "      <td>100.397</td>\n",
       "      <td>104.842</td>\n",
       "      <td>94.041</td>\n",
       "      <td>94.644</td>\n",
       "    </tr>\n",
       "    <tr>\n",
       "      <th>Japan</th>\n",
       "      <td>732</td>\n",
       "      <td>2895</td>\n",
       "      <td>464</td>\n",
       "      <td>797</td>\n",
       "      <td>732</td>\n",
       "      <td>2895</td>\n",
       "      <td>464</td>\n",
       "      <td>797</td>\n",
       "      <td>65.322</td>\n",
       "      <td>66.506</td>\n",
       "      <td>54.316</td>\n",
       "      <td>64.137</td>\n",
       "      <td>155.498</td>\n",
       "      <td>261.516</td>\n",
       "      <td>117.235</td>\n",
       "      <td>195.750</td>\n",
       "    </tr>\n",
       "    <tr>\n",
       "      <th>South Africa</th>\n",
       "      <td>1638</td>\n",
       "      <td>1822</td>\n",
       "      <td>1103</td>\n",
       "      <td>975</td>\n",
       "      <td>1638</td>\n",
       "      <td>1822</td>\n",
       "      <td>1103</td>\n",
       "      <td>975</td>\n",
       "      <td>24.806</td>\n",
       "      <td>20.898</td>\n",
       "      <td>27.197</td>\n",
       "      <td>23.239</td>\n",
       "      <td>141.132</td>\n",
       "      <td>96.449</td>\n",
       "      <td>155.222</td>\n",
       "      <td>153.681</td>\n",
       "    </tr>\n",
       "  </tbody>\n",
       "</table>\n",
       "</div>"
      ],
      "text/plain": [
       "                                      count                                \\\n",
       "                               cleaning_fee                   price         \n",
       "host_identity_verified                    f           t           f         \n",
       "instant_bookable                          f     t     f     t     f     t   \n",
       "host_is_superhost country                                                   \n",
       "f                 Belgium               522   741   358   197   522   741   \n",
       "                  Japan                1534  6585   431  1139  1534  6585   \n",
       "                  South Africa         5902  7346  2458  1577  5902  7346   \n",
       "t                 Belgium               135   176   144    71   135   176   \n",
       "                  Japan                 732  2895   464   797   732  2895   \n",
       "                  South Africa         1638  1822  1103   975  1638  1822   \n",
       "\n",
       "                                                   mean                       \\\n",
       "                                           cleaning_fee                        \n",
       "host_identity_verified             t                  f             t          \n",
       "instant_bookable                   f     t            f      t      f      t   \n",
       "host_is_superhost country                                                      \n",
       "f                 Belgium        358   197       27.858 35.963 44.998 37.444   \n",
       "                  Japan          431  1139       74.013 58.378 70.858 58.153   \n",
       "                  South Africa  2458  1577       23.515 18.935 25.606 21.506   \n",
       "t                 Belgium        144    71       26.746 32.884 29.535 26.372   \n",
       "                  Japan          464   797       65.322 66.506 54.316 64.137   \n",
       "                  South Africa  1103   975       24.806 20.898 27.197 23.239   \n",
       "\n",
       "                                                                \n",
       "                                 price                          \n",
       "host_identity_verified               f               t          \n",
       "instant_bookable                     f       t       f       t  \n",
       "host_is_superhost country                                       \n",
       "f                 Belgium       96.015 202.061 114.697 339.339  \n",
       "                  Japan        159.274 340.764 120.800 251.425  \n",
       "                  South Africa 168.271 125.823 163.541 119.616  \n",
       "t                 Belgium      100.397 104.842  94.041  94.644  \n",
       "                  Japan        155.498 261.516 117.235 195.750  \n",
       "                  South Africa 141.132  96.449 155.222 153.681  "
      ]
     },
     "execution_count": 102,
     "metadata": {},
     "output_type": "execute_result"
    }
   ],
   "source": [
    "identity_price = df.pivot_table(index=['host_is_superhost', 'country'], \n",
    "                                values=['price', 'cleaning_fee'], \n",
    "                                columns=['host_identity_verified', 'instant_bookable'],\n",
    "                                aggfunc=['count', 'mean'])\n",
    "\n",
    "identity_price"
   ]
  },
  {
   "cell_type": "markdown",
   "metadata": {},
   "source": [
    "## Both of these are the same thing"
   ]
  },
  {
   "cell_type": "code",
   "execution_count": 110,
   "metadata": {},
   "outputs": [
    {
     "data": {
      "text/plain": [
       "country\n",
       "Belgium          522\n",
       "Japan           1534\n",
       "South Africa    5902\n",
       "Name: f, dtype: int64"
      ]
     },
     "execution_count": 110,
     "metadata": {},
     "output_type": "execute_result"
    }
   ],
   "source": [
    "identity_price['count']['price']['f']['f'].loc['f', :].loc['f', :]"
   ]
  },
  {
   "cell_type": "code",
   "execution_count": 112,
   "metadata": {},
   "outputs": [
    {
     "data": {
      "text/plain": [
       "country\n",
       "Belgium          522\n",
       "Japan           1534\n",
       "South Africa    5902\n",
       "Name: (count, price, f, f), dtype: int64"
      ]
     },
     "execution_count": 112,
     "metadata": {},
     "output_type": "execute_result"
    }
   ],
   "source": [
    "identity_price.loc['f', ('count', 'price', 'f', 'f')]"
   ]
  },
  {
   "cell_type": "markdown",
   "metadata": {},
   "source": [
    "As a side note. It would also be interesting to see whether there is a big gap between the distribution of reviews received by super hosts and regular hosts, and across rooms."
   ]
  },
  {
   "cell_type": "code",
   "execution_count": 113,
   "metadata": {},
   "outputs": [
    {
     "data": {
      "image/png": "[encoded data removed]",
      "text/plain": [
       "<Figure size 842.4x595.44 with 1 Axes>"
      ]
     },
     "metadata": {},
     "output_type": "display_data"
    }
   ],
   "source": [
    "sns.set('notebook')\n",
    "sns.set(rc={'figure.figsize':(11.7, 8.27)})\n",
    "sns.violinplot(x=\"room_type\", \n",
    "               y=\"number_of_reviews\", \n",
    "               hue=\"host_is_superhost\", \n",
    "               data=df.sample(5000), \n",
    "               palette=\"Pastel1\")\n",
    "plt.title(\"Reviews Distribution by Host and Room Type\")\n",
    "plt.xlabel(\"Types of Rooms\")\n",
    "plt.ylabel(\"Prices\")\n",
    "plt.show()"
   ]
  },
  {
   "cell_type": "markdown",
   "metadata": {},
   "source": [
    "## GroupBy\n",
    "\n",
    "To understand groups better, we cam create a multi-index object using the pandas method `.grouby()`. This method is another useful tool for aggregating data and one that you might end up using a lot for data analysis with Python. Its mechanics are a bit different than that of `pivot_tables` but the results are almost the same. How does `.groupby()` works then\n",
    "\n",
    "1. We first call the method on our data, e.g. `df.groupby`\n",
    "2. We then select the variable or variables (as a list if multiple) that we would like to split our data by, e.g. `df.groupby('cars')` or `df.groupby(['cars', 'cylinders'])`\n",
    "3. We now have a lazy `groupby` object from which we can select columns and aggregation methods for, e.g. `df.groupby('cars')['km_per_galons'].mean()` would give us the average kilometers per gallons by car brand\n",
    "4. We can also specify multiple aggregation functions for a column, or specific aggregation methods for each columns (e.g. as a dictionary `{'column': 'mean'}`) using the `.agg()` method after the a specific columns or the `groupby` object itself\n",
    "\n",
    "You can learn more about the awesome `groupby` through the pandas documentation [here](https://pandas.pydata.org/pandas-docs/stable/user_guide/groupby.html)."
   ]
  },
  {
   "cell_type": "code",
   "execution_count": 114,
   "metadata": {},
   "outputs": [
    {
     "data": {
      "text/html": [
       "<div>\n",
       "<style scoped>\n",
       "    .dataframe tbody tr th:only-of-type {\n",
       "        vertical-align: middle;\n",
       "    }\n",
       "\n",
       "    .dataframe tbody tr th {\n",
       "        vertical-align: top;\n",
       "    }\n",
       "\n",
       "    .dataframe thead th {\n",
       "        text-align: right;\n",
       "    }\n",
       "</style>\n",
       "<table border=\"1\" class=\"dataframe\">\n",
       "  <thead>\n",
       "    <tr style=\"text-align: right;\">\n",
       "      <th></th>\n",
       "      <th>id</th>\n",
       "      <th>listing_url</th>\n",
       "      <th>scrape_id</th>\n",
       "      <th>last_scraped</th>\n",
       "      <th>name</th>\n",
       "      <th>summary</th>\n",
       "      <th>space</th>\n",
       "      <th>description</th>\n",
       "      <th>experiences_offered</th>\n",
       "      <th>neighborhood_overview</th>\n",
       "      <th>notes</th>\n",
       "      <th>transit</th>\n",
       "      <th>access</th>\n",
       "      <th>interaction</th>\n",
       "      <th>house_rules</th>\n",
       "      <th>picture_url</th>\n",
       "      <th>host_id</th>\n",
       "      <th>host_url</th>\n",
       "      <th>host_name</th>\n",
       "      <th>host_since</th>\n",
       "      <th>host_location</th>\n",
       "      <th>host_about</th>\n",
       "      <th>host_response_time</th>\n",
       "      <th>host_is_superhost</th>\n",
       "      <th>host_thumbnail_url</th>\n",
       "      <th>host_picture_url</th>\n",
       "      <th>host_verifications</th>\n",
       "      <th>host_has_profile_pic</th>\n",
       "      <th>host_identity_verified</th>\n",
       "      <th>street</th>\n",
       "      <th>neighbourhood_cleansed</th>\n",
       "      <th>city</th>\n",
       "      <th>state</th>\n",
       "      <th>zipcode</th>\n",
       "      <th>market</th>\n",
       "      <th>smart_location</th>\n",
       "      <th>country_code</th>\n",
       "      <th>country</th>\n",
       "      <th>is_location_exact</th>\n",
       "      <th>property_type</th>\n",
       "      <th>room_type</th>\n",
       "      <th>bed_type</th>\n",
       "      <th>amenities</th>\n",
       "      <th>minimum_nights</th>\n",
       "      <th>maximum_nights</th>\n",
       "      <th>calendar_updated</th>\n",
       "      <th>has_availability</th>\n",
       "      <th>calendar_last_scraped</th>\n",
       "      <th>requires_license</th>\n",
       "      <th>instant_bookable</th>\n",
       "      <th>is_business_travel_ready</th>\n",
       "      <th>cancellation_policy</th>\n",
       "      <th>require_guest_profile_picture</th>\n",
       "      <th>require_guest_phone_verification</th>\n",
       "      <th>first_review</th>\n",
       "      <th>last_review</th>\n",
       "      <th>latitude</th>\n",
       "      <th>longitude</th>\n",
       "      <th>bathrooms</th>\n",
       "      <th>price</th>\n",
       "      <th>extra_people</th>\n",
       "      <th>minimum_nights_avg_ntm</th>\n",
       "      <th>maximum_nights_avg_ntm</th>\n",
       "      <th>accommodates</th>\n",
       "      <th>guests_included</th>\n",
       "      <th>minimum_minimum_nights</th>\n",
       "      <th>maximum_minimum_nights</th>\n",
       "      <th>minimum_maximum_nights</th>\n",
       "      <th>maximum_maximum_nights</th>\n",
       "      <th>availability_30</th>\n",
       "      <th>availability_60</th>\n",
       "      <th>availability_90</th>\n",
       "      <th>availability_365</th>\n",
       "      <th>number_of_reviews</th>\n",
       "      <th>number_of_reviews_ltm</th>\n",
       "      <th>calculated_host_listings_count</th>\n",
       "      <th>calculated_host_listings_count_entire_homes</th>\n",
       "      <th>bedrooms</th>\n",
       "      <th>beds</th>\n",
       "      <th>calculated_host_listings_count_private_rooms</th>\n",
       "      <th>calculated_host_listings_count_shared_rooms</th>\n",
       "      <th>host_listings_count</th>\n",
       "      <th>host_total_listings_count</th>\n",
       "      <th>security_deposit</th>\n",
       "      <th>review_scores_communication</th>\n",
       "      <th>review_scores_checkin</th>\n",
       "      <th>review_scores_location</th>\n",
       "      <th>review_scores_value</th>\n",
       "      <th>review_scores_cleanliness</th>\n",
       "      <th>review_scores_accuracy</th>\n",
       "      <th>reviews_per_month</th>\n",
       "      <th>host_acceptance_rate</th>\n",
       "      <th>host_response_rate</th>\n",
       "      <th>review_scores_rating</th>\n",
       "      <th>cleaning_fee</th>\n",
       "    </tr>\n",
       "  </thead>\n",
       "  <tbody>\n",
       "    <tr>\n",
       "      <th>5866</th>\n",
       "      <td>31000095</td>\n",
       "      <td>https://www.airbnb.com/rooms/31000095</td>\n",
       "      <td>20200625032351</td>\n",
       "      <td>2020-06-26</td>\n",
       "      <td>Shinjuku  JR Shin-okubo sta. 3mins Homely House</td>\n",
       "      <td>The district Shinjuku area,nearby JR Shin-okub...</td>\n",
       "      <td>Three-storey building, four rooms: The first f...</td>\n",
       "      <td>The district Shinjuku area,nearby JR Shin-okub...</td>\n",
       "      <td>none</td>\n",
       "      <td>Shin-Okubo Station is famous for its Korean ci...</td>\n",
       "      <td>Basically check in time at 16:00 / check out t...</td>\n",
       "      <td>◎ There are two nearest stations, namely Shin-...</td>\n",
       "      <td>The new decoration and equipment, we hope you ...</td>\n",
       "      <td>Any problem in Tokyo can provide assistance du...</td>\n",
       "      <td>Unknown</td>\n",
       "      <td>https://a0.muscache.com/im/pictures/92e9a30d-a...</td>\n",
       "      <td>23641660</td>\n",
       "      <td>https://www.airbnb.com/users/show/23641660</td>\n",
       "      <td>Airi</td>\n",
       "      <td>2014-11-12</td>\n",
       "      <td>Toshima, Tokyo, Japan</td>\n",
       "      <td>Unknown</td>\n",
       "      <td>within an hour</td>\n",
       "      <td>f</td>\n",
       "      <td>https://a0.muscache.com/im/users/23641660/prof...</td>\n",
       "      <td>https://a0.muscache.com/im/users/23641660/prof...</td>\n",
       "      <td>['email', 'phone', 'jumio', 'selfie', 'governm...</td>\n",
       "      <td>t</td>\n",
       "      <td>f</td>\n",
       "      <td>Shinjuku, Tokyo, Japan</td>\n",
       "      <td>Shinjuku Ku</td>\n",
       "      <td>Shinjuku</td>\n",
       "      <td>Tokyo</td>\n",
       "      <td>169-0073</td>\n",
       "      <td>Tokyo</td>\n",
       "      <td>Shinjuku, Japan</td>\n",
       "      <td>JP</td>\n",
       "      <td>Japan</td>\n",
       "      <td>t</td>\n",
       "      <td>House</td>\n",
       "      <td>Entire home/apt</td>\n",
       "      <td>Real Bed</td>\n",
       "      <td>{TV,Wifi,\"Air conditioning\",Kitchen,Heating,Wa...</td>\n",
       "      <td>2</td>\n",
       "      <td>1125</td>\n",
       "      <td>3 months ago</td>\n",
       "      <td>t</td>\n",
       "      <td>2020-06-26</td>\n",
       "      <td>t</td>\n",
       "      <td>t</td>\n",
       "      <td>f</td>\n",
       "      <td>flexible</td>\n",
       "      <td>f</td>\n",
       "      <td>f</td>\n",
       "      <td>2019-02-26</td>\n",
       "      <td>2020-03-11</td>\n",
       "      <td>35.699</td>\n",
       "      <td>139.698</td>\n",
       "      <td>2.000</td>\n",
       "      <td>605.050</td>\n",
       "      <td>20.582</td>\n",
       "      <td>2.000</td>\n",
       "      <td>1125.000</td>\n",
       "      <td>11</td>\n",
       "      <td>2</td>\n",
       "      <td>2</td>\n",
       "      <td>2</td>\n",
       "      <td>1125</td>\n",
       "      <td>1125</td>\n",
       "      <td>26</td>\n",
       "      <td>46</td>\n",
       "      <td>63</td>\n",
       "      <td>149</td>\n",
       "      <td>19</td>\n",
       "      <td>13</td>\n",
       "      <td>2</td>\n",
       "      <td>2</td>\n",
       "      <td>4</td>\n",
       "      <td>7</td>\n",
       "      <td>0</td>\n",
       "      <td>0</td>\n",
       "      <td>12</td>\n",
       "      <td>12</td>\n",
       "      <td>205.795</td>\n",
       "      <td>9.000</td>\n",
       "      <td>9.000</td>\n",
       "      <td>10.000</td>\n",
       "      <td>9.000</td>\n",
       "      <td>9.000</td>\n",
       "      <td>10.000</td>\n",
       "      <td>1.170</td>\n",
       "      <td>100.000</td>\n",
       "      <td>100.000</td>\n",
       "      <td>91.000</td>\n",
       "      <td>82.320</td>\n",
       "    </tr>\n",
       "    <tr>\n",
       "      <th>13341</th>\n",
       "      <td>42388049</td>\n",
       "      <td>https://www.airbnb.com/rooms/42388049</td>\n",
       "      <td>20200625032351</td>\n",
       "      <td>2020-06-26</td>\n",
       "      <td>MUMU) Tokyo's premier center Shinjuku! Free WIFI</td>\n",
       "      <td>** Discount for May&amp;June! ** Duplex Apartment ...</td>\n",
       "      <td>It is located a 7-minute walk from Higashi-Shi...</td>\n",
       "      <td>** Discount for May&amp;June! ** Duplex Apartment ...</td>\n",
       "      <td>none</td>\n",
       "      <td>The best thing of my place is the accessibilit...</td>\n",
       "      <td>EASY Check-in and Checkout: Happy to be flexib...</td>\n",
       "      <td>Higashi Shinjuku station - 7mins on foot. JR S...</td>\n",
       "      <td>You will have full kitchen with everything you...</td>\n",
       "      <td>I am more than willing to help you out if you ...</td>\n",
       "      <td>Unknown</td>\n",
       "      <td>https://a0.muscache.com/im/pictures/c5606851-1...</td>\n",
       "      <td>30451776</td>\n",
       "      <td>https://www.airbnb.com/users/show/30451776</td>\n",
       "      <td>Emily</td>\n",
       "      <td>2015-04-02</td>\n",
       "      <td>Tokyo、日本</td>\n",
       "      <td>Hello, guys! My name is Emily. \\r\\nI love to t...</td>\n",
       "      <td>within an hour</td>\n",
       "      <td>f</td>\n",
       "      <td>https://a0.muscache.com/im/pictures/user/6ab9c...</td>\n",
       "      <td>https://a0.muscache.com/im/pictures/user/6ab9c...</td>\n",
       "      <td>['email', 'phone', 'manual_offline', 'offline_...</td>\n",
       "      <td>t</td>\n",
       "      <td>f</td>\n",
       "      <td>Shinjuku City, Tōkyō-to, Japan</td>\n",
       "      <td>Shinjuku Ku</td>\n",
       "      <td>Shinjuku City</td>\n",
       "      <td>Tōkyō-to</td>\n",
       "      <td>160-0022</td>\n",
       "      <td>Tokyo</td>\n",
       "      <td>Shinjuku City, Japan</td>\n",
       "      <td>JP</td>\n",
       "      <td>Japan</td>\n",
       "      <td>t</td>\n",
       "      <td>House</td>\n",
       "      <td>Entire home/apt</td>\n",
       "      <td>Real Bed</td>\n",
       "      <td>{TV,Wifi,\"Air conditioning\",Kitchen,Heating,Wa...</td>\n",
       "      <td>1</td>\n",
       "      <td>1125</td>\n",
       "      <td>3 months ago</td>\n",
       "      <td>t</td>\n",
       "      <td>2020-06-26</td>\n",
       "      <td>t</td>\n",
       "      <td>t</td>\n",
       "      <td>f</td>\n",
       "      <td>strict_14_with_grace_period</td>\n",
       "      <td>f</td>\n",
       "      <td>f</td>\n",
       "      <td>2020-04-03</td>\n",
       "      <td>2020-04-30</td>\n",
       "      <td>35.701</td>\n",
       "      <td>139.712</td>\n",
       "      <td>1.000</td>\n",
       "      <td>192.422</td>\n",
       "      <td>28.800</td>\n",
       "      <td>1.000</td>\n",
       "      <td>1125.000</td>\n",
       "      <td>7</td>\n",
       "      <td>3</td>\n",
       "      <td>1</td>\n",
       "      <td>1</td>\n",
       "      <td>1125</td>\n",
       "      <td>1125</td>\n",
       "      <td>26</td>\n",
       "      <td>42</td>\n",
       "      <td>67</td>\n",
       "      <td>197</td>\n",
       "      <td>2</td>\n",
       "      <td>2</td>\n",
       "      <td>19</td>\n",
       "      <td>18</td>\n",
       "      <td>3</td>\n",
       "      <td>1</td>\n",
       "      <td>1</td>\n",
       "      <td>0</td>\n",
       "      <td>24</td>\n",
       "      <td>24</td>\n",
       "      <td>0.000</td>\n",
       "      <td>9.000</td>\n",
       "      <td>8.000</td>\n",
       "      <td>8.000</td>\n",
       "      <td>10.000</td>\n",
       "      <td>10.000</td>\n",
       "      <td>8.000</td>\n",
       "      <td>0.710</td>\n",
       "      <td>100.000</td>\n",
       "      <td>99.000</td>\n",
       "      <td>100.000</td>\n",
       "      <td>96.000</td>\n",
       "    </tr>\n",
       "  </tbody>\n",
       "</table>\n",
       "</div>"
      ],
      "text/plain": [
       "             id                            listing_url       scrape_id  \\\n",
       "5866   31000095  https://www.airbnb.com/rooms/31000095  20200625032351   \n",
       "13341  42388049  https://www.airbnb.com/rooms/42388049  20200625032351   \n",
       "\n",
       "      last_scraped                                              name  \\\n",
       "5866    2020-06-26   Shinjuku  JR Shin-okubo sta. 3mins Homely House   \n",
       "13341   2020-06-26  MUMU) Tokyo's premier center Shinjuku! Free WIFI   \n",
       "\n",
       "                                                 summary  \\\n",
       "5866   The district Shinjuku area,nearby JR Shin-okub...   \n",
       "13341  ** Discount for May&June! ** Duplex Apartment ...   \n",
       "\n",
       "                                                   space  \\\n",
       "5866   Three-storey building, four rooms: The first f...   \n",
       "13341  It is located a 7-minute walk from Higashi-Shi...   \n",
       "\n",
       "                                             description experiences_offered  \\\n",
       "5866   The district Shinjuku area,nearby JR Shin-okub...                none   \n",
       "13341  ** Discount for May&June! ** Duplex Apartment ...                none   \n",
       "\n",
       "                                   neighborhood_overview  \\\n",
       "5866   Shin-Okubo Station is famous for its Korean ci...   \n",
       "13341  The best thing of my place is the accessibilit...   \n",
       "\n",
       "                                                   notes  \\\n",
       "5866   Basically check in time at 16:00 / check out t...   \n",
       "13341  EASY Check-in and Checkout: Happy to be flexib...   \n",
       "\n",
       "                                                 transit  \\\n",
       "5866   ◎ There are two nearest stations, namely Shin-...   \n",
       "13341  Higashi Shinjuku station - 7mins on foot. JR S...   \n",
       "\n",
       "                                                  access  \\\n",
       "5866   The new decoration and equipment, we hope you ...   \n",
       "13341  You will have full kitchen with everything you...   \n",
       "\n",
       "                                             interaction house_rules  \\\n",
       "5866   Any problem in Tokyo can provide assistance du...     Unknown   \n",
       "13341  I am more than willing to help you out if you ...     Unknown   \n",
       "\n",
       "                                             picture_url   host_id  \\\n",
       "5866   https://a0.muscache.com/im/pictures/92e9a30d-a...  23641660   \n",
       "13341  https://a0.muscache.com/im/pictures/c5606851-1...  30451776   \n",
       "\n",
       "                                         host_url host_name  host_since  \\\n",
       "5866   https://www.airbnb.com/users/show/23641660      Airi  2014-11-12   \n",
       "13341  https://www.airbnb.com/users/show/30451776     Emily  2015-04-02   \n",
       "\n",
       "               host_location  \\\n",
       "5866   Toshima, Tokyo, Japan   \n",
       "13341               Tokyo、日本   \n",
       "\n",
       "                                              host_about host_response_time  \\\n",
       "5866                                             Unknown     within an hour   \n",
       "13341  Hello, guys! My name is Emily. \\r\\nI love to t...     within an hour   \n",
       "\n",
       "      host_is_superhost                                 host_thumbnail_url  \\\n",
       "5866                  f  https://a0.muscache.com/im/users/23641660/prof...   \n",
       "13341                 f  https://a0.muscache.com/im/pictures/user/6ab9c...   \n",
       "\n",
       "                                        host_picture_url  \\\n",
       "5866   https://a0.muscache.com/im/users/23641660/prof...   \n",
       "13341  https://a0.muscache.com/im/pictures/user/6ab9c...   \n",
       "\n",
       "                                      host_verifications host_has_profile_pic  \\\n",
       "5866   ['email', 'phone', 'jumio', 'selfie', 'governm...                    t   \n",
       "13341  ['email', 'phone', 'manual_offline', 'offline_...                    t   \n",
       "\n",
       "      host_identity_verified                          street  \\\n",
       "5866                       f          Shinjuku, Tokyo, Japan   \n",
       "13341                      f  Shinjuku City, Tōkyō-to, Japan   \n",
       "\n",
       "      neighbourhood_cleansed           city     state   zipcode market  \\\n",
       "5866             Shinjuku Ku       Shinjuku     Tokyo  169-0073  Tokyo   \n",
       "13341            Shinjuku Ku  Shinjuku City  Tōkyō-to  160-0022  Tokyo   \n",
       "\n",
       "             smart_location country_code country is_location_exact  \\\n",
       "5866        Shinjuku, Japan           JP   Japan                 t   \n",
       "13341  Shinjuku City, Japan           JP   Japan                 t   \n",
       "\n",
       "      property_type        room_type  bed_type  \\\n",
       "5866          House  Entire home/apt  Real Bed   \n",
       "13341         House  Entire home/apt  Real Bed   \n",
       "\n",
       "                                               amenities minimum_nights  \\\n",
       "5866   {TV,Wifi,\"Air conditioning\",Kitchen,Heating,Wa...              2   \n",
       "13341  {TV,Wifi,\"Air conditioning\",Kitchen,Heating,Wa...              1   \n",
       "\n",
       "      maximum_nights calendar_updated has_availability calendar_last_scraped  \\\n",
       "5866            1125     3 months ago                t            2020-06-26   \n",
       "13341           1125     3 months ago                t            2020-06-26   \n",
       "\n",
       "      requires_license instant_bookable is_business_travel_ready  \\\n",
       "5866                 t                t                        f   \n",
       "13341                t                t                        f   \n",
       "\n",
       "               cancellation_policy require_guest_profile_picture  \\\n",
       "5866                      flexible                             f   \n",
       "13341  strict_14_with_grace_period                             f   \n",
       "\n",
       "      require_guest_phone_verification first_review last_review  latitude  \\\n",
       "5866                                 f   2019-02-26  2020-03-11    35.699   \n",
       "13341                                f   2020-04-03  2020-04-30    35.701   \n",
       "\n",
       "       longitude  bathrooms   price  extra_people  minimum_nights_avg_ntm  \\\n",
       "5866     139.698      2.000 605.050        20.582                   2.000   \n",
       "13341    139.712      1.000 192.422        28.800                   1.000   \n",
       "\n",
       "       maximum_nights_avg_ntm  accommodates  guests_included  \\\n",
       "5866                 1125.000            11                2   \n",
       "13341                1125.000             7                3   \n",
       "\n",
       "       minimum_minimum_nights  maximum_minimum_nights  minimum_maximum_nights  \\\n",
       "5866                        2                       2                    1125   \n",
       "13341                       1                       1                    1125   \n",
       "\n",
       "       maximum_maximum_nights  availability_30  availability_60  \\\n",
       "5866                     1125               26               46   \n",
       "13341                    1125               26               42   \n",
       "\n",
       "       availability_90  availability_365  number_of_reviews  \\\n",
       "5866                63               149                 19   \n",
       "13341               67               197                  2   \n",
       "\n",
       "       number_of_reviews_ltm  calculated_host_listings_count  \\\n",
       "5866                      13                               2   \n",
       "13341                      2                              19   \n",
       "\n",
       "       calculated_host_listings_count_entire_homes  bedrooms  beds  \\\n",
       "5866                                             2         4     7   \n",
       "13341                                           18         3     1   \n",
       "\n",
       "       calculated_host_listings_count_private_rooms  \\\n",
       "5866                                              0   \n",
       "13341                                             1   \n",
       "\n",
       "       calculated_host_listings_count_shared_rooms  host_listings_count  \\\n",
       "5866                                             0                   12   \n",
       "13341                                            0                   24   \n",
       "\n",
       "       host_total_listings_count  security_deposit  \\\n",
       "5866                          12           205.795   \n",
       "13341                         24             0.000   \n",
       "\n",
       "       review_scores_communication  review_scores_checkin  \\\n",
       "5866                         9.000                  9.000   \n",
       "13341                        9.000                  8.000   \n",
       "\n",
       "       review_scores_location  review_scores_value  review_scores_cleanliness  \\\n",
       "5866                   10.000                9.000                      9.000   \n",
       "13341                   8.000               10.000                     10.000   \n",
       "\n",
       "       review_scores_accuracy  reviews_per_month  host_acceptance_rate  \\\n",
       "5866                   10.000              1.170               100.000   \n",
       "13341                   8.000              0.710               100.000   \n",
       "\n",
       "       host_response_rate  review_scores_rating  cleaning_fee  \n",
       "5866              100.000                91.000        82.320  \n",
       "13341              99.000               100.000        96.000  "
      ]
     },
     "execution_count": 114,
     "metadata": {},
     "output_type": "execute_result"
    }
   ],
   "source": [
    "df.head(2)"
   ]
  },
  {
   "cell_type": "code",
   "execution_count": 115,
   "metadata": {},
   "outputs": [
    {
     "data": {
      "text/plain": [
       "<pandas.core.groupby.generic.DataFrameGroupBy object at 0x00000212530AD490>"
      ]
     },
     "execution_count": 115,
     "metadata": {},
     "output_type": "execute_result"
    }
   ],
   "source": [
    "# first groupby\n",
    "group_rooms = df.groupby('room_type')\n",
    "group_rooms"
   ]
  },
  {
   "cell_type": "code",
   "execution_count": 116,
   "metadata": {},
   "outputs": [
    {
     "data": {
      "text/plain": [
       "<pandas.core.groupby.generic.SeriesGroupBy object at 0x00000212530AD8B0>"
      ]
     },
     "execution_count": 116,
     "metadata": {},
     "output_type": "execute_result"
    }
   ],
   "source": [
    "# select one column\n",
    "a_column = group_rooms['accommodates']\n",
    "a_column"
   ]
  },
  {
   "cell_type": "code",
   "execution_count": 117,
   "metadata": {},
   "outputs": [
    {
     "data": {
      "text/plain": [
       "room_type\n",
       "Entire home/apt    20\n",
       "Hotel room         16\n",
       "Private room       16\n",
       "Shared room        16\n",
       "Name: accommodates, dtype: int32"
      ]
     },
     "execution_count": 117,
     "metadata": {},
     "output_type": "execute_result"
    }
   ],
   "source": [
    "# perform a computation on the column\n",
    "a_column.max()"
   ]
  },
  {
   "cell_type": "code",
   "execution_count": 118,
   "metadata": {
    "scrolled": true
   },
   "outputs": [
    {
     "data": {
      "text/plain": [
       "room_type        accommodates\n",
       "Entire home/apt  2              0.277\n",
       "                 4              0.248\n",
       "                 6              0.129\n",
       "                 3              0.103\n",
       "                 8              0.069\n",
       "                 5              0.059\n",
       "                 10             0.030\n",
       "                 7              0.028\n",
       "                 12             0.013\n",
       "                 9              0.013\n",
       "                 16             0.010\n",
       "                 1              0.007\n",
       "                 11             0.005\n",
       "                 14             0.004\n",
       "                 13             0.003\n",
       "                 15             0.002\n",
       "                 18             0.000\n",
       "                 20             0.000\n",
       "Hotel room       2              0.366\n",
       "                 1              0.234\n",
       "                 4              0.149\n",
       "                 3              0.104\n",
       "                 6              0.060\n",
       "                 5              0.028\n",
       "                 16             0.019\n",
       "                 7              0.015\n",
       "                 8              0.010\n",
       "                 10             0.007\n",
       "                 9              0.002\n",
       "                 11             0.002\n",
       "                 12             0.002\n",
       "                 14             0.002\n",
       "                 13             0.001\n",
       "                 15             0.001\n",
       "Private room     2              0.608\n",
       "                 1              0.136\n",
       "                 4              0.088\n",
       "                 3              0.087\n",
       "                 6              0.023\n",
       "                 5              0.017\n",
       "                 16             0.011\n",
       "                 8              0.010\n",
       "                 7              0.006\n",
       "                 12             0.005\n",
       "                 10             0.004\n",
       "                 9              0.003\n",
       "                 11             0.001\n",
       "                 14             0.001\n",
       "                 15             0.001\n",
       "                 13             0.001\n",
       "Shared room      1              0.555\n",
       "                 2              0.204\n",
       "                 4              0.053\n",
       "                 6              0.036\n",
       "                 16             0.034\n",
       "                 3              0.031\n",
       "                 9              0.024\n",
       "                 8              0.020\n",
       "                 5              0.014\n",
       "                 10             0.012\n",
       "                 12             0.010\n",
       "                 7              0.002\n",
       "                 11             0.002\n",
       "                 14             0.002\n",
       "                 15             0.002\n",
       "Name: accommodates, dtype: float64"
      ]
     },
     "execution_count": 118,
     "metadata": {},
     "output_type": "execute_result"
    }
   ],
   "source": [
    "# you can call other pandas functions on that same column\n",
    "# here is the percentage of people each room accommodates\n",
    "a_column.value_counts(normalize=True)"
   ]
  },
  {
   "cell_type": "code",
   "execution_count": 119,
   "metadata": {},
   "outputs": [
    {
     "data": {
      "text/html": [
       "<div>\n",
       "<style scoped>\n",
       "    .dataframe tbody tr th:only-of-type {\n",
       "        vertical-align: middle;\n",
       "    }\n",
       "\n",
       "    .dataframe tbody tr th {\n",
       "        vertical-align: top;\n",
       "    }\n",
       "\n",
       "    .dataframe thead th {\n",
       "        text-align: right;\n",
       "    }\n",
       "</style>\n",
       "<table border=\"1\" class=\"dataframe\">\n",
       "  <thead>\n",
       "    <tr style=\"text-align: right;\">\n",
       "      <th></th>\n",
       "      <th>count</th>\n",
       "      <th>mean</th>\n",
       "      <th>std</th>\n",
       "      <th>min</th>\n",
       "      <th>25%</th>\n",
       "      <th>50%</th>\n",
       "      <th>75%</th>\n",
       "      <th>max</th>\n",
       "    </tr>\n",
       "    <tr>\n",
       "      <th>room_type</th>\n",
       "      <th></th>\n",
       "      <th></th>\n",
       "      <th></th>\n",
       "      <th></th>\n",
       "      <th></th>\n",
       "      <th></th>\n",
       "      <th></th>\n",
       "      <th></th>\n",
       "    </tr>\n",
       "  </thead>\n",
       "  <tbody>\n",
       "    <tr>\n",
       "      <th>Entire home/apt</th>\n",
       "      <td>30391.000</td>\n",
       "      <td>216.437</td>\n",
       "      <td>580.246</td>\n",
       "      <td>0.000</td>\n",
       "      <td>58.862</td>\n",
       "      <td>96.317</td>\n",
       "      <td>185.162</td>\n",
       "      <td>17812.729</td>\n",
       "    </tr>\n",
       "    <tr>\n",
       "      <th>Hotel room</th>\n",
       "      <td>1049.000</td>\n",
       "      <td>226.201</td>\n",
       "      <td>765.006</td>\n",
       "      <td>12.298</td>\n",
       "      <td>49.237</td>\n",
       "      <td>94.154</td>\n",
       "      <td>162.912</td>\n",
       "      <td>8639.712</td>\n",
       "    </tr>\n",
       "    <tr>\n",
       "      <th>Private room</th>\n",
       "      <td>7715.000</td>\n",
       "      <td>85.440</td>\n",
       "      <td>392.487</td>\n",
       "      <td>0.000</td>\n",
       "      <td>27.827</td>\n",
       "      <td>43.037</td>\n",
       "      <td>73.731</td>\n",
       "      <td>18510.555</td>\n",
       "    </tr>\n",
       "    <tr>\n",
       "      <th>Shared room</th>\n",
       "      <td>587.000</td>\n",
       "      <td>50.800</td>\n",
       "      <td>115.105</td>\n",
       "      <td>8.576</td>\n",
       "      <td>21.348</td>\n",
       "      <td>28.694</td>\n",
       "      <td>37.910</td>\n",
       "      <td>1228.531</td>\n",
       "    </tr>\n",
       "  </tbody>\n",
       "</table>\n",
       "</div>"
      ],
      "text/plain": [
       "                    count    mean     std    min    25%    50%     75%  \\\n",
       "room_type                                                                \n",
       "Entire home/apt 30391.000 216.437 580.246  0.000 58.862 96.317 185.162   \n",
       "Hotel room       1049.000 226.201 765.006 12.298 49.237 94.154 162.912   \n",
       "Private room     7715.000  85.440 392.487  0.000 27.827 43.037  73.731   \n",
       "Shared room       587.000  50.800 115.105  8.576 21.348 28.694  37.910   \n",
       "\n",
       "                      max  \n",
       "room_type                  \n",
       "Entire home/apt 17812.729  \n",
       "Hotel room       8639.712  \n",
       "Private room    18510.555  \n",
       "Shared room      1228.531  "
      ]
     },
     "execution_count": 119,
     "metadata": {},
     "output_type": "execute_result"
    }
   ],
   "source": [
    "# you can also describe a column by the categories of your groupby object\n",
    "group_rooms['price'].describe()"
   ]
  },
  {
   "cell_type": "code",
   "execution_count": 120,
   "metadata": {},
   "outputs": [
    {
     "data": {
      "text/html": [
       "<div>\n",
       "<style scoped>\n",
       "    .dataframe tbody tr th:only-of-type {\n",
       "        vertical-align: middle;\n",
       "    }\n",
       "\n",
       "    .dataframe tbody tr th {\n",
       "        vertical-align: top;\n",
       "    }\n",
       "\n",
       "    .dataframe thead th {\n",
       "        text-align: right;\n",
       "    }\n",
       "</style>\n",
       "<table border=\"1\" class=\"dataframe\">\n",
       "  <thead>\n",
       "    <tr style=\"text-align: right;\">\n",
       "      <th></th>\n",
       "      <th>mean</th>\n",
       "      <th>count</th>\n",
       "      <th>max</th>\n",
       "      <th>min</th>\n",
       "      <th>var</th>\n",
       "      <th>std</th>\n",
       "    </tr>\n",
       "    <tr>\n",
       "      <th>room_type</th>\n",
       "      <th></th>\n",
       "      <th></th>\n",
       "      <th></th>\n",
       "      <th></th>\n",
       "      <th></th>\n",
       "      <th></th>\n",
       "    </tr>\n",
       "  </thead>\n",
       "  <tbody>\n",
       "    <tr>\n",
       "      <th>Entire home/apt</th>\n",
       "      <td>43.209</td>\n",
       "      <td>30391</td>\n",
       "      <td>3146.040</td>\n",
       "      <td>0.000</td>\n",
       "      <td>2019.101</td>\n",
       "      <td>44.934</td>\n",
       "    </tr>\n",
       "    <tr>\n",
       "      <th>Hotel room</th>\n",
       "      <td>13.563</td>\n",
       "      <td>1049</td>\n",
       "      <td>288.000</td>\n",
       "      <td>0.000</td>\n",
       "      <td>1030.712</td>\n",
       "      <td>32.105</td>\n",
       "    </tr>\n",
       "    <tr>\n",
       "      <th>Private room</th>\n",
       "      <td>21.252</td>\n",
       "      <td>7715</td>\n",
       "      <td>2468.000</td>\n",
       "      <td>0.000</td>\n",
       "      <td>1960.024</td>\n",
       "      <td>44.272</td>\n",
       "    </tr>\n",
       "    <tr>\n",
       "      <th>Shared room</th>\n",
       "      <td>10.826</td>\n",
       "      <td>587</td>\n",
       "      <td>291.300</td>\n",
       "      <td>0.000</td>\n",
       "      <td>416.374</td>\n",
       "      <td>20.405</td>\n",
       "    </tr>\n",
       "  </tbody>\n",
       "</table>\n",
       "</div>"
      ],
      "text/plain": [
       "                  mean  count      max   min      var    std\n",
       "room_type                                                   \n",
       "Entire home/apt 43.209  30391 3146.040 0.000 2019.101 44.934\n",
       "Hotel room      13.563   1049  288.000 0.000 1030.712 32.105\n",
       "Private room    21.252   7715 2468.000 0.000 1960.024 44.272\n",
       "Shared room     10.826    587  291.300 0.000  416.374 20.405"
      ]
     },
     "execution_count": 120,
     "metadata": {},
     "output_type": "execute_result"
    }
   ],
   "source": [
    "# in addition, you can be as specific as you want when specifying your aggregation methods\n",
    "group_rooms['cleaning_fee'].agg(['mean', 'count', 'max', 'min', 'var', 'std'])"
   ]
  },
  {
   "cell_type": "code",
   "execution_count": 121,
   "metadata": {},
   "outputs": [
    {
     "data": {
      "text/html": [
       "<div>\n",
       "<style scoped>\n",
       "    .dataframe tbody tr th:only-of-type {\n",
       "        vertical-align: middle;\n",
       "    }\n",
       "\n",
       "    .dataframe tbody tr th {\n",
       "        vertical-align: top;\n",
       "    }\n",
       "\n",
       "    .dataframe thead tr th {\n",
       "        text-align: left;\n",
       "    }\n",
       "\n",
       "    .dataframe thead tr:last-of-type th {\n",
       "        text-align: right;\n",
       "    }\n",
       "</style>\n",
       "<table border=\"1\" class=\"dataframe\">\n",
       "  <thead>\n",
       "    <tr>\n",
       "      <th></th>\n",
       "      <th colspan=\"6\" halign=\"left\">accommodates</th>\n",
       "      <th colspan=\"6\" halign=\"left\">beds</th>\n",
       "    </tr>\n",
       "    <tr>\n",
       "      <th></th>\n",
       "      <th>mean</th>\n",
       "      <th>count</th>\n",
       "      <th>max</th>\n",
       "      <th>min</th>\n",
       "      <th>var</th>\n",
       "      <th>std</th>\n",
       "      <th>mean</th>\n",
       "      <th>count</th>\n",
       "      <th>max</th>\n",
       "      <th>min</th>\n",
       "      <th>var</th>\n",
       "      <th>std</th>\n",
       "    </tr>\n",
       "    <tr>\n",
       "      <th>room_type</th>\n",
       "      <th></th>\n",
       "      <th></th>\n",
       "      <th></th>\n",
       "      <th></th>\n",
       "      <th></th>\n",
       "      <th></th>\n",
       "      <th></th>\n",
       "      <th></th>\n",
       "      <th></th>\n",
       "      <th></th>\n",
       "      <th></th>\n",
       "      <th></th>\n",
       "    </tr>\n",
       "  </thead>\n",
       "  <tbody>\n",
       "    <tr>\n",
       "      <th>Entire home/apt</th>\n",
       "      <td>4.596</td>\n",
       "      <td>30391</td>\n",
       "      <td>20</td>\n",
       "      <td>1</td>\n",
       "      <td>7.708</td>\n",
       "      <td>2.776</td>\n",
       "      <td>2.722</td>\n",
       "      <td>30391</td>\n",
       "      <td>56</td>\n",
       "      <td>0</td>\n",
       "      <td>4.418</td>\n",
       "      <td>2.102</td>\n",
       "    </tr>\n",
       "    <tr>\n",
       "      <th>Hotel room</th>\n",
       "      <td>3.040</td>\n",
       "      <td>1049</td>\n",
       "      <td>16</td>\n",
       "      <td>1</td>\n",
       "      <td>6.945</td>\n",
       "      <td>2.635</td>\n",
       "      <td>2.286</td>\n",
       "      <td>1049</td>\n",
       "      <td>36</td>\n",
       "      <td>0</td>\n",
       "      <td>7.149</td>\n",
       "      <td>2.674</td>\n",
       "    </tr>\n",
       "    <tr>\n",
       "      <th>Private room</th>\n",
       "      <td>2.644</td>\n",
       "      <td>7715</td>\n",
       "      <td>16</td>\n",
       "      <td>1</td>\n",
       "      <td>4.542</td>\n",
       "      <td>2.131</td>\n",
       "      <td>1.803</td>\n",
       "      <td>7715</td>\n",
       "      <td>50</td>\n",
       "      <td>0</td>\n",
       "      <td>7.880</td>\n",
       "      <td>2.807</td>\n",
       "    </tr>\n",
       "    <tr>\n",
       "      <th>Shared room</th>\n",
       "      <td>2.796</td>\n",
       "      <td>587</td>\n",
       "      <td>16</td>\n",
       "      <td>1</td>\n",
       "      <td>11.962</td>\n",
       "      <td>3.459</td>\n",
       "      <td>3.376</td>\n",
       "      <td>587</td>\n",
       "      <td>40</td>\n",
       "      <td>0</td>\n",
       "      <td>20.109</td>\n",
       "      <td>4.484</td>\n",
       "    </tr>\n",
       "  </tbody>\n",
       "</table>\n",
       "</div>"
      ],
      "text/plain": [
       "                accommodates                              beds                 \\\n",
       "                        mean  count max min    var   std  mean  count max min   \n",
       "room_type                                                                       \n",
       "Entire home/apt        4.596  30391  20   1  7.708 2.776 2.722  30391  56   0   \n",
       "Hotel room             3.040   1049  16   1  6.945 2.635 2.286   1049  36   0   \n",
       "Private room           2.644   7715  16   1  4.542 2.131 1.803   7715  50   0   \n",
       "Shared room            2.796    587  16   1 11.962 3.459 3.376    587  40   0   \n",
       "\n",
       "                              \n",
       "                   var   std  \n",
       "room_type                     \n",
       "Entire home/apt  4.418 2.102  \n",
       "Hotel room       7.149 2.674  \n",
       "Private room     7.880 2.807  \n",
       "Shared room     20.109 4.484  "
      ]
     },
     "execution_count": 121,
     "metadata": {},
     "output_type": "execute_result"
    }
   ],
   "source": [
    "# multiple columns will give you multiple levels between your columns and aggregations\n",
    "group_rooms[['accommodates', 'beds']].agg(['mean', 'count', 'max', 'min', 'var', 'std'])"
   ]
  },
  {
   "cell_type": "code",
   "execution_count": 122,
   "metadata": {},
   "outputs": [
    {
     "data": {
      "text/plain": [
       "room_type        cancellation_policy        \n",
       "Entire home/apt  flexible                       567\n",
       "                 luxury_moderate                  0\n",
       "                 luxury_super_strict_95           0\n",
       "                 moderate                       480\n",
       "                 strict                          22\n",
       "                 strict_14_with_grace_period    546\n",
       "                 super_strict_30                109\n",
       "                 super_strict_60                143\n",
       "Hotel room       flexible                       164\n",
       "                 moderate                       407\n",
       "                 strict_14_with_grace_period    222\n",
       "                 super_strict_30                 17\n",
       "                 super_strict_60                 16\n",
       "Private room     flexible                       290\n",
       "                 moderate                       529\n",
       "                 strict                          15\n",
       "                 strict_14_with_grace_period    319\n",
       "                 super_strict_30                  8\n",
       "Shared room      flexible                       299\n",
       "                 moderate                       207\n",
       "                 strict_14_with_grace_period    264\n",
       "Name: number_of_reviews, dtype: int32"
      ]
     },
     "execution_count": 122,
     "metadata": {},
     "output_type": "execute_result"
    }
   ],
   "source": [
    "# you can also get multiple levels on the indeces with the groupby call\n",
    "rooms_cancel_policy = df.groupby(['room_type', 'cancellation_policy'])\n",
    "rooms_cancel_policy['number_of_reviews'].max()"
   ]
  },
  {
   "cell_type": "code",
   "execution_count": 123,
   "metadata": {},
   "outputs": [
    {
     "data": {
      "text/html": [
       "<div>\n",
       "<style scoped>\n",
       "    .dataframe tbody tr th:only-of-type {\n",
       "        vertical-align: middle;\n",
       "    }\n",
       "\n",
       "    .dataframe tbody tr th {\n",
       "        vertical-align: top;\n",
       "    }\n",
       "\n",
       "    .dataframe thead th {\n",
       "        text-align: right;\n",
       "    }\n",
       "</style>\n",
       "<table border=\"1\" class=\"dataframe\">\n",
       "  <thead>\n",
       "    <tr style=\"text-align: right;\">\n",
       "      <th></th>\n",
       "      <th></th>\n",
       "      <th>price</th>\n",
       "      <th>cleaning_fee</th>\n",
       "      <th>security_deposit</th>\n",
       "      <th>extra_people</th>\n",
       "    </tr>\n",
       "    <tr>\n",
       "      <th>host_identity_verified</th>\n",
       "      <th>instant_bookable</th>\n",
       "      <th></th>\n",
       "      <th></th>\n",
       "      <th></th>\n",
       "      <th></th>\n",
       "    </tr>\n",
       "  </thead>\n",
       "  <tbody>\n",
       "    <tr>\n",
       "      <th rowspan=\"2\" valign=\"top\">f</th>\n",
       "      <th>f</th>\n",
       "      <td>157.329</td>\n",
       "      <td>27.765</td>\n",
       "      <td>9255.000</td>\n",
       "      <td>0.000</td>\n",
       "    </tr>\n",
       "    <tr>\n",
       "      <th>t</th>\n",
       "      <td>218.207</td>\n",
       "      <td>31.680</td>\n",
       "      <td>5376.000</td>\n",
       "      <td>0.000</td>\n",
       "    </tr>\n",
       "    <tr>\n",
       "      <th rowspan=\"2\" valign=\"top\">t</th>\n",
       "      <th>f</th>\n",
       "      <td>148.096</td>\n",
       "      <td>28.800</td>\n",
       "      <td>5351.426</td>\n",
       "      <td>0.000</td>\n",
       "    </tr>\n",
       "    <tr>\n",
       "      <th>t</th>\n",
       "      <td>179.653</td>\n",
       "      <td>30.788</td>\n",
       "      <td>5259.715</td>\n",
       "      <td>0.000</td>\n",
       "    </tr>\n",
       "  </tbody>\n",
       "</table>\n",
       "</div>"
      ],
      "text/plain": [
       "                                          price  cleaning_fee  \\\n",
       "host_identity_verified instant_bookable                         \n",
       "f                      f                157.329        27.765   \n",
       "                       t                218.207        31.680   \n",
       "t                      f                148.096        28.800   \n",
       "                       t                179.653        30.788   \n",
       "\n",
       "                                         security_deposit  extra_people  \n",
       "host_identity_verified instant_bookable                                  \n",
       "f                      f                         9255.000         0.000  \n",
       "                       t                         5376.000         0.000  \n",
       "t                      f                         5351.426         0.000  \n",
       "                       t                         5259.715         0.000  "
      ]
     },
     "execution_count": 123,
     "metadata": {},
     "output_type": "execute_result"
    }
   ],
   "source": [
    "# we can also aggregate specific columns\n",
    "specific_group = df.groupby(['host_identity_verified', 'instant_bookable'])\n",
    "specific_group.agg({\n",
    "    'price':'mean',\n",
    "    'cleaning_fee':'median',\n",
    "    'security_deposit': 'max',\n",
    "    'extra_people': 'min'\n",
    "})"
   ]
  },
  {
   "cell_type": "markdown",
   "metadata": {},
   "source": [
    "## Exercise\n",
    "\n",
    "- Create a pivot table with at least one index variable, two columns, and 3 aggregation methods."
   ]
  },
  {
   "cell_type": "code",
   "execution_count": null,
   "metadata": {},
   "outputs": [],
   "source": []
  },
  {
   "cell_type": "markdown",
   "metadata": {},
   "source": [
    "## Exercise\n",
    "\n",
    "- Create a pivot table with a multi-index, one quantitative variable as the values, and 1 aggregation method."
   ]
  },
  {
   "cell_type": "code",
   "execution_count": null,
   "metadata": {},
   "outputs": [],
   "source": []
  },
  {
   "cell_type": "markdown",
   "metadata": {},
   "source": [
    "## Exercise\n",
    "\n",
    "- Create a groupby object with 4 aggregation methods for 4 different columns."
   ]
  },
  {
   "cell_type": "code",
   "execution_count": null,
   "metadata": {},
   "outputs": [],
   "source": []
  },
  {
   "cell_type": "markdown",
   "metadata": {},
   "source": [
    "## Exercise\n",
    "\n",
    "- Create a groupby object with a 2-level index, 3 columns, and 1 aggregation method."
   ]
  },
  {
   "cell_type": "code",
   "execution_count": null,
   "metadata": {},
   "outputs": [],
   "source": []
  },
  {
   "cell_type": "markdown",
   "metadata": {},
   "source": [
    "# 5. Summary"
   ]
  },
  {
   "cell_type": "markdown",
   "metadata": {},
   "source": [
    "We have covered a lot in this module, so let's go over a few of the things we covered\n",
    "\n",
    "- The three main branches of statistics, collecting, describing and inferring from data, at a high level\n",
    "- A variety of techniques to deal with missing data\n",
    "- The shape and form of how data, structured and unstructured, might be collected\n",
    "- Different approaches for collecting data through sampling, observation and experimentation\n",
    "- The characteristics of measures of central tendency and measures of variability and what each describes\n",
    "- In-depth descriptive statistics and how to calculate these with plain Python\n",
    "- We also covered a variety of aggregation, or cross-tabulation methods with `pivot_table()` and the `.groupby()` functions\n",
    "    - The best way to think of `.groupby()` is by stating: _for each \"category or group\" I'm interested in, show me \"x\" column(s) aggregated by \"z\" method\n",
    "    - The `pivot_table()` function provides us with a different kind of control over the way we cross-tabulate data"
   ]
  },
  {
   "cell_type": "markdown",
   "metadata": {},
   "source": [
    "# 6. References"
   ]
  },
  {
   "cell_type": "markdown",
   "metadata": {},
   "source": [
    "Herne, H., & Huff, D. (1973). _How to Lie with Statistics_. Applied Statistics, 22(3), 401. doi: 10.2307/2346789\n",
    "\n",
    "Downey, Allen B. _Think Stats: Exploratory Data Analysis in Python_. Green Tea Press, 2014.\n",
    "\n",
    "Lock, Robin H., et al. _Statistics: Unlocking the Power of Data_. John Wiley & Sons, 2019."
   ]
  },
  {
   "cell_type": "markdown",
   "metadata": {},
   "source": [
    "# 7. Feedback"
   ]
  },
  {
   "cell_type": "markdown",
   "metadata": {},
   "source": [
    "We would really appreciate it if you could please provide us with your feedback from this module by filling out a couple of question.\n",
    "\n",
    "> ## [Survey](https://docs.google.com/forms/d/e/1FAIpQLSex72vQxeZGB5OBooLJ_mDsSsdKw0vbejM-3zND2-i1fIBlSQ/viewform?usp=sf_link)"
   ]
  }
 ],
 "metadata": {
  "kernelspec": {
   "display_name": "Python 3",
   "language": "python",
   "name": "python3"
  },
  "language_info": {
   "codemirror_mode": {
    "name": "ipython",
    "version": 3
   },
   "file_extension": ".py",
   "mimetype": "text/x-python",
   "name": "python",
   "nbconvert_exporter": "python",
   "pygments_lexer": "ipython3",
   "version": "3.8.3"
  }
 },
 "nbformat": 4,
 "nbformat_minor": 4
}
